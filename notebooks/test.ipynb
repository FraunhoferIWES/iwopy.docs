{
 "cells": [
  {
   "cell_type": "markdown",
   "metadata": {},
   "source": [
    "# A Test"
   ]
  },
  {
   "cell_type": "code",
   "execution_count": 1,
   "metadata": {
    "execution": {
     "iopub.execute_input": "2022-10-18T12:26:56.532840Z",
     "iopub.status.busy": "2022-10-18T12:26:56.530265Z",
     "iopub.status.idle": "2022-10-18T12:26:56.557846Z",
     "shell.execute_reply": "2022-10-18T12:26:56.555104Z"
    }
   },
   "outputs": [
    {
     "name": "stdout",
     "output_type": "stream",
     "text": [
      "test\n"
     ]
    }
   ],
   "source": [
    "print(\"test\")"
   ]
  }
 ],
 "metadata": {
  "kernelspec": {
   "display_name": "Python 3.8.10 ('iwopy')",
   "language": "python",
   "name": "python3"
  },
  "language_info": {
   "codemirror_mode": {
    "name": "ipython",
    "version": 3
   },
   "file_extension": ".py",
   "mimetype": "text/x-python",
   "name": "python",
   "nbconvert_exporter": "python",
   "pygments_lexer": "ipython3",
   "version": "3.8.10"
  },
  "vscode": {
   "interpreter": {
    "hash": "ff3c0c69aad498ca9a50d1b22b22a3d193ba8cd2c9895dafd21d83a7aed366d2"
   }
  }
 },
 "nbformat": 4,
 "nbformat_minor": 2
}
