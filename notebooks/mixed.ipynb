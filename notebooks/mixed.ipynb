{
 "cells": [
  {
   "attachments": {},
   "cell_type": "markdown",
   "metadata": {},
   "source": [
    "# Mixed problems"
   ]
  },
  {
   "attachments": {},
   "cell_type": "markdown",
   "metadata": {},
   "source": [
    "The `pymoo` interface supports the solution of mixed integer/float problems via the genetic algorithm `MixedVariableGA`. Here we demonstrate this by maximizing the number if points that fit inside a circle and lie on a regular grid.\n",
    "\n",
    "These are the imports:"
   ]
  },
  {
   "cell_type": "code",
   "execution_count": 1,
   "metadata": {
    "execution": {
     "iopub.execute_input": "2023-04-14T11:45:35.309795Z",
     "iopub.status.busy": "2023-04-14T11:45:35.309402Z",
     "iopub.status.idle": "2023-04-14T11:45:35.683192Z",
     "shell.execute_reply": "2023-04-14T11:45:35.682554Z"
    }
   },
   "outputs": [],
   "source": [
    "import numpy as np\n",
    "import matplotlib.pyplot as plt\n",
    "\n",
    "from iwopy import Problem, Objective\n",
    "from iwopy.interfaces.pymoo import Optimizer_pymoo"
   ]
  },
  {
   "attachments": {},
   "cell_type": "markdown",
   "metadata": {},
   "source": [
    "The problem describes points on a regular grid of size `nx * ny`. Points that lie outside of the given radius will be marked by a `False` value in a boolean array called `valid`:"
   ]
  },
  {
   "cell_type": "code",
   "execution_count": 2,
   "metadata": {
    "execution": {
     "iopub.execute_input": "2023-04-14T11:45:35.686249Z",
     "iopub.status.busy": "2023-04-14T11:45:35.685708Z",
     "iopub.status.idle": "2023-04-14T11:45:35.723129Z",
     "shell.execute_reply": "2023-04-14T11:45:35.722385Z"
    }
   },
   "outputs": [],
   "source": [
    "class GridProblem(Problem):\n",
    "\n",
    "    def __init__(self, n_row_max, radius, min_dist, ctol=1e-3):\n",
    "        super().__init__(name=\"grid_problem\")\n",
    "\n",
    "        self.n_row_max = n_row_max\n",
    "        self.radius = float(radius)\n",
    "        self.min_dist = float(min_dist)\n",
    "        self.max_dist = 2*radius\n",
    "\n",
    "        self.xy = None\n",
    "        self.valid = None\n",
    "    \n",
    "    def initialize(self, verbosity=1):\n",
    "        super().initialize(verbosity)\n",
    "        self.apply_individual(self.initial_values_int(), self.initial_values_float())\n",
    "\n",
    "    def var_names_int(self):\n",
    "        return [\"nx\", \"ny\"]\n",
    "\n",
    "    def initial_values_int(self):\n",
    "        return [2, 2]\n",
    "\n",
    "    def min_values_int(self):\n",
    "        return [1, 1]\n",
    "\n",
    "    def max_values_int(self):\n",
    "        return [self.n_row_max, self.n_row_max]\n",
    "\n",
    "    def var_names_float(self):\n",
    "        return [\"x0\", \"y0\", \"dx\", \"dy\", \"alpha\"]\n",
    "\n",
    "    def initial_values_float(self):\n",
    "        return [0., 0., self.min_dist, self.min_dist, 0.]\n",
    "\n",
    "    def min_values_float(self):\n",
    "        return [-2*self.radius, -2*self.radius, self.min_dist, self.min_dist, 0.]\n",
    "\n",
    "    def max_values_float(self):\n",
    "        return [self.radius, self.radius, self.max_dist, self.max_dist, 90.]\n",
    "\n",
    "    def apply_individual(self, vars_int, vars_float):\n",
    "        \"\"\" Create points on a regular grid, and evaluate their validity \"\"\"\n",
    "\n",
    "        nx, ny = vars_int\n",
    "        x0, y0, dx, dy, alpha = vars_float\n",
    "\n",
    "        a = np.deg2rad(alpha)\n",
    "        nax = np.array([np.cos(a), np.sin(a), 0.])\n",
    "        naz = np.array([0., 0., 1.])\n",
    "        nay = np.cross(naz, nax)\n",
    "\n",
    "        self.xy = np.zeros((nx, ny, 2))\n",
    "        self.xy[:] = np.array([x0, y0])[None, None, :]\n",
    "        self.xy[:] += np.arange(nx)[:, None, None] * dx * nax[None, None, :2]\n",
    "        self.xy[:] += np.arange(ny)[None, :, None] * dy * nay[None, None, :2]\n",
    "\n",
    "        self.valid = np.linalg.norm(self.xy, axis=-1) <= self.radius\n",
    "\n",
    "        return self.xy, self.valid\n",
    "\n",
    "    def apply_population(self, vars_int, vars_float):\n",
    "        \"\"\" Create points on a regular grid, and evaluate their validity \"\"\"\n",
    "\n",
    "        n_pop = vars_int.shape[0]\n",
    "        nx = vars_int[:, 0]\n",
    "        ny = vars_int[:, 1]\n",
    "        x0 = vars_float[:, 0]\n",
    "        y0 = vars_float[:, 1]\n",
    "        dx = vars_float[:, 2]\n",
    "        dy = vars_float[:, 3]\n",
    "        alpha = vars_float[:, 4]\n",
    "\n",
    "        a = np.deg2rad(alpha)\n",
    "        nax = np.stack([np.cos(a), np.sin(a), np.zeros(a.shape)], axis=-1)\n",
    "        naz = np.zeros_like(nax)\n",
    "        naz[:, 2] = 1\n",
    "        nay = np.cross(naz, nax)\n",
    "\n",
    "        mx = np.max(nx)\n",
    "        my = np.max(ny)\n",
    "        self.xy = np.full((n_pop, mx, my, 2), -2*self.radius)\n",
    "        for i in range(n_pop):\n",
    "            self.xy[i, :nx[i], :ny[i]] = np.array([x0[i], y0[i]])[None, None, :]\n",
    "            self.xy[i, :nx[i], :ny[i]] += np.arange(nx[i])[:, None, None] * dx[i, None, None, None] * nax[i, None, None, :2]\n",
    "            self.xy[i, :nx[i], :ny[i]] += np.arange(ny[i])[None, :, None] * dy[i, None, None, None] * nay[i, None, None, :2]\n",
    "\n",
    "        self.valid = np.linalg.norm(self.xy, axis=-1) <= self.radius\n",
    "\n",
    "        return self.xy, self.valid\n",
    "\n",
    "    def get_fig(self, xy=None, valid=None):\n",
    "\n",
    "        if xy is None:\n",
    "            xy = self.xy\n",
    "        if valid is None:\n",
    "            valid = self.valid\n",
    "\n",
    "        nx, ny = xy.shape[:2]\n",
    "        xy = xy.reshape(nx*ny, 2)[valid.reshape(nx*ny)]\n",
    "\n",
    "        fig, ax = plt.subplots()\n",
    "        ax.scatter(xy[:, 0], xy[:, 1], color=\"orange\")\n",
    "        ax.add_patch(plt.Circle((0, 0), self.radius, color=\"darkred\", fill=False))\n",
    "        ax.set_aspect(\"equal\", adjustable=\"box\")\n",
    "        ax.set_xlabel(\"x\")\n",
    "        ax.set_ylabel(\"y\")\n",
    "        ax.set_title(f\"N = {len(xy)}, min_dist = {self.min_dist}\")\n",
    "\n",
    "        return fig"
   ]
  },
  {
   "attachments": {},
   "cell_type": "markdown",
   "metadata": {},
   "source": [
    "Notice that the `calculate_individual` and `calculate_population` functions return the current grid points and the validity array. This problem has two integer variables `nx` and `ny`, determining the number of grid points in x and y directions, respectively, and 5 float type variables.\n",
    "\n",
    "Our objective is the maximization of the total number of points within the circle:"
   ]
  },
  {
   "cell_type": "code",
   "execution_count": 3,
   "metadata": {
    "execution": {
     "iopub.execute_input": "2023-04-14T11:45:35.724981Z",
     "iopub.status.busy": "2023-04-14T11:45:35.724841Z",
     "iopub.status.idle": "2023-04-14T11:45:35.728265Z",
     "shell.execute_reply": "2023-04-14T11:45:35.727701Z"
    },
    "scrolled": true
   },
   "outputs": [],
   "source": [
    "class MaxN(Objective):\n",
    "    def __init__(self, problem):\n",
    "        super().__init__(problem, \"maxN\", vnames_int=problem.var_names_int(), \n",
    "            vnames_float=problem.var_names_float())\n",
    "\n",
    "    def n_components(self):\n",
    "        return 1\n",
    "\n",
    "    def maximize(self):\n",
    "        return [True]\n",
    "\n",
    "    def calc_individual(self, vars_int, vars_float, problem_results, cmpnts=None):\n",
    "        xy, valid = problem_results\n",
    "        return np.sum(valid)\n",
    "\n",
    "    def calc_population(self, vars_int, vars_float, problem_results, cmpnts=None):\n",
    "        xy, valid = problem_results\n",
    "        return np.sum(valid, axis=(1, 2))[:, None]"
   ]
  },
  {
   "attachments": {},
   "cell_type": "markdown",
   "metadata": {},
   "source": [
    "This objective makes use of the returned validity array. We can now solve this with the appropriate algorithm from `pymoo`:"
   ]
  },
  {
   "cell_type": "code",
   "execution_count": 4,
   "metadata": {
    "execution": {
     "iopub.execute_input": "2023-04-14T11:45:35.729971Z",
     "iopub.status.busy": "2023-04-14T11:45:35.729844Z",
     "iopub.status.idle": "2023-04-14T11:45:35.733337Z",
     "shell.execute_reply": "2023-04-14T11:45:35.732841Z"
    }
   },
   "outputs": [
    {
     "name": "stdout",
     "output_type": "stream",
     "text": [
      "Problem 'grid_problem' (GridProblem): Initializing\n",
      "--------------------------------------------------\n",
      "  n_vars_int   : 2\n",
      "  n_vars_float : 5\n",
      "--------------------------------------------------\n",
      "  n_objectives : 1\n",
      "  n_obj_cmptns : 1\n",
      "--------------------------------------------------\n",
      "  n_constraints: 0\n",
      "  n_con_cmptns : 0\n",
      "--------------------------------------------------\n"
     ]
    }
   ],
   "source": [
    "problem = GridProblem(n_row_max=1000, radius=5, min_dist=0.5)\n",
    "problem.add_objective(MaxN(problem))\n",
    "problem.initialize()"
   ]
  },
  {
   "cell_type": "code",
   "execution_count": 5,
   "metadata": {
    "execution": {
     "iopub.execute_input": "2023-04-14T11:45:35.735334Z",
     "iopub.status.busy": "2023-04-14T11:45:35.734979Z",
     "iopub.status.idle": "2023-04-14T11:45:35.739226Z",
     "shell.execute_reply": "2023-04-14T11:45:35.738749Z"
    }
   },
   "outputs": [
    {
     "name": "stdout",
     "output_type": "stream",
     "text": [
      "Initializing Optimizer_pymoo\n",
      "Selecting algorithm: MixedVariableGA (MixedVariableGA)\n",
      "\n",
      "Problem:\n",
      "--------\n",
      "  vectorize: True\n",
      "\n",
      "Algorithm:\n",
      "----------\n",
      "  type: MixedVariableGA\n",
      "  pop_size: 40\n",
      "  seed: 42\n",
      "\n",
      "Termination:\n",
      "------------\n",
      "  n_eval: 1000\n",
      "\n"
     ]
    }
   ],
   "source": [
    "solver = Optimizer_pymoo(\n",
    "    problem,\n",
    "    problem_pars=dict(\n",
    "        vectorize=True,\n",
    "    ),\n",
    "    algo_pars=dict(\n",
    "        type=\"MixedVariableGA\",\n",
    "        pop_size=40,\n",
    "        seed=42,\n",
    "    ),\n",
    "    setup_pars=dict(\n",
    "    ),\n",
    "    term_pars=('n_eval', 1000),\n",
    ")\n",
    "solver.initialize()\n",
    "solver.print_info()"
   ]
  },
  {
   "cell_type": "markdown",
   "metadata": {},
   "source": [
    "Here `tol` is an `IPOPT` parameter that defines the convergence tolerance. Now we are finally ready - let's solve the problem!"
   ]
  },
  {
   "cell_type": "code",
   "execution_count": 6,
   "metadata": {
    "execution": {
     "iopub.execute_input": "2023-04-14T11:45:35.741090Z",
     "iopub.status.busy": "2023-04-14T11:45:35.740812Z",
     "iopub.status.idle": "2023-04-14T11:45:55.146470Z",
     "shell.execute_reply": "2023-04-14T11:45:55.145990Z"
    },
    "scrolled": true
   },
   "outputs": [
    {
     "name": "stdout",
     "output_type": "stream",
     "text": [
      "=================================================\n",
      "n_gen  |  n_eval  |     f_avg     |     f_min    \n",
      "=================================================\n",
      "     1 |       40 | -3.100000E+00 | -1.800000E+01\n"
     ]
    },
    {
     "name": "stdout",
     "output_type": "stream",
     "text": [
      "     2 |       80 | -5.425000E+00 | -2.400000E+01\n"
     ]
    },
    {
     "name": "stdout",
     "output_type": "stream",
     "text": [
      "     3 |      120 | -1.132500E+01 | -5.100000E+01\n"
     ]
    },
    {
     "name": "stdout",
     "output_type": "stream",
     "text": [
      "     4 |      160 | -2.195000E+01 | -6.800000E+01\n"
     ]
    },
    {
     "name": "stdout",
     "output_type": "stream",
     "text": [
      "     5 |      200 | -3.755000E+01 | -1.120000E+02\n"
     ]
    },
    {
     "name": "stdout",
     "output_type": "stream",
     "text": [
      "     6 |      240 | -6.500000E+01 | -1.530000E+02\n"
     ]
    },
    {
     "name": "stdout",
     "output_type": "stream",
     "text": [
      "     7 |      280 | -9.782500E+01 | -1.710000E+02\n"
     ]
    },
    {
     "name": "stdout",
     "output_type": "stream",
     "text": [
      "     8 |      320 | -1.257500E+02 | -2.590000E+02\n"
     ]
    },
    {
     "name": "stdout",
     "output_type": "stream",
     "text": [
      "     9 |      360 | -1.531750E+02 | -2.590000E+02\n"
     ]
    },
    {
     "name": "stdout",
     "output_type": "stream",
     "text": [
      "    10 |      400 | -1.788000E+02 | -2.680000E+02\n"
     ]
    },
    {
     "name": "stdout",
     "output_type": "stream",
     "text": [
      "    11 |      440 | -2.088500E+02 | -2.740000E+02\n"
     ]
    },
    {
     "name": "stdout",
     "output_type": "stream",
     "text": [
      "    12 |      480 | -2.367500E+02 | -2.750000E+02\n"
     ]
    },
    {
     "name": "stdout",
     "output_type": "stream",
     "text": [
      "    13 |      520 | -2.557750E+02 | -2.750000E+02\n"
     ]
    },
    {
     "name": "stdout",
     "output_type": "stream",
     "text": [
      "    14 |      560 | -2.630750E+02 | -2.800000E+02\n"
     ]
    },
    {
     "name": "stdout",
     "output_type": "stream",
     "text": [
      "    15 |      600 | -2.696000E+02 | -3.120000E+02\n"
     ]
    },
    {
     "name": "stdout",
     "output_type": "stream",
     "text": [
      "    16 |      640 | -2.793250E+02 | -3.120000E+02\n"
     ]
    },
    {
     "name": "stdout",
     "output_type": "stream",
     "text": [
      "    17 |      680 | -2.868250E+02 | -3.120000E+02\n"
     ]
    },
    {
     "name": "stdout",
     "output_type": "stream",
     "text": [
      "    18 |      720 | -2.933250E+02 | -3.120000E+02\n"
     ]
    },
    {
     "name": "stdout",
     "output_type": "stream",
     "text": [
      "    19 |      760 | -2.991250E+02 | -3.120000E+02\n"
     ]
    },
    {
     "name": "stdout",
     "output_type": "stream",
     "text": [
      "    20 |      800 | -3.042500E+02 | -3.150000E+02\n"
     ]
    },
    {
     "name": "stdout",
     "output_type": "stream",
     "text": [
      "    21 |      840 | -3.078500E+02 | -3.150000E+02\n"
     ]
    },
    {
     "name": "stdout",
     "output_type": "stream",
     "text": [
      "    22 |      880 | -3.110000E+02 | -3.150000E+02\n"
     ]
    },
    {
     "name": "stdout",
     "output_type": "stream",
     "text": [
      "    23 |      920 | -3.125500E+02 | -3.150000E+02\n"
     ]
    },
    {
     "name": "stdout",
     "output_type": "stream",
     "text": [
      "    24 |      960 | -3.135250E+02 | -3.160000E+02\n"
     ]
    },
    {
     "name": "stdout",
     "output_type": "stream",
     "text": [
      "    25 |     1000 | -3.140250E+02 | -3.160000E+02\n"
     ]
    },
    {
     "name": "stdout",
     "output_type": "stream",
     "text": [
      "\n",
      "\n",
      "Optimizer_pymoo: Optimization run finished\n",
      "  Success: True\n",
      "  Best maxN = 316.0\n"
     ]
    }
   ],
   "source": [
    "results = solver.solve()\n",
    "solver.finalize(results)"
   ]
  },
  {
   "attachments": {},
   "cell_type": "markdown",
   "metadata": {},
   "source": [
    "These are the results:"
   ]
  },
  {
   "cell_type": "code",
   "execution_count": 7,
   "metadata": {
    "execution": {
     "iopub.execute_input": "2023-04-14T11:45:55.148716Z",
     "iopub.status.busy": "2023-04-14T11:45:55.148477Z",
     "iopub.status.idle": "2023-04-14T11:45:55.223990Z",
     "shell.execute_reply": "2023-04-14T11:45:55.223075Z"
    }
   },
   "outputs": [
    {
     "name": "stdout",
     "output_type": "stream",
     "text": [
      "Results problem 'grid_problem':\n",
      "--------------------------------\n",
      "  Integer variables:\n",
      "    0: nx = 721\n",
      "    1: ny = 337\n",
      "--------------------------------\n",
      "  Float variables:\n",
      "    0: x0    = -9.852999e+00\n",
      "    1: y0    = -8.461444e+00\n",
      "    2: dx    = 5.024268e-01\n",
      "    3: dy    = 5.000655e-01\n",
      "    4: alpha = 6.319982e+00\n",
      "--------------------------------\n",
      "  Objectives:\n",
      "    0: maxN = 3.160000e+02\n",
      "--------------------------------\n",
      "  Success: True\n",
      "--------------------------------\n",
      "\n"
     ]
    },
    {
     "data": {
      "image/png": "[encoded data removed]",
      "text/plain": [
       "<Figure size 640x480 with 1 Axes>"
      ]
     },
     "metadata": {},
     "output_type": "display_data"
    }
   ],
   "source": [
    "print(results)\n",
    "\n",
    "fig = problem.get_fig()\n",
    "plt.show()\n",
    "plt.close(fig)"
   ]
  },
  {
   "attachments": {},
   "cell_type": "markdown",
   "metadata": {},
   "source": [
    "Clearly the circle is fully filled with points on a regular grid."
   ]
  }
 ],
 "metadata": {
  "kernelspec": {
   "display_name": "Python 3",
   "language": "python",
   "name": "python3"
  },
  "language_info": {
   "codemirror_mode": {
    "name": "ipython",
    "version": 3
   },
   "file_extension": ".py",
   "mimetype": "text/x-python",
   "name": "python",
   "nbconvert_exporter": "python",
   "pygments_lexer": "ipython3",
   "version": "3.8.10"
  },
  "vscode": {
   "interpreter": {
    "hash": "31f2aee4e71d21fbe5cf8b01ff0e069b9275f58929596ceb00d14d90e3e16cd6"
   }
  }
 },
 "nbformat": 4,
 "nbformat_minor": 2
}
