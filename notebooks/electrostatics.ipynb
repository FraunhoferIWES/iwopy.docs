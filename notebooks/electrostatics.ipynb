{
 "cells": [
  {
   "cell_type": "markdown",
   "metadata": {},
   "source": [
    "# Electrostatic potential minimization"
   ]
  },
  {
   "cell_type": "markdown",
   "metadata": {},
   "source": [
    "The main purpose of `iwopy` is to be helpful when attacking more complicated optimization tasks than the minimization of simple analytical functions. As an example, we consider the minimization of an inverse distance type potential for a fully coupled system of $N$ particles in two dimensions. We can imagine such a system to be composed of $N$ individual point charges, each of them carrying the same electric unit charge. The potential that we want to minimize is then represented by\n",
    "$$\n",
    "V = \\sum_{i\\neq j} \\frac 1 {|\\mathrm r_i - \\mathrm r_j|} \\ , \\quad \\text{where} \\quad \\mathrm r_i = \\left( \\begin{array}{c} x_i \\\\ y_i \\end{array} \\right)\n",
    "$$\n",
    "denotes the two dimensional position vector of charge $i$ and the sum is over all unequal index pairs. This potential favours large distances between charges, hence we need to constrain them to a certain area for a meaningful solution. We confine them to a circle of radius $R$ by imposing $N$ constraints,\n",
    "$$\n",
    "|\\mathrm r_i| \\leq R \\ , \\quad \\text{for all} \\quad i = 0 \\ldots N-1 \\ .\n",
    "$$\n",
    "These are the required imports for this example:"
   ]
  },
  {
   "cell_type": "code",
   "execution_count": 1,
   "metadata": {
    "execution": {
     "iopub.execute_input": "2023-04-14T11:45:28.654353Z",
     "iopub.status.busy": "2023-04-14T11:45:28.653772Z",
     "iopub.status.idle": "2023-04-14T11:45:29.022403Z",
     "shell.execute_reply": "2023-04-14T11:45:29.021598Z"
    }
   },
   "outputs": [],
   "source": [
    "import numpy as np\n",
    "import matplotlib.pyplot as plt\n",
    "from iwopy import Problem, Objective, Constraint\n",
    "from iwopy.interfaces.pymoo import Optimizer_pymoo"
   ]
  },
  {
   "cell_type": "markdown",
   "metadata": {},
   "source": [
    "We start by creating a specific class that describes the variables of our problem:"
   ]
  },
  {
   "cell_type": "code",
   "execution_count": 2,
   "metadata": {
    "execution": {
     "iopub.execute_input": "2023-04-14T11:45:29.025044Z",
     "iopub.status.busy": "2023-04-14T11:45:29.024809Z",
     "iopub.status.idle": "2023-04-14T11:45:29.030819Z",
     "shell.execute_reply": "2023-04-14T11:45:29.030343Z"
    }
   },
   "outputs": [],
   "source": [
    "class ChargesProblem(Problem):\n",
    "    def __init__(self, xy_init, radius):\n",
    "        super().__init__(name=\"charges_problem\")\n",
    "        self.xy_init = xy_init\n",
    "        self.n_charges = len(xy_init)\n",
    "        self.radius = radius\n",
    "\n",
    "    def var_names_float(self):\n",
    "        \"\"\"Defines the variable names\"\"\"\n",
    "        vnames = []\n",
    "        for i in range(self.n_charges):\n",
    "            vnames += [f\"x{i}\", f\"y{i}\"]\n",
    "        return vnames\n",
    "\n",
    "    def initial_values_float(self):\n",
    "        \"\"\"Returns inital values, as given to constructor\"\"\"\n",
    "        return self.xy_init.reshape(2 * self.n_charges)\n",
    "\n",
    "    def min_values_float(self):\n",
    "        \"\"\"Minimal values for a square of size 2*radius\"\"\"\n",
    "        return np.full(2 * self.n_charges, -self.radius)\n",
    "\n",
    "    def max_values_float(self):\n",
    "        \"\"\"Maximal values for a square of size 2*radius\"\"\"\n",
    "        return np.full(2 * self.n_charges, self.radius)\n",
    "\n",
    "    def apply_individual(self, vars_int, vars_float):\n",
    "        \"\"\"Returns (x, y) variables for each charge\"\"\"\n",
    "        return vars_float.reshape(self.n_charges, 2)\n",
    "\n",
    "    def apply_population(self, vars_int, vars_float):\n",
    "        \"\"\"Returns (x, y) variables for each charge per individual\"\"\"\n",
    "        n_pop = len(vars_float)\n",
    "        return vars_float.reshape(n_pop, self.n_charges, 2)\n",
    "\n",
    "    def get_fig(self, xy):\n",
    "        \"\"\"Get a figure showing the charges locations\"\"\"\n",
    "        fig, ax = plt.subplots(figsize=(6, 6))\n",
    "        ax.scatter(xy[:, 0], xy[:, 1], color=\"orange\")\n",
    "        ax.add_patch(plt.Circle((0, 0), self.radius, color=\"darkred\", fill=False))\n",
    "        ax.set_aspect(\"equal\", adjustable=\"box\")\n",
    "        ax.set_xlabel(\"x\")\n",
    "        ax.set_ylabel(\"y\")\n",
    "        ax.set_title(f\"N = {self.n_charges}\")\n",
    "        return fig"
   ]
  },
  {
   "cell_type": "markdown",
   "metadata": {},
   "source": [
    "There are $2 N$ variables for this problem, and we order them as $(x_0, y_0, \\ldots, x_{N-1}, y_{N-1})$. This is convenient, since the numpy reshaping operation `vars_float.reshape(n_charges, 2)` then represents an array of $(x_i, y_i)$ type arrays, which is handy for calculations.\n",
    "\n",
    "Notice the two functions `apply_individual` and `apply_population`. They are being called during optimization whenever new variables are being set by the optimizer, and their purpose is to update the data in the problem class accordingly (excluding objectives and constraints, which we will deal with shortly).\n",
    "\n",
    "The difference between the two functions is that `apply_individual` evaluates a single vector of new problem variables, whereas `apply_population` handles a full population of such vectors. The implementation of the latter function is not strictly required (alternatively a loop over individuals of the population will be evaluated), but it provides a chance for a vast speed-up by vectorized evaluation. This is particularly beneficial for genetic algorithms or other easily vectorizable approaches (in fact also the gradient calculation via `iwopy` discretizations makes use of this vectorization). Of course the chosen optimizer must be able to support vectorized evaluation for this to work. Both functions return any kind of evaluation data which will be forwarded to the objective and constraint evaluation.\n",
    "\n",
    "So far we have only defined the problem variables. Objectives and constraints can be added to the problem via the `add_objective` and `add_constraint` functions, respectively. First, we implement the inverse distance potential as our objective:"
   ]
  },
  {
   "cell_type": "code",
   "execution_count": 3,
   "metadata": {
    "execution": {
     "iopub.execute_input": "2023-04-14T11:45:29.032796Z",
     "iopub.status.busy": "2023-04-14T11:45:29.032568Z",
     "iopub.status.idle": "2023-04-14T11:45:29.037431Z",
     "shell.execute_reply": "2023-04-14T11:45:29.036910Z"
    }
   },
   "outputs": [],
   "source": [
    "class MinPotential(Objective):\n",
    "    def __init__(self, problem):\n",
    "        \"\"\"Define the same variable names and ordering as in the problem\"\"\"\n",
    "        super().__init__(problem, \"potential\", vnames_float=problem.var_names_float())\n",
    "        self.n_charges = problem.n_charges\n",
    "\n",
    "    def n_components(self):\n",
    "        \"\"\"The potential is a scalar function, hence one component\"\"\"\n",
    "        return 1\n",
    "\n",
    "    def maximize(self):\n",
    "        \"\"\"Indicates that the single component is to be minimized\"\"\"\n",
    "        return [False]\n",
    "\n",
    "    def calc_individual(self, vars_int, vars_float, problem_results, components=None):\n",
    "        \"\"\"This evaluates the potential. See problem.apply_individual\n",
    "        for problem results\"\"\"\n",
    "        xy = problem_results\n",
    "        value = 0.0\n",
    "        for i in range(1, self.n_charges):\n",
    "            dist = np.maximum(np.linalg.norm(xy[i - 1, None] - xy[i:], axis=-1), 1e-10)\n",
    "            value += 2 * np.sum(1 / dist)\n",
    "        return value\n",
    "\n",
    "    def calc_population(self, vars_int, vars_float, problem_results, components=None):\n",
    "        \"\"\"This evaluates the potential in vectorized manner.\n",
    "        See problem.apply_population for problem results\"\"\"\n",
    "        xy = problem_results\n",
    "        n_pop = len(xy)\n",
    "        value = np.zeros((n_pop, 1))\n",
    "        for i in range(1, self.n_charges):\n",
    "            dist = np.maximum(\n",
    "                np.linalg.norm(xy[:, i - 1, None] - xy[:, i:], axis=-1), 1e-10\n",
    "            )\n",
    "            value[:, 0] += 2 * np.sum(1 / dist, axis=1)\n",
    "        return value"
   ]
  },
  {
   "cell_type": "markdown",
   "metadata": {},
   "source": [
    "Notice that the functions `calc_individual` and its (again optional) vectorized correspondent `calc_population` do not directly make use of the variables vector `vars_float`, which they could (and it would be perfectly fine, even intended), but instead of the `problem_results` provided by the problem functions `apply_individual` and `apply_population`.\n",
    "\n",
    "Next, we implement the $N$ radial constraints:"
   ]
  },
  {
   "cell_type": "code",
   "execution_count": 4,
   "metadata": {
    "execution": {
     "iopub.execute_input": "2023-04-14T11:45:29.039523Z",
     "iopub.status.busy": "2023-04-14T11:45:29.039217Z",
     "iopub.status.idle": "2023-04-14T11:45:29.043998Z",
     "shell.execute_reply": "2023-04-14T11:45:29.043497Z"
    }
   },
   "outputs": [],
   "source": [
    "class MaxRadius(Constraint):\n",
    "    def __init__(self, problem, tol=1e-2):\n",
    "        \"\"\"Define the same variable names and ordering as in the problem\"\"\"\n",
    "        super().__init__(\n",
    "            problem, \"radius\", vnames_float=problem.var_names_float(), tol=tol\n",
    "        )\n",
    "        self.n_charges = problem.n_charges\n",
    "        self.radius = problem.radius\n",
    "\n",
    "    def n_components(self):\n",
    "        \"\"\"One constraint per charge\"\"\"\n",
    "        return self.n_charges\n",
    "\n",
    "    def vardeps_float(self):\n",
    "        \"\"\"Boolean array that defines which component depends\n",
    "        on which variable (optional, default is on all)\"\"\"\n",
    "        deps = np.zeros((self.n_components(), self.n_charges, 2), dtype=bool)\n",
    "        np.fill_diagonal(deps[..., 0], True)\n",
    "        np.fill_diagonal(deps[..., 1], True)\n",
    "        return deps.reshape(self.n_components(), 2 * self.n_charges)\n",
    "\n",
    "    def calc_individual(self, vars_int, vars_float, problem_results, components=None):\n",
    "        \"\"\"This evaluates the constraints, negative values are valid.\n",
    "        See problem.apply_individual for problem results\"\"\"\n",
    "        components = np.s_[:] if components is None else components\n",
    "        xy = problem_results[components]\n",
    "        r = np.linalg.norm(xy, axis=-1)\n",
    "        return r - self.radius\n",
    "\n",
    "    def calc_population(self, vars_int, vars_float, problem_results, components=None):\n",
    "        \"\"\"This evaluates the constraints in vectorized manner,\n",
    "        negative values are valid. See problem.apply_population for\n",
    "        problem results\"\"\"\n",
    "        components = np.s_[:] if components is None else components\n",
    "        xy = problem_results[:, components]\n",
    "        r = np.linalg.norm(xy, axis=-1)\n",
    "        return r - self.radius"
   ]
  },
  {
   "cell_type": "markdown",
   "metadata": {},
   "source": [
    "Note that by default, negative constraint values represent validity. This can be changed by overloading the function `get_bounds` of the base class, see API, but is not recommended.\n",
    "\n",
    "Also note that the function `vardeps_float` is only relevant for gradient based solvers that support gradient sparsity (e.g. `pygmo.ipopt`). It is irrelevant for the genetic algorithm that we want to use in this example, but added for the sake of completeness.\n",
    "\n",
    "Now let's add the objective and the constraints and initialize the problem:"
   ]
  },
  {
   "cell_type": "code",
   "execution_count": 5,
   "metadata": {
    "execution": {
     "iopub.execute_input": "2023-04-14T11:45:29.046210Z",
     "iopub.status.busy": "2023-04-14T11:45:29.045576Z",
     "iopub.status.idle": "2023-04-14T11:45:29.170430Z",
     "shell.execute_reply": "2023-04-14T11:45:29.169410Z"
    }
   },
   "outputs": [
    {
     "name": "stdout",
     "output_type": "stream",
     "text": [
      "Problem 'charges_problem' (ChargesProblem): Initializing\n",
      "--------------------------------------------------------\n",
      "  n_vars_int   : 0\n",
      "  n_vars_float : 40\n",
      "--------------------------------------------------------\n",
      "  n_objectives : 1\n",
      "  n_obj_cmptns : 1\n",
      "--------------------------------------------------------\n",
      "  n_constraints: 1\n",
      "  n_con_cmptns : 20\n",
      "--------------------------------------------------------\n"
     ]
    },
    {
     "data": {
      "image/png": "[encoded data removed]",
      "text/plain": [
       "<Figure size 600x600 with 1 Axes>"
      ]
     },
     "metadata": {},
     "output_type": "display_data"
    }
   ],
   "source": [
    "N = 20\n",
    "R = 5\n",
    "\n",
    "# generate random initial coordinates of the N charges:\n",
    "xy = np.random.uniform(-R / 10.0, R / 10.0, (N, 2))\n",
    "\n",
    "problem = ChargesProblem(xy, R)\n",
    "problem.add_objective(MinPotential(problem))\n",
    "problem.add_constraint(MaxRadius(problem))\n",
    "problem.initialize()\n",
    "\n",
    "fig = problem.get_fig(xy)\n",
    "plt.show()"
   ]
  },
  {
   "cell_type": "markdown",
   "metadata": {},
   "source": [
    "Finally, we can now setup the genetic algorithm [GA from pymoo](https://pymoo.org/algorithms/soo/ga.html) and solve the problem, here in vectorized form (flag `vectorize=True`):"
   ]
  },
  {
   "cell_type": "code",
   "execution_count": 6,
   "metadata": {
    "execution": {
     "iopub.execute_input": "2023-04-14T11:45:29.193746Z",
     "iopub.status.busy": "2023-04-14T11:45:29.193526Z",
     "iopub.status.idle": "2023-04-14T11:45:30.505211Z",
     "shell.execute_reply": "2023-04-14T11:45:30.504362Z"
    }
   },
   "outputs": [
    {
     "name": "stdout",
     "output_type": "stream",
     "text": [
      "Initializing Optimizer_pymoo\n",
      "Selecting sampling: float_random (FloatRandomSampling)\n",
      "Selecting algorithm: GA (GA)\n",
      "Selecting termination: default (DefaultSingleObjectiveTermination)\n",
      "\n",
      "Problem:\n",
      "--------\n",
      "  vectorize: True\n",
      "\n",
      "Algorithm:\n",
      "----------\n",
      "  type: GA\n",
      "  pop_size: 100\n",
      "  seed: 1\n",
      "\n",
      "Termination:\n",
      "------------\n",
      "  n_max_gen: 300\n",
      "  ftol: 1e-06\n",
      "  xtol: 1e-06\n",
      "\n"
     ]
    },
    {
     "name": "stdout",
     "output_type": "stream",
     "text": [
      "\n",
      "\n",
      "Optimizer_pymoo: Optimization run finished\n",
      "  Success: True\n",
      "  Best potential = 78.10126626778782\n"
     ]
    }
   ],
   "source": [
    "solver = Optimizer_pymoo(\n",
    "    problem,\n",
    "    problem_pars=dict(\n",
    "        vectorize=True,\n",
    "    ),\n",
    "    algo_pars=dict(\n",
    "        type=\"GA\",\n",
    "        pop_size=100, \n",
    "        seed=1,\n",
    "    ),\n",
    "    setup_pars=dict(),\n",
    "    term_pars=dict(\n",
    "        type=\"default\",\n",
    "        n_max_gen=300,\n",
    "        ftol=1e-6,\n",
    "        xtol=1e-6,\n",
    "    ),\n",
    ")\n",
    "solver.initialize()\n",
    "solver.print_info()\n",
    "\n",
    "results = solver.solve(verbosity=0)\n",
    "solver.finalize(results)"
   ]
  },
  {
   "cell_type": "code",
   "execution_count": 7,
   "metadata": {
    "execution": {
     "iopub.execute_input": "2023-04-14T11:45:30.507425Z",
     "iopub.status.busy": "2023-04-14T11:45:30.507275Z",
     "iopub.status.idle": "2023-04-14T11:45:30.581238Z",
     "shell.execute_reply": "2023-04-14T11:45:30.580559Z"
    }
   },
   "outputs": [
    {
     "name": "stdout",
     "output_type": "stream",
     "text": [
      "Results problem 'charges_problem':\n",
      "-----------------------------------\n",
      "  Float variables:\n",
      "    0: x0  = 2.347893e+00\n",
      "    1: y0  = -1.306908e+00\n",
      "    2: x1  = 4.755656e+00\n",
      "    3: y1  = 1.538807e+00\n",
      "    4: x2  = -9.254691e-01\n",
      "    5: y2  = -4.913092e+00\n",
      "    6: x3  = -1.093399e+00\n",
      "    7: y3  = -1.472314e+00\n",
      "    8: x4  = -4.727735e+00\n",
      "    9: y4  = -1.622439e+00\n",
      "    10: x5  = -1.249640e+00\n",
      "    11: y5  = 4.841101e+00\n",
      "    12: x6  = -1.741530e+00\n",
      "    13: y6  = 1.573486e+00\n",
      "    14: x7  = -4.400393e+00\n",
      "    15: y7  = 2.373510e+00\n",
      "    16: x8  = 2.211133e+00\n",
      "    17: y8  = 4.478829e+00\n",
      "    18: x9  = -3.887042e+00\n",
      "    19: y9  = -3.142983e+00\n",
      "    20: x10 = 1.681425e+00\n",
      "    21: y10 = 1.576298e+00\n",
      "    22: x11 = 2.432938e+00\n",
      "    23: y11 = -4.366588e+00\n",
      "    24: x12 = 5.763072e-01\n",
      "    25: y12 = -4.966442e+00\n",
      "    26: x13 = -4.982547e+00\n",
      "    27: y13 = 4.135544e-01\n",
      "    28: x14 = 4.925992e+00\n",
      "    29: y14 = -8.455471e-01\n",
      "    30: x15 = 4.396135e-01\n",
      "    31: y15 = 4.980480e+00\n",
      "    32: x16 = -2.518958e+00\n",
      "    33: y16 = -4.316364e+00\n",
      "    34: x17 = 3.941714e+00\n",
      "    35: y17 = -3.072407e+00\n",
      "    36: x18 = -3.025664e+00\n",
      "    37: y18 = 3.976280e+00\n",
      "    38: x19 = 3.691092e+00\n",
      "    39: y19 = 3.370534e+00\n",
      "-----------------------------------\n",
      "  Objectives:\n",
      "    0: potential = 7.810127e+01\n",
      "-----------------------------------\n",
      "  Constraints:\n",
      "    0: radius_0  = -2.312881e+00\n",
      "    1: radius_1  = -1.580820e-03\n",
      "    2: radius_2  = -5.036783e-04\n",
      "    3: radius_3  = -3.166089e+00\n",
      "    4: radius_4  = -1.621084e-03\n",
      "    5: radius_5  = -2.139439e-04\n",
      "    6: radius_6  = -2.652920e+00\n",
      "    7: radius_7  = -2.995608e-04\n",
      "    8: radius_8  = -5.100814e-03\n",
      "    9: radius_9  = -1.256188e-03\n",
      "    10: radius_10 = -2.695243e+00\n",
      "    11: radius_11 = -1.372748e-03\n",
      "    12: radius_12 = -2.322958e-04\n",
      "    13: radius_13 = -3.196897e-04\n",
      "    14: radius_14 = -1.965586e-03\n",
      "    15: radius_15 = -1.556582e-04\n",
      "    16: radius_16 = -2.385302e-03\n",
      "    17: radius_17 = -2.320824e-03\n",
      "    18: radius_18 = -3.456429e-03\n",
      "    19: radius_19 = -1.534034e-03\n",
      "-----------------------------------\n",
      "  Success: True\n",
      "-----------------------------------\n",
      "\n"
     ]
    },
    {
     "data": {
      "image/png": "[encoded data removed]",
      "text/plain": [
       "<Figure size 600x600 with 1 Axes>"
      ]
     },
     "metadata": {},
     "output_type": "display_data"
    }
   ],
   "source": [
    "print(results)\n",
    "\n",
    "xy = results.problem_results\n",
    "fig = problem.get_fig(xy)\n",
    "plt.show()"
   ]
  },
  {
   "cell_type": "markdown",
   "metadata": {},
   "source": [
    "Note that this problem has many equivalent solutions, and the displayed result is the best solution that the genetic algorithm was able to find within its convergence criteria. With heuristic methods there is generally no guarantee or proof that a global optimum has been found. However, the objective function has clearly been minimized, and therefore the \"design\" was improved which is often the goal in engineering tasks.\n",
    "\n",
    "For the fun of it, let's also solve the problem using iwopy's `GG` solver (stands for _Greedy Gradient_), now for 50 charges. This solver is a simple steepest decent algorithm which projects out directions that would violate constraints (and reverts those that already do). It supports iwopy's vectorization capabilities and hence can run fast for many variables. Of course it is not as advanced as other gradient based solvers, but for this particular problem it does a good job:"
   ]
  },
  {
   "cell_type": "code",
   "execution_count": 8,
   "metadata": {
    "execution": {
     "iopub.execute_input": "2023-04-14T11:45:30.583438Z",
     "iopub.status.busy": "2023-04-14T11:45:30.583279Z",
     "iopub.status.idle": "2023-04-14T11:45:30.586908Z",
     "shell.execute_reply": "2023-04-14T11:45:30.586210Z"
    }
   },
   "outputs": [],
   "source": [
    "from iwopy import LocalFD\n",
    "from iwopy.optimizers import GG"
   ]
  },
  {
   "cell_type": "code",
   "execution_count": 9,
   "metadata": {
    "execution": {
     "iopub.execute_input": "2023-04-14T11:45:30.589257Z",
     "iopub.status.busy": "2023-04-14T11:45:30.588773Z",
     "iopub.status.idle": "2023-04-14T11:45:33.686340Z",
     "shell.execute_reply": "2023-04-14T11:45:33.685515Z"
    },
    "scrolled": true
   },
   "outputs": [
    {
     "name": "stdout",
     "output_type": "stream",
     "text": [
      "Problem 'charges_problem' (ChargesProblem): Initializing\n",
      "--------------------------------------------------------\n",
      "  n_vars_int   : 0\n",
      "  n_vars_float : 100\n",
      "--------------------------------------------------------\n",
      "  n_objectives : 1\n",
      "  n_obj_cmptns : 1\n",
      "--------------------------------------------------------\n",
      "  n_constraints: 1\n",
      "  n_con_cmptns : 50\n",
      "--------------------------------------------------------\n",
      "Problem 'charges_problem_fd' (LocalFD): Initializing\n",
      "----------------------------------------------------\n",
      "  n_vars_int   : 0\n",
      "  n_vars_float : 100\n",
      "----------------------------------------------------\n",
      "  n_objectives : 1\n",
      "  n_obj_cmptns : 1\n",
      "----------------------------------------------------\n",
      "  n_constraints: 1\n",
      "  n_con_cmptns : 50\n",
      "----------------------------------------------------\n"
     ]
    },
    {
     "name": "stdout",
     "output_type": "stream",
     "text": [
      "GG: Optimization run finished\n",
      "  Success: True\n",
      "  Best potential = 586.5723344400639\n",
      "Results problem 'charges_problem_fd':\n",
      "--------------------------------------\n",
      "  Float variables:\n",
      "    0: x0  = 4.000382e+00\n",
      "    1: y0  = 2.999490e+00\n",
      "    2: x1  = 5.079732e-01\n",
      "    3: y1  = 3.691573e+00\n",
      "    4: x2  = 2.114143e+00\n",
      "    5: y2  = -3.098944e+00\n",
      "    6: x3  = 3.277208e+00\n",
      "    7: y3  = 1.723608e+00\n",
      "    8: x4  = -4.495711e+00\n",
      "    9: y4  = -2.188282e+00\n",
      "    10: x5  = -1.348944e+00\n",
      "    11: y5  = -3.464171e+00\n",
      "    12: x6  = 3.340019e+00\n",
      "    13: y6  = -3.720789e+00\n",
      "    14: x7  = -2.457939e+00\n",
      "    15: y7  = -4.354140e+00\n",
      "    16: x8  = -7.376010e-01\n",
      "    17: y8  = 4.945295e+00\n",
      "    18: x9  = -4.996095e+00\n",
      "    19: y9  = -1.975738e-01\n",
      "    20: x10 = 4.553684e+00\n",
      "    21: y10 = 2.064937e+00\n",
      "    22: x11 = 5.000000e+00\n",
      "    23: y11 = 1.718687e-03\n",
      "    24: x12 = 1.281237e+00\n",
      "    25: y12 = -1.583603e+00\n",
      "    26: x13 = 2.468452e+00\n",
      "    27: y13 = -4.348189e+00\n",
      "    28: x14 = -4.182320e+00\n",
      "    29: y14 = 2.740109e+00\n",
      "    30: x15 = -3.275141e+00\n",
      "    31: y15 = -3.778023e+00\n",
      "    32: x16 = -4.932686e+00\n",
      "    33: y16 = 8.176837e-01\n",
      "    34: x17 = -1.193985e+00\n",
      "    35: y17 = 3.486114e+00\n",
      "    36: x18 = 5.148106e-01\n",
      "    37: y18 = -4.973427e+00\n",
      "    38: x19 = 4.561294e+00\n",
      "    39: y19 = -2.048072e+00\n",
      "    40: x20 = 8.243842e-01\n",
      "    41: y20 = 1.920188e+00\n",
      "    42: x21 = 4.885821e+00\n",
      "    43: y21 = 1.062429e+00\n",
      "    44: x22 = -3.620277e+00\n",
      "    45: y22 = -8.168378e-01\n",
      "    46: x23 = -7.371890e-01\n",
      "    47: y23 = -1.847337e+00\n",
      "    48: x24 = 4.031678e+00\n",
      "    49: y24 = -2.957291e+00\n",
      "    50: x25 = 4.886153e+00\n",
      "    51: y25 = -1.060901e+00\n",
      "    52: x26 = -5.058800e-01\n",
      "    53: y26 = -4.974342e+00\n",
      "    54: x27 = 3.272922e+00\n",
      "    55: y27 = 3.779945e+00\n",
      "    56: x28 = 2.361521e+00\n",
      "    57: y28 = 4.407178e+00\n",
      "    58: x29 = -4.654690e+00\n",
      "    59: y29 = 1.825885e+00\n",
      "    60: x30 = -4.847042e+00\n",
      "    61: y30 = -1.227270e+00\n",
      "    62: x31 = 2.198517e+00\n",
      "    63: y31 = 3.050567e+00\n",
      "    64: x32 = -2.726291e+00\n",
      "    65: y32 = -2.324120e+00\n",
      "    66: x33 = 1.523045e+00\n",
      "    67: y33 = -4.762387e+00\n",
      "    68: x34 = 3.740160e-02\n",
      "    69: y34 = 3.831777e-02\n",
      "    70: x35 = 3.231579e+00\n",
      "    71: y35 = -1.691136e+00\n",
      "    72: x36 = 3.122392e-01\n",
      "    73: y36 = 4.990241e+00\n",
      "    74: x37 = -1.199956e+00\n",
      "    75: y37 = 1.655533e+00\n",
      "    76: x38 = -1.763976e+00\n",
      "    77: y38 = 4.678503e+00\n",
      "    78: x39 = -3.968261e+00\n",
      "    79: y39 = -3.041860e+00\n",
      "    80: x40 = 2.049042e+00\n",
      "    81: y40 = 3.099094e-01\n",
      "    82: x41 = -2.695721e+00\n",
      "    83: y41 = 4.211067e+00\n",
      "    84: x42 = -1.985593e+00\n",
      "    85: y42 = -2.208243e-01\n",
      "    86: x43 = -3.508881e+00\n",
      "    87: y43 = 9.764948e-01\n",
      "    88: x44 = 4.255267e-01\n",
      "    89: y44 = -3.580911e+00\n",
      "    90: x45 = -1.502724e+00\n",
      "    91: y45 = -4.768839e+00\n",
      "    92: x46 = -2.743736e+00\n",
      "    93: y46 = 2.512271e+00\n",
      "    94: x47 = 3.744293e+00\n",
      "    95: y47 = -3.509546e-02\n",
      "    96: x48 = -3.508379e+00\n",
      "    97: y48 = 3.562482e+00\n",
      "    98: x49 = 1.383104e+00\n",
      "    99: y49 = 4.804896e+00\n",
      "--------------------------------------\n",
      "  Objectives:\n",
      "    0: potential = 5.865723e+02\n",
      "--------------------------------------\n",
      "  Constraints:\n",
      "    0: radius_0  = 2.234437e-09\n",
      "    1: radius_1  = -1.273641e+00\n",
      "    2: radius_2  = -1.248593e+00\n",
      "    3: radius_3  = -1.297174e+00\n",
      "    4: radius_4  = -5.637551e-07\n",
      "    5: radius_5  = -1.282456e+00\n",
      "    6: radius_6  = -1.882141e-08\n",
      "    7: radius_7  = -4.394566e-07\n",
      "    8: radius_8  = -8.410052e-09\n",
      "    9: radius_9  = -3.722207e-07\n",
      "    10: radius_10 = 5.548898e-09\n",
      "    11: radius_11 = 7.048172e-09\n",
      "    12: radius_12 = -2.963001e+00\n",
      "    13: radius_13 = 7.208022e-08\n",
      "    14: radius_14 = 3.389487e-08\n",
      "    15: radius_15 = 3.713464e-07\n",
      "    16: radius_16 = 2.038199e-07\n",
      "    17: radius_17 = -1.315086e+00\n",
      "    18: radius_18 = 3.133401e-07\n",
      "    19: radius_19 = -6.127818e-10\n",
      "    20: radius_20 = -2.910327e+00\n",
      "    21: radius_21 = 7.901577e-09\n",
      "    22: radius_22 = -1.288716e+00\n",
      "    23: radius_23 = -3.011005e+00\n",
      "    24: radius_24 = 1.995368e-08\n",
      "    25: radius_25 = 1.090438e-08\n",
      "    26: radius_26 = -4.323597e-07\n",
      "    27: radius_27 = -1.229288e-09\n",
      "    28: radius_28 = -5.207476e-09\n",
      "    29: radius_29 = -1.102322e-07\n",
      "    30: radius_30 = 5.678801e-07\n",
      "    31: radius_31 = -1.239756e+00\n",
      "    32: radius_32 = -1.417515e+00\n",
      "    33: radius_33 = -1.400719e-07\n",
      "    34: radius_34 = -4.946454e+00\n",
      "    35: radius_35 = -1.352666e+00\n",
      "    36: radius_36 = -1.226222e-08\n",
      "    37: radius_37 = -2.955328e+00\n",
      "    38: radius_38 = -1.690774e-08\n",
      "    39: radius_39 = 5.059426e-07\n",
      "    40: radius_40 = -2.927654e+00\n",
      "    41: radius_41 = 5.441159e-10\n",
      "    42: radius_42 = -3.002166e+00\n",
      "    43: radius_43 = -1.357777e+00\n",
      "    44: radius_44 = -1.393894e+00\n",
      "    45: radius_45 = 6.008603e-07\n",
      "    46: radius_46 = -1.279840e+00\n",
      "    47: radius_47 = -1.255542e+00\n",
      "    48: radius_48 = -2.948715e-08\n",
      "    49: radius_49 = -8.218404e-09\n",
      "--------------------------------------\n",
      "  Success: True\n",
      "--------------------------------------\n",
      "\n"
     ]
    }
   ],
   "source": [
    "N = 50\n",
    "R = 5\n",
    "\n",
    "xy = np.random.uniform(-R / 10.0, R / 10.0, (N, 2))\n",
    "\n",
    "problem = ChargesProblem(xy, R)\n",
    "problem.add_objective(MinPotential(problem))\n",
    "problem.add_constraint(MaxRadius(problem))\n",
    "\n",
    "gproblem = LocalFD(problem, deltas=1e-2, fd_order=1)\n",
    "gproblem.initialize()\n",
    "\n",
    "solver = GG(\n",
    "    gproblem,\n",
    "    step_max=0.1,\n",
    "    step_min=1e-4,\n",
    "    vectorized=True,\n",
    ")\n",
    "solver.initialize()\n",
    "\n",
    "results = solver.solve(verbosity=0)\n",
    "solver.finalize(results)\n",
    "print(results)"
   ]
  },
  {
   "cell_type": "code",
   "execution_count": 10,
   "metadata": {
    "execution": {
     "iopub.execute_input": "2023-04-14T11:45:33.688304Z",
     "iopub.status.busy": "2023-04-14T11:45:33.688165Z",
     "iopub.status.idle": "2023-04-14T11:45:33.759111Z",
     "shell.execute_reply": "2023-04-14T11:45:33.758269Z"
    }
   },
   "outputs": [
    {
     "data": {
      "image/png": "[encoded data removed]",
      "text/plain": [
       "<Figure size 600x600 with 1 Axes>"
      ]
     },
     "metadata": {},
     "output_type": "display_data"
    }
   ],
   "source": [
    "xy = results.problem_results\n",
    "fig = problem.get_fig(xy)\n",
    "plt.show()"
   ]
  }
 ],
 "metadata": {
  "kernelspec": {
   "display_name": "iwopyi",
   "language": "python",
   "name": "python3"
  },
  "language_info": {
   "codemirror_mode": {
    "name": "ipython",
    "version": 3
   },
   "file_extension": ".py",
   "mimetype": "text/x-python",
   "name": "python",
   "nbconvert_exporter": "python",
   "pygments_lexer": "ipython3",
   "version": "3.8.10"
  },
  "vscode": {
   "interpreter": {
    "hash": "0e385321928b3b4f0753cf8f84cadb34ba8fa899d98e78ebdf797f13a2c801ba"
   }
  }
 },
 "nbformat": 4,
 "nbformat_minor": 2
}
