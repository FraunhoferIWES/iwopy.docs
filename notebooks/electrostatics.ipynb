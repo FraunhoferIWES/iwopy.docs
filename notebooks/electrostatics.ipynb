{
 "cells": [
  {
   "cell_type": "markdown",
   "metadata": {},
   "source": [
    "# Electrostatic potential minimization"
   ]
  },
  {
   "cell_type": "markdown",
   "metadata": {},
   "source": [
    "The main purpose of `iwopy` is to be helpful when attacking more complicated optimization tasks than the minimization of simple analytical functions. As an example, we consider the minimization of an inverse distance type potential for a fully coupled system of $N$ particles in two dimensions. We can imagine such a system to be composed of $N$ individual point charges, each of them carrying the same electric unit charge. The potential that we want to minimize is then represented by\n",
    "$$\n",
    "V = \\sum_{i\\neq j} \\frac 1 {|\\mathrm r_i - \\mathrm r_j|} \\ , \\quad \\text{where} \\quad \\mathrm r_i = \\left( \\begin{array}{c} x_i \\\\ y_i \\end{array} \\right)\n",
    "$$\n",
    "denotes the two dimensional position vector of charge $i$ and the sum is over all unequal index pairs. This potential favours large distances between charges, hence we need to constrain them to a certain area for a meaningful solution. We confine them to a circle of radius $R$ by imposing $N$ constraints,\n",
    "$$\n",
    "|\\mathrm r_i| \\leq R \\ , \\quad \\text{for all} \\quad i = 0 \\ldots N-1 \\ .\n",
    "$$\n",
    "These are the required imports for this example:"
   ]
  },
  {
   "cell_type": "code",
   "execution_count": 1,
   "metadata": {
    "execution": {
     "iopub.execute_input": "2022-10-28T06:01:54.023330Z",
     "iopub.status.busy": "2022-10-28T06:01:54.022959Z",
     "iopub.status.idle": "2022-10-28T06:01:54.776171Z",
     "shell.execute_reply": "2022-10-28T06:01:54.775289Z"
    }
   },
   "outputs": [],
   "source": [
    "import numpy as np\n",
    "import matplotlib.pyplot as plt\n",
    "from iwopy import Problem, Objective, Constraint\n",
    "from iwopy.interfaces.pymoo import Optimizer_pymoo"
   ]
  },
  {
   "cell_type": "markdown",
   "metadata": {},
   "source": [
    "We start by creating a specific class that describes the variables of our problem:"
   ]
  },
  {
   "cell_type": "code",
   "execution_count": 2,
   "metadata": {
    "execution": {
     "iopub.execute_input": "2022-10-28T06:01:54.781202Z",
     "iopub.status.busy": "2022-10-28T06:01:54.780303Z",
     "iopub.status.idle": "2022-10-28T06:01:54.790316Z",
     "shell.execute_reply": "2022-10-28T06:01:54.789680Z"
    }
   },
   "outputs": [],
   "source": [
    "class ChargesProblem(Problem):\n",
    "    def __init__(self, xy_init, radius):\n",
    "        super().__init__(name=\"charges_problem\")\n",
    "        self.xy_init = xy_init\n",
    "        self.n_charges = len(xy_init)\n",
    "        self.radius = radius\n",
    "\n",
    "    def var_names_float(self):\n",
    "        \"\"\"Defines the variable names\"\"\"\n",
    "        vnames = []\n",
    "        for i in range(self.n_charges):\n",
    "            vnames += [f\"x{i}\", f\"y{i}\"]\n",
    "        return vnames\n",
    "\n",
    "    def initial_values_float(self):\n",
    "        \"\"\"Returns inital values, as given to constructor\"\"\"\n",
    "        return self.xy_init.reshape(2 * self.n_charges)\n",
    "\n",
    "    def min_values_float(self):\n",
    "        \"\"\"Minimal values for a square of size 2*radius\"\"\"\n",
    "        return np.full(2 * self.n_charges, -self.radius)\n",
    "\n",
    "    def max_values_float(self):\n",
    "        \"\"\"Maximal values for a square of size 2*radius\"\"\"\n",
    "        return np.full(2 * self.n_charges, self.radius)\n",
    "\n",
    "    def apply_individual(self, vars_int, vars_float):\n",
    "        \"\"\"Returns (x, y) variables for each charge\"\"\"\n",
    "        return vars_float.reshape(self.n_charges, 2)\n",
    "\n",
    "    def apply_population(self, vars_int, vars_float):\n",
    "        \"\"\"Returns (x, y) variables for each charge per individual\"\"\"\n",
    "        n_pop = len(vars_float)\n",
    "        return vars_float.reshape(n_pop, self.n_charges, 2)\n",
    "\n",
    "    def get_fig(self, xy):\n",
    "        \"\"\"Get a figure showing the charges locations\"\"\"\n",
    "        fig, ax = plt.subplots(figsize=(6, 6))\n",
    "        ax.scatter(xy[:, 0], xy[:, 1], color=\"orange\")\n",
    "        ax.add_patch(plt.Circle((0, 0), self.radius, color=\"darkred\", fill=False))\n",
    "        ax.set_aspect(\"equal\", adjustable=\"box\")\n",
    "        ax.set_xlabel(\"x\")\n",
    "        ax.set_ylabel(\"y\")\n",
    "        ax.set_title(f\"N = {self.n_charges}\")\n",
    "        return fig"
   ]
  },
  {
   "cell_type": "markdown",
   "metadata": {},
   "source": [
    "There are $2 N$ variables for this problem, and we order them as $(x_0, y_0, \\ldots, x_{N-1}, y_{N-1})$. This is convenient, since the numpy reshaping operation `vars_float.reshape(n_charges, 2)` then represents an array of $(x_i, y_i)$ type arrays, which is handy for calculations.\n",
    "\n",
    "Notice the two functions `apply_individual` and `apply_population`. They are being called during optimization whenever new variables are being set by the optimizer, and their purpose is to update the data in the problem class accordingly (excluding objectives and constraints, which we will deal with shortly).\n",
    "\n",
    "The difference between the two functions is that `apply_individual` evaluates a single vector of new problem variables, whereas `apply_population` handles a full population of such vectors. The implementation of the latter function is not strictly required (alternatively a loop over individuals of the population will be evaluated), but it provides a chance for a vast speed-up by vectorized evaluation. This is particularly beneficial for genetic algorithms or other easily vectorizable approaches (in fact also the gradient calculation via `iwopy` discretizations makes use of this vectorization). Of course the chosen optimizer must be able to support vectorized evaluation for this to work. Both functions return any kind of evaluation data which will be forwarded to the objective and constraint evaluation.\n",
    "\n",
    "So far we have only defined the problem variables. Objectives and constraints can be added to the problem via the `add_objective` and `add_constraint` functions, respectively. First, we implement the inverse distance potential as our objective:"
   ]
  },
  {
   "cell_type": "code",
   "execution_count": 3,
   "metadata": {
    "execution": {
     "iopub.execute_input": "2022-10-28T06:01:54.792794Z",
     "iopub.status.busy": "2022-10-28T06:01:54.792559Z",
     "iopub.status.idle": "2022-10-28T06:01:54.798614Z",
     "shell.execute_reply": "2022-10-28T06:01:54.798103Z"
    }
   },
   "outputs": [],
   "source": [
    "class MinPotential(Objective):\n",
    "    def __init__(self, problem):\n",
    "        \"\"\"Define the same variable names and ordering as in the problem\"\"\"\n",
    "        super().__init__(problem, \"potential\", vnames_float=problem.var_names_float())\n",
    "        self.n_charges = problem.n_charges\n",
    "\n",
    "    def n_components(self):\n",
    "        \"\"\"The potential is a scalar function, hence one component\"\"\"\n",
    "        return 1\n",
    "\n",
    "    def maximize(self):\n",
    "        \"\"\"Indicates that the single component is to be minimized\"\"\"\n",
    "        return [False]\n",
    "\n",
    "    def calc_individual(self, vars_int, vars_float, problem_results, components=None):\n",
    "        \"\"\"This evaluates the potential. See problem.apply_individual\n",
    "        for problem results\"\"\"\n",
    "        xy = problem_results\n",
    "        value = 0.0\n",
    "        for i in range(1, self.n_charges):\n",
    "            dist = np.maximum(np.linalg.norm(xy[i - 1, None] - xy[i:], axis=-1), 1e-10)\n",
    "            value += 2 * np.sum(1 / dist)\n",
    "        return value\n",
    "\n",
    "    def calc_population(self, vars_int, vars_float, problem_results, components=None):\n",
    "        \"\"\"This evaluates the potential in vectorized manner.\n",
    "        See problem.apply_population for problem results\"\"\"\n",
    "        xy = problem_results\n",
    "        n_pop = len(xy)\n",
    "        value = np.zeros((n_pop, 1))\n",
    "        for i in range(1, self.n_charges):\n",
    "            dist = np.maximum(\n",
    "                np.linalg.norm(xy[:, i - 1, None] - xy[:, i:], axis=-1), 1e-10\n",
    "            )\n",
    "            value[:, 0] += 2 * np.sum(1 / dist, axis=1)\n",
    "        return value"
   ]
  },
  {
   "cell_type": "markdown",
   "metadata": {},
   "source": [
    "Notice that the functions `calc_individual` and its (again optional) vectorized correspondent `calc_population` do not directly make use of the variables vector `vars_float`, which they could (and it would be perfectly fine, even intended), but instead of the `problem_results` provided by the problem functions `apply_individual` and `apply_population`.\n",
    "\n",
    "Next, we implement the $N$ radial constraints:"
   ]
  },
  {
   "cell_type": "code",
   "execution_count": 4,
   "metadata": {
    "execution": {
     "iopub.execute_input": "2022-10-28T06:01:54.830199Z",
     "iopub.status.busy": "2022-10-28T06:01:54.829618Z",
     "iopub.status.idle": "2022-10-28T06:01:54.836601Z",
     "shell.execute_reply": "2022-10-28T06:01:54.836097Z"
    }
   },
   "outputs": [],
   "source": [
    "class MaxRadius(Constraint):\n",
    "    def __init__(self, problem, tol=1e-2):\n",
    "        \"\"\"Define the same variable names and ordering as in the problem\"\"\"\n",
    "        super().__init__(\n",
    "            problem, \"radius\", vnames_float=problem.var_names_float(), tol=tol\n",
    "        )\n",
    "        self.n_charges = problem.n_charges\n",
    "        self.radius = problem.radius\n",
    "\n",
    "    def n_components(self):\n",
    "        \"\"\"One constraint per charge\"\"\"\n",
    "        return self.n_charges\n",
    "\n",
    "    def vardeps_float(self):\n",
    "        \"\"\"Boolean array that defines which component depends\n",
    "        on which variable (optional, default is on all)\"\"\"\n",
    "        deps = np.zeros((self.n_components(), self.n_charges, 2), dtype=bool)\n",
    "        np.fill_diagonal(deps[..., 0], True)\n",
    "        np.fill_diagonal(deps[..., 1], True)\n",
    "        return deps.reshape(self.n_components(), 2 * self.n_charges)\n",
    "\n",
    "    def calc_individual(self, vars_int, vars_float, problem_results, components=None):\n",
    "        \"\"\"This evaluates the constraints, negative values are valid.\n",
    "        See problem.apply_individual for problem results\"\"\"\n",
    "        components = np.s_[:] if components is None else components\n",
    "        xy = problem_results[components]\n",
    "        r = np.linalg.norm(xy, axis=-1)\n",
    "        return r - self.radius\n",
    "\n",
    "    def calc_population(self, vars_int, vars_float, problem_results, components=None):\n",
    "        \"\"\"This evaluates the constraints in vectorized manner,\n",
    "        negative values are valid. See problem.apply_population for\n",
    "        problem results\"\"\"\n",
    "        components = np.s_[:] if components is None else components\n",
    "        xy = problem_results[:, components]\n",
    "        r = np.linalg.norm(xy, axis=-1)\n",
    "        return r - self.radius"
   ]
  },
  {
   "cell_type": "markdown",
   "metadata": {},
   "source": [
    "Note that by default, negative constraint values represent validity. This can be changed by overloading the function `get_bounds` of the base class, see API, but is not recommended.\n",
    "\n",
    "Also note that the function `vardeps_float` is only relevant for gradient based solvers that support gradient sparsity (e.g. `pygmo.ipopt`). It is irrelevant for the genetic algorithm that we want to use in this example, but added for the sake of completeness.\n",
    "\n",
    "Now let's add the objective and the constraints and initialize the problem:"
   ]
  },
  {
   "cell_type": "code",
   "execution_count": 5,
   "metadata": {
    "execution": {
     "iopub.execute_input": "2022-10-28T06:01:54.839228Z",
     "iopub.status.busy": "2022-10-28T06:01:54.838968Z",
     "iopub.status.idle": "2022-10-28T06:01:55.012174Z",
     "shell.execute_reply": "2022-10-28T06:01:55.011528Z"
    }
   },
   "outputs": [
    {
     "name": "stdout",
     "output_type": "stream",
     "text": [
      "Problem 'charges_problem' (ChargesProblem): Initializing\n",
      "--------------------------------------------------------\n",
      "  n_vars_int   : 0\n",
      "  n_vars_float : 40\n",
      "--------------------------------------------------------\n",
      "  n_objectives : 1\n",
      "  n_obj_cmptns : 1\n",
      "--------------------------------------------------------\n",
      "  n_constraints: 1\n",
      "  n_con_cmptns : 20\n",
      "--------------------------------------------------------\n"
     ]
    },
    {
     "data": {
      "image/png": "[encoded data removed]",
      "text/plain": [
       "<Figure size 432x432 with 1 Axes>"
      ]
     },
     "metadata": {
      "needs_background": "light"
     },
     "output_type": "display_data"
    }
   ],
   "source": [
    "N = 20\n",
    "R = 5\n",
    "\n",
    "# generate random initial coordinates of the N charges:\n",
    "xy = np.random.uniform(-R / 10.0, R / 10.0, (N, 2))\n",
    "\n",
    "problem = ChargesProblem(xy, R)\n",
    "problem.add_objective(MinPotential(problem))\n",
    "problem.add_constraint(MaxRadius(problem))\n",
    "problem.initialize()\n",
    "\n",
    "fig = problem.get_fig(xy)\n",
    "plt.show()"
   ]
  },
  {
   "cell_type": "markdown",
   "metadata": {},
   "source": [
    "Finally, we can now setup the genetic algorithm [GA from pymoo](https://pymoo.org/algorithms/soo/ga.html) and solve the problem, here in vectorized form (flag `vectorize=True`):"
   ]
  },
  {
   "cell_type": "code",
   "execution_count": 6,
   "metadata": {
    "execution": {
     "iopub.execute_input": "2022-10-28T06:01:55.043290Z",
     "iopub.status.busy": "2022-10-28T06:01:55.042858Z",
     "iopub.status.idle": "2022-10-28T06:01:57.630786Z",
     "shell.execute_reply": "2022-10-28T06:01:57.630170Z"
    }
   },
   "outputs": [
    {
     "name": "stdout",
     "output_type": "stream",
     "text": [
      "Initializing Optimizer_pymoo\n",
      "Selecting sampling: float_random (FloatRandomSampling)\n"
     ]
    },
    {
     "name": "stdout",
     "output_type": "stream",
     "text": [
      "Selecting algorithm: ga (GA)\n",
      "Selecting termination: default (DefaultSingleObjectiveTermination)\n",
      "\n",
      "Problem:\n",
      "--------\n",
      "  vectorize: True\n",
      "\n",
      "Algorithm:\n",
      "----------\n",
      "  type: ga\n",
      "  pop_size: 100\n",
      "\n",
      "Termination:\n",
      "------------\n",
      "  n_max_gen: 300\n",
      "  ftol: 1e-06\n",
      "  xtol: 1e-06\n",
      "\n"
     ]
    },
    {
     "name": "stdout",
     "output_type": "stream",
     "text": [
      "\n",
      "\n",
      "Optimizer_pymoo: Optimization run finished\n",
      "  Success: True\n",
      "  Best potential = 78.9014569337367\n"
     ]
    }
   ],
   "source": [
    "solver = Optimizer_pymoo(\n",
    "    problem,\n",
    "    problem_pars=dict(\n",
    "        vectorize=True,\n",
    "    ),\n",
    "    algo_pars=dict(\n",
    "        type=\"ga\",\n",
    "        pop_size=100,\n",
    "    ),\n",
    "    setup_pars=dict(),\n",
    "    term_pars=dict(\n",
    "        type=\"default\",\n",
    "        n_max_gen=300,\n",
    "        ftol=1e-6,\n",
    "        xtol=1e-6,\n",
    "    ),\n",
    ")\n",
    "solver.initialize()\n",
    "solver.print_info()\n",
    "\n",
    "results = solver.solve(verbosity=0)\n",
    "solver.finalize(results)"
   ]
  },
  {
   "cell_type": "code",
   "execution_count": 7,
   "metadata": {
    "execution": {
     "iopub.execute_input": "2022-10-28T06:01:57.633099Z",
     "iopub.status.busy": "2022-10-28T06:01:57.632858Z",
     "iopub.status.idle": "2022-10-28T06:01:57.720821Z",
     "shell.execute_reply": "2022-10-28T06:01:57.720208Z"
    }
   },
   "outputs": [
    {
     "name": "stdout",
     "output_type": "stream",
     "text": [
      "Results problem 'charges_problem':\n",
      "-----------------------------------\n",
      "  Float variables:\n",
      "    0: x0  = 3.019276e+00\n",
      "    1: y0  = -3.984294e+00\n",
      "    2: x1  = -4.510402e+00\n",
      "    3: y1  = -2.154390e+00\n",
      "    4: x2  = 1.748364e+00\n",
      "    5: y2  = 7.634479e-01\n",
      "    6: x3  = 5.647821e-01\n",
      "    7: y3  = -4.966695e+00\n",
      "    8: x4  = 2.622889e-01\n",
      "    9: y4  = 2.975255e+00\n",
      "    10: x5  = 1.950739e+00\n",
      "    11: y5  = -2.153700e+00\n",
      "    12: x6  = -2.909085e-02\n",
      "    13: y6  = 4.999642e+00\n",
      "    14: x7  = -3.628338e+00\n",
      "    15: y7  = 3.439380e+00\n",
      "    16: x8  = -3.661681e+00\n",
      "    17: y8  = -3.393713e+00\n",
      "    18: x9  = -4.996481e+00\n",
      "    19: y9  = -1.754690e-01\n",
      "    20: x10 = 4.403081e+00\n",
      "    21: y10 = -2.368486e+00\n",
      "    22: x11 = -1.987225e+00\n",
      "    23: y11 = -4.587841e+00\n",
      "    24: x12 = 4.952073e+00\n",
      "    25: y12 = -6.792055e-01\n",
      "    26: x13 = 4.225308e+00\n",
      "    27: y13 = 2.671302e+00\n",
      "    28: x14 = -6.870013e-01\n",
      "    29: y14 = -2.800753e+00\n",
      "    30: x15 = -2.142078e+00\n",
      "    31: y15 = 4.185561e-01\n",
      "    32: x16 = -2.196172e+00\n",
      "    33: y16 = 4.488683e+00\n",
      "    34: x17 = 4.835990e+00\n",
      "    35: y17 = 1.268772e+00\n",
      "    36: x18 = -4.604910e+00\n",
      "    37: y18 = 1.946910e+00\n",
      "    38: x19 = 2.321182e+00\n",
      "    39: y19 = 4.427535e+00\n",
      "-----------------------------------\n",
      "  Objectives:\n",
      "    0: potential = 7.890146e+01\n",
      "-----------------------------------\n",
      "  Constraints:\n",
      "    0: radius_0  = -9.377995e-04\n",
      "    1: radius_1  = -1.487745e-03\n",
      "    2: radius_2  = -3.092219e+00\n",
      "    3: radius_3  = -1.296147e-03\n",
      "    4: radius_4  = -2.013206e+00\n",
      "    5: radius_5  = -2.094178e+00\n",
      "    6: radius_6  = -2.735022e-04\n",
      "    7: radius_7  = -5.823736e-04\n",
      "    8: radius_8  = -7.485431e-03\n",
      "    9: radius_9  = -4.388438e-04\n",
      "    10: radius_10 = -3.152879e-04\n",
      "    11: radius_11 = -2.649977e-04\n",
      "    12: radius_12 = -1.565686e-03\n",
      "    13: radius_13 = -1.092200e-03\n",
      "    14: radius_14 = -2.116220e+00\n",
      "    15: radius_15 = -2.817413e+00\n",
      "    16: radius_16 = -2.855836e-03\n",
      "    17: radius_17 = -3.421309e-04\n",
      "    18: radius_18 = -4.343366e-04\n",
      "    19: radius_19 = -9.047151e-04\n",
      "-----------------------------------\n",
      "  Success: True\n",
      "-----------------------------------\n",
      "\n"
     ]
    },
    {
     "data": {
      "image/png": "[encoded data removed]",
      "text/plain": [
       "<Figure size 432x432 with 1 Axes>"
      ]
     },
     "metadata": {
      "needs_background": "light"
     },
     "output_type": "display_data"
    }
   ],
   "source": [
    "print(results)\n",
    "\n",
    "xy = results.problem_results\n",
    "fig = problem.get_fig(xy)\n",
    "plt.show()"
   ]
  },
  {
   "cell_type": "markdown",
   "metadata": {},
   "source": [
    "Note that this problem has many equivalent solutions, and the displayed result is the best solution that the genetic algorithm was able to find within its convergence criteria. With heuristic methods there is generally no guarantee or proof that a global optimum has been found. However, the objective function has clearly been minimized, and therefore the \"design\" was improved which is often the goal in engineering tasks.\n",
    "\n",
    "For the fun of it, let's also solve the problem using iwopy's `GG` solver (stands for _Greedy Gradient_), now for 50 charges. This solver is a simple steepest decent algorithm which projects out directions that would violate constraints (and reverts those that already do). It supports iwopy's vectorization capabilities and hence can run fast for many variables. Of course it is not as advanced as other gradient based solvers, but for this particular problem it does a good job:"
   ]
  },
  {
   "cell_type": "code",
   "execution_count": 8,
   "metadata": {
    "execution": {
     "iopub.execute_input": "2022-10-28T06:01:57.724122Z",
     "iopub.status.busy": "2022-10-28T06:01:57.723879Z",
     "iopub.status.idle": "2022-10-28T06:01:57.726877Z",
     "shell.execute_reply": "2022-10-28T06:01:57.726239Z"
    }
   },
   "outputs": [],
   "source": [
    "from iwopy import LocalFD\n",
    "from iwopy.optimizers import GG"
   ]
  },
  {
   "cell_type": "code",
   "execution_count": 9,
   "metadata": {
    "execution": {
     "iopub.execute_input": "2022-10-28T06:01:57.729977Z",
     "iopub.status.busy": "2022-10-28T06:01:57.729741Z",
     "iopub.status.idle": "2022-10-28T06:01:59.339910Z",
     "shell.execute_reply": "2022-10-28T06:01:59.339291Z"
    },
    "scrolled": true
   },
   "outputs": [
    {
     "name": "stdout",
     "output_type": "stream",
     "text": [
      "Problem 'charges_problem' (ChargesProblem): Initializing\n",
      "--------------------------------------------------------\n",
      "  n_vars_int   : 0\n",
      "  n_vars_float : 100\n",
      "--------------------------------------------------------\n",
      "  n_objectives : 1\n",
      "  n_obj_cmptns : 1\n",
      "--------------------------------------------------------\n",
      "  n_constraints: 1\n",
      "  n_con_cmptns : 50\n",
      "--------------------------------------------------------\n",
      "Problem 'charges_problem_fd' (LocalFD): Initializing\n",
      "----------------------------------------------------\n",
      "  n_vars_int   : 0\n",
      "  n_vars_float : 100\n",
      "----------------------------------------------------\n",
      "  n_objectives : 1\n",
      "  n_obj_cmptns : 1\n",
      "----------------------------------------------------\n",
      "  n_constraints: 1\n",
      "  n_con_cmptns : 50\n",
      "----------------------------------------------------\n"
     ]
    },
    {
     "name": "stdout",
     "output_type": "stream",
     "text": [
      "GG: Optimization run finished\n",
      "  Success: True\n",
      "  Best potential = 587.7302427541308\n",
      "Results problem 'charges_problem_fd':\n",
      "--------------------------------------\n",
      "  Float variables:\n",
      "    0: x0  = -3.448241e+00\n",
      "    1: y0  = -1.222856e+00\n",
      "    2: x1  = 1.111708e+00\n",
      "    3: y1  = -4.880339e+00\n",
      "    4: x2  = -3.801164e+00\n",
      "    5: y2  = 3.259075e+00\n",
      "    6: x3  = 3.221156e+00\n",
      "    7: y3  = 3.824197e+00\n",
      "    8: x4  = 4.496950e-02\n",
      "    9: y4  = -5.000000e+00\n",
      "    10: x5  = 4.583818e+00\n",
      "    11: y5  = 1.998316e+00\n",
      "    12: x6  = 1.670341e-02\n",
      "    13: y6  = 3.846226e+00\n",
      "    14: x7  = 4.406340e+00\n",
      "    15: y7  = -2.378171e+00\n",
      "    16: x8  = -2.077819e+00\n",
      "    17: y8  = 4.148725e-02\n",
      "    18: x9  = -4.705998e+00\n",
      "    19: y9  = -1.695694e+00\n",
      "    20: x10 = 3.021745e+00\n",
      "    21: y10 = -3.992269e+00\n",
      "    22: x11 = -2.036664e+00\n",
      "    23: y11 = 4.571461e+00\n",
      "    24: x12 = 2.249054e+00\n",
      "    25: y12 = 4.466557e+00\n",
      "    26: x13 = 4.910621e+00\n",
      "    27: y13 = 9.471198e-01\n",
      "    28: x14 = -2.495326e+00\n",
      "    29: y14 = -2.722458e+00\n",
      "    30: x15 = -1.981268e+00\n",
      "    31: y15 = -4.591877e+00\n",
      "    32: x16 = 3.978684e+00\n",
      "    33: y16 = 3.028217e+00\n",
      "    34: x17 = -9.801689e-01\n",
      "    35: y17 = -4.905288e+00\n",
      "    36: x18 = -8.921079e-01\n",
      "    37: y18 = -3.568159e+00\n",
      "    38: x19 = -4.250451e+00\n",
      "    39: y19 = -2.635181e+00\n",
      "    40: x20 = -3.642767e+00\n",
      "    41: y20 = -3.425167e+00\n",
      "    42: x21 = 3.272095e+00\n",
      "    43: y21 = 2.134257e+00\n",
      "    44: x22 = 1.259485e+00\n",
      "    45: y22 = 4.839381e+00\n",
      "    46: x23 = -4.950823e+00\n",
      "    47: y23 = -7.301443e-01\n",
      "    48: x24 = -1.149904e+00\n",
      "    49: y24 = -1.592722e+00\n",
      "    50: x25 = -1.708064e+00\n",
      "    51: y25 = 3.435870e+00\n",
      "    52: x26 = -3.692966e+00\n",
      "    53: y26 = 6.619132e-01\n",
      "    54: x27 = -9.471715e-01\n",
      "    55: y27 = 4.911256e+00\n",
      "    56: x28 = 2.559464e+00\n",
      "    57: y28 = -2.715788e+00\n",
      "    58: x29 = -4.819748e+00\n",
      "    59: y29 = 1.359353e+00\n",
      "    60: x30 = -2.858197e+00\n",
      "    61: y30 = -4.102808e+00\n",
      "    62: x31 = 3.812890e+00\n",
      "    63: y31 = -3.243575e+00\n",
      "    64: x32 = 1.923628e+00\n",
      "    65: y32 = 3.309307e+00\n",
      "    66: x33 = 3.785146e+00\n",
      "    67: y33 = 4.599143e-01\n",
      "    68: x34 = 1.965774e+00\n",
      "    69: y34 = 1.090280e+00\n",
      "    70: x35 = 4.998437e+00\n",
      "    71: y35 = -2.042212e-01\n",
      "    72: x36 = 4.836717e+00\n",
      "    73: y36 = -1.281715e+00\n",
      "    74: x37 = 1.150943e-01\n",
      "    75: y37 = 1.024059e-01\n",
      "    76: x38 = 3.676889e+00\n",
      "    77: y38 = -1.232324e+00\n",
      "    78: x39 = 9.185059e-01\n",
      "    79: y39 = -3.687024e+00\n",
      "    80: x40 = 1.322360e-01\n",
      "    81: y40 = 5.000000e+00\n",
      "    82: x41 = 2.123445e+00\n",
      "    83: y41 = -4.532704e+00\n",
      "    84: x42 = -2.966968e+00\n",
      "    85: y42 = 4.028623e+00\n",
      "    86: x43 = 2.011081e+00\n",
      "    87: y43 = -8.076740e-01\n",
      "    88: x44 = -1.268178e+00\n",
      "    89: y44 = 1.733913e+00\n",
      "    90: x45 = 5.181616e-01\n",
      "    91: y45 = 2.264361e+00\n",
      "    92: x46 = 6.616095e-01\n",
      "    93: y46 = -2.089282e+00\n",
      "    94: x47 = -3.029271e+00\n",
      "    95: y47 = 2.271099e+00\n",
      "    96: x48 = -4.404916e+00\n",
      "    97: y48 = 2.378859e+00\n",
      "    98: x49 = -4.997015e+00\n",
      "    99: y49 = 3.120126e-01\n",
      "--------------------------------------\n",
      "  Objectives:\n",
      "    0: potential = 5.877302e+02\n",
      "--------------------------------------\n",
      "  Constraints:\n",
      "    0: radius_0  = -1.341347e+00\n",
      "    1: radius_1  = 5.357481e-03\n",
      "    2: radius_2  = 7.037024e-03\n",
      "    3: radius_3  = 3.242781e-05\n",
      "    4: radius_4  = 2.022215e-04\n",
      "    5: radius_5  = 4.658750e-04\n",
      "    6: radius_6  = -1.153737e+00\n",
      "    7: radius_7  = 7.147722e-03\n",
      "    8: radius_8  = -2.921767e+00\n",
      "    9: radius_9  = 2.179418e-03\n",
      "    10: radius_10 = 6.910426e-03\n",
      "    11: radius_11 = 4.623102e-03\n",
      "    12: radius_12 = 8.372499e-04\n",
      "    13: radius_13 = 1.123810e-03\n",
      "    14: radius_14 = -1.306976e+00\n",
      "    15: radius_15 = 1.075528e-03\n",
      "    16: radius_16 = 2.530000e-06\n",
      "    17: radius_17 = 2.257601e-03\n",
      "    18: radius_18 = -1.322009e+00\n",
      "    19: radius_19 = 1.050649e-03\n",
      "    20: radius_20 = 1.521768e-04\n",
      "    21: radius_21 = -1.093383e+00\n",
      "    22: radius_22 = 5.911889e-04\n",
      "    23: radius_23 = 4.373503e-03\n",
      "    24: radius_24 = -3.035556e+00\n",
      "    25: radius_25 = -1.162985e+00\n",
      "    26: radius_26 = -1.248184e+00\n",
      "    27: radius_27 = 1.756789e-03\n",
      "    28: radius_28 = -1.268196e+00\n",
      "    29: radius_29 = 7.774739e-03\n",
      "    30: radius_30 = 2.325808e-04\n",
      "    31: radius_31 = 5.887394e-03\n",
      "    32: radius_32 = -1.172226e+00\n",
      "    33: radius_33 = -1.187016e+00\n",
      "    34: radius_34 = -2.752117e+00\n",
      "    35: radius_35 = 2.606970e-03\n",
      "    36: radius_36 = 3.661240e-03\n",
      "    37: radius_37 = -4.845943e+00\n",
      "    38: radius_38 = -1.122096e+00\n",
      "    39: radius_39 = -1.200290e+00\n",
      "    40: radius_40 = 1.748330e-03\n",
      "    41: radius_41 = 5.439354e-03\n",
      "    42: radius_42 = 3.268774e-03\n",
      "    43: radius_43 = -2.832794e+00\n",
      "    44: radius_44 = -2.851808e+00\n",
      "    45: radius_45 = -2.677110e+00\n",
      "    46: radius_46 = -2.808464e+00\n",
      "    47: radius_47 = -1.213924e+00\n",
      "    48: radius_48 = 6.221810e-03\n",
      "    49: radius_49 = 6.747026e-03\n",
      "--------------------------------------\n",
      "  Success: True\n",
      "--------------------------------------\n",
      "\n"
     ]
    }
   ],
   "source": [
    "N = 50\n",
    "R = 5\n",
    "\n",
    "xy = np.random.uniform(-R / 10.0, R / 10.0, (N, 2))\n",
    "\n",
    "problem = ChargesProblem(xy, R)\n",
    "problem.add_objective(MinPotential(problem))\n",
    "problem.add_constraint(MaxRadius(problem))\n",
    "\n",
    "gproblem = LocalFD(problem, deltas=1e-2, fd_order=1)\n",
    "gproblem.initialize()\n",
    "\n",
    "solver = GG(\n",
    "    gproblem,\n",
    "    step_max=0.1,\n",
    "    step_min=1e-4,\n",
    "    vectorized=True,\n",
    ")\n",
    "solver.initialize()\n",
    "\n",
    "results = solver.solve(verbosity=0)\n",
    "solver.finalize(results)\n",
    "print(results)"
   ]
  },
  {
   "cell_type": "code",
   "execution_count": 10,
   "metadata": {
    "execution": {
     "iopub.execute_input": "2022-10-28T06:01:59.342261Z",
     "iopub.status.busy": "2022-10-28T06:01:59.342024Z",
     "iopub.status.idle": "2022-10-28T06:01:59.430269Z",
     "shell.execute_reply": "2022-10-28T06:01:59.429657Z"
    }
   },
   "outputs": [
    {
     "data": {
      "image/png": "[encoded data removed]",
      "text/plain": [
       "<Figure size 432x432 with 1 Axes>"
      ]
     },
     "metadata": {
      "needs_background": "light"
     },
     "output_type": "display_data"
    }
   ],
   "source": [
    "xy = results.problem_results\n",
    "fig = problem.get_fig(xy)\n",
    "plt.show()"
   ]
  }
 ],
 "metadata": {
  "kernelspec": {
   "display_name": "Python 3",
   "language": "python",
   "name": "python3"
  },
  "language_info": {
   "codemirror_mode": {
    "name": "ipython",
    "version": 3
   },
   "file_extension": ".py",
   "mimetype": "text/x-python",
   "name": "python",
   "nbconvert_exporter": "python",
   "pygments_lexer": "ipython3",
   "version": "3.8.10"
  },
  "vscode": {
   "interpreter": {
    "hash": "31f2aee4e71d21fbe5cf8b01ff0e069b9275f58929596ceb00d14d90e3e16cd6"
   }
  }
 },
 "nbformat": 4,
 "nbformat_minor": 2
}
