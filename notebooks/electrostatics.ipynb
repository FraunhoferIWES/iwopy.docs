{
 "cells": [
  {
   "cell_type": "markdown",
   "metadata": {},
   "source": [
    "# Electrostatic potential minimization"
   ]
  },
  {
   "cell_type": "markdown",
   "metadata": {},
   "source": [
    "The main purpose of `iwopy` is to be helpful when attacking more complicated optimization tasks than the minimization of simple analytical functions. As an example, we consider the minimization of an inverse distance type potential for a fully coupled system of $N$ particles in two dimensions. We can imagine such a system to be composed of $N$ individual point charges, each of them carrying the same electric unit charge. The potential that we want to minimize is then represented by\n",
    "$$\n",
    "V = \\sum_{i\\neq j} \\frac 1 {|\\mathrm r_i - \\mathrm r_j|} \\ , \\quad \\text{where} \\quad \\mathrm r_i = \\left( \\begin{array}{c} x_i \\\\ y_i \\end{array} \\right)\n",
    "$$\n",
    "denotes the two dimensional position vector of charge $i$ and the sum is over all unequal index pairs. This potential favours large distances between charges, hence we need to constrain them to a certain area for a meaningful solution. We confine them to a circle of radius $R$ by imposing $N$ constraints,\n",
    "$$\n",
    "|\\mathrm r_i| \\leq R \\ , \\quad \\text{for all} \\quad i = 0 \\ldots N-1 \\ .\n",
    "$$\n",
    "These are the required imports for this example:"
   ]
  },
  {
   "cell_type": "code",
   "execution_count": 1,
   "metadata": {
    "execution": {
     "iopub.execute_input": "2022-10-18T13:18:19.129469Z",
     "iopub.status.busy": "2022-10-18T13:18:19.128646Z",
     "iopub.status.idle": "2022-10-18T13:18:20.250460Z",
     "shell.execute_reply": "2022-10-18T13:18:20.249518Z"
    }
   },
   "outputs": [],
   "source": [
    "import numpy as np\n",
    "import matplotlib.pyplot as plt\n",
    "from iwopy import Problem, Objective, Constraint\n",
    "from iwopy.interfaces.pymoo import Optimizer_pymoo"
   ]
  },
  {
   "cell_type": "markdown",
   "metadata": {},
   "source": [
    "We start by creating a specific class that describes the variables of our problem:"
   ]
  },
  {
   "cell_type": "code",
   "execution_count": 2,
   "metadata": {
    "execution": {
     "iopub.execute_input": "2022-10-18T13:18:20.254540Z",
     "iopub.status.busy": "2022-10-18T13:18:20.254015Z",
     "iopub.status.idle": "2022-10-18T13:18:20.264525Z",
     "shell.execute_reply": "2022-10-18T13:18:20.263675Z"
    }
   },
   "outputs": [],
   "source": [
    "class ChargesProblem(Problem):\n",
    "    def __init__(self, xy_init, radius):\n",
    "        super().__init__(name=\"charges_problem\")\n",
    "        self.xy_init = xy_init\n",
    "        self.n_charges = len(xy_init)\n",
    "        self.radius = radius\n",
    "\n",
    "    def var_names_float(self):\n",
    "        \"\"\"Defines the variable names\"\"\"\n",
    "        vnames = []\n",
    "        for i in range(self.n_charges):\n",
    "            vnames += [f\"x{i}\", f\"y{i}\"]\n",
    "        return vnames\n",
    "\n",
    "    def initial_values_float(self):\n",
    "        \"\"\"Returns inital values, as given to constructor\"\"\"\n",
    "        return self.xy_init.reshape(2 * self.n_charges)\n",
    "\n",
    "    def min_values_float(self):\n",
    "        \"\"\"Minimal values for a square of size 2*radius\"\"\"\n",
    "        return np.full(2 * self.n_charges, -self.radius)\n",
    "\n",
    "    def max_values_float(self):\n",
    "        \"\"\"Maximal values for a square of size 2*radius\"\"\"\n",
    "        return np.full(2 * self.n_charges, self.radius)\n",
    "\n",
    "    def apply_individual(self, vars_int, vars_float):\n",
    "        \"\"\"Returns (x, y) variables for each charge\"\"\"\n",
    "        return vars_float.reshape(self.n_charges, 2)\n",
    "\n",
    "    def apply_population(self, vars_int, vars_float):\n",
    "        \"\"\"Returns (x, y) variables for each charge per individual\"\"\"\n",
    "        n_pop = len(vars_float)\n",
    "        return vars_float.reshape(n_pop, self.n_charges, 2)\n",
    "\n",
    "    def get_fig(self, xy):\n",
    "        \"\"\"Get a figure showing the charges locations\"\"\"\n",
    "        fig, ax = plt.subplots(figsize=(6, 6))\n",
    "        ax.scatter(xy[:, 0], xy[:, 1], color=\"orange\")\n",
    "        ax.add_patch(plt.Circle((0, 0), self.radius, color=\"darkred\", fill=False))\n",
    "        ax.set_aspect(\"equal\", adjustable=\"box\")\n",
    "        ax.set_xlabel(\"x\")\n",
    "        ax.set_ylabel(\"y\")\n",
    "        ax.set_title(f\"N = {self.n_charges}\")\n",
    "        return fig"
   ]
  },
  {
   "cell_type": "markdown",
   "metadata": {},
   "source": [
    "There are $2 N$ variables for this problem, and we order them as $(x_0, y_0, \\ldots, x_{N-1}, y_{N-1})$. This is convenient, since the numpy reshaping operation `vars_float.reshape(n_charges, 2)` then represents an array of $(x_i, y_i)$ type arrays, which is handy for calculations.\n",
    "\n",
    "Notice the two functions `apply_individual` and `apply_population`. They are being called during optimization whenever new variables are being set by the optimizer, and their purpose is to update the data in the problem class accordingly (excluding objectives and constraints, which we will deal with shortly).\n",
    "\n",
    "The difference between the two functions is that `apply_individual` evaluates a single vector of new problem variables, whereas `apply_population` handles a full population of such vectors. The implementation of the latter function is not strictly required (alternatively a loop over individuals of the population will be evaluated), but it provides a chance for a vast speed-up by vectorized evaluation. This is particularly beneficial for genetic algorithms or other easily vectorizable approaches (in fact also the gradient calculation via `iwopy` discretizations makes use of this vectorization). Of course the chosen optimizer must be able to support vectorized evaluation for this to work. Both functions return any kind of evaluation data which will be forwarded to the objective and constraint evaluation.\n",
    "\n",
    "So far we have only defined the problem variables. Objectives and constraints can be added to the problem via the `add_objective` and `add_constraint` functions, respectively. First, we implement the inverse distance potential as our objective:"
   ]
  },
  {
   "cell_type": "code",
   "execution_count": 3,
   "metadata": {
    "execution": {
     "iopub.execute_input": "2022-10-18T13:18:20.267903Z",
     "iopub.status.busy": "2022-10-18T13:18:20.267619Z",
     "iopub.status.idle": "2022-10-18T13:18:20.276084Z",
     "shell.execute_reply": "2022-10-18T13:18:20.275434Z"
    }
   },
   "outputs": [],
   "source": [
    "class MinPotential(Objective):\n",
    "    def __init__(self, problem):\n",
    "        \"\"\"Define the same variable names and ordering as in the problem\"\"\"\n",
    "        super().__init__(problem, \"potential\", vnames_float=problem.var_names_float())\n",
    "        self.n_charges = problem.n_charges\n",
    "\n",
    "    def n_components(self):\n",
    "        \"\"\"The potential is a scalar function, hence one component\"\"\"\n",
    "        return 1\n",
    "\n",
    "    def maximize(self):\n",
    "        \"\"\"Indicates that the single component is to be minimized\"\"\"\n",
    "        return [False]\n",
    "\n",
    "    def calc_individual(self, vars_int, vars_float, problem_results, components=None):\n",
    "        \"\"\"This evaluates the potential. See problem.apply_individual\n",
    "        for problem results\"\"\"\n",
    "        xy = problem_results\n",
    "        value = 0.0\n",
    "        for i in range(1, self.n_charges):\n",
    "            dist = np.maximum(np.linalg.norm(xy[i - 1, None] - xy[i:], axis=-1), 1e-10)\n",
    "            value += 2 * np.sum(1 / dist)\n",
    "        return value\n",
    "\n",
    "    def calc_population(self, vars_int, vars_float, problem_results, components=None):\n",
    "        \"\"\"This evaluates the potential in vectorized manner.\n",
    "        See problem.apply_population for problem results\"\"\"\n",
    "        xy = problem_results\n",
    "        n_pop = len(xy)\n",
    "        value = np.zeros((n_pop, 1))\n",
    "        for i in range(1, self.n_charges):\n",
    "            dist = np.maximum(\n",
    "                np.linalg.norm(xy[:, i - 1, None] - xy[:, i:], axis=-1), 1e-10\n",
    "            )\n",
    "            value[:, 0] += 2 * np.sum(1 / dist, axis=1)\n",
    "        return value"
   ]
  },
  {
   "cell_type": "markdown",
   "metadata": {},
   "source": [
    "Notice that the functions `calc_individual` and its (again optional) vectorized correspondent `calc_population` do not directly make use of the variables vector `vars_float`, which they could (and it would be perfectly fine, even intended), but instead of the `problem_results` provided by the problem functions `apply_individual` and `apply_population`.\n",
    "\n",
    "Next, we implement the $N$ radial constraints:"
   ]
  },
  {
   "cell_type": "code",
   "execution_count": 4,
   "metadata": {
    "execution": {
     "iopub.execute_input": "2022-10-18T13:18:20.296714Z",
     "iopub.status.busy": "2022-10-18T13:18:20.296076Z",
     "iopub.status.idle": "2022-10-18T13:18:20.316636Z",
     "shell.execute_reply": "2022-10-18T13:18:20.314559Z"
    }
   },
   "outputs": [],
   "source": [
    "class MaxRadius(Constraint):\n",
    "    def __init__(self, problem, tol=1e-2):\n",
    "        \"\"\"Define the same variable names and ordering as in the problem\"\"\"\n",
    "        super().__init__(\n",
    "            problem, \"radius\", vnames_float=problem.var_names_float(), tol=tol\n",
    "        )\n",
    "        self.n_charges = problem.n_charges\n",
    "        self.radius = problem.radius\n",
    "\n",
    "    def n_components(self):\n",
    "        \"\"\"One constraint per charge\"\"\"\n",
    "        return self.n_charges\n",
    "\n",
    "    def vardeps_float(self):\n",
    "        \"\"\"Boolean array that defines which component depends\n",
    "        on which variable (optional, default is on all)\"\"\"\n",
    "        deps = np.zeros((self.n_components(), self.n_charges, 2), dtype=bool)\n",
    "        np.fill_diagonal(deps[..., 0], True)\n",
    "        np.fill_diagonal(deps[..., 1], True)\n",
    "        return deps.reshape(self.n_components(), 2 * self.n_charges)\n",
    "\n",
    "    def calc_individual(self, vars_int, vars_float, problem_results, components=None):\n",
    "        \"\"\"This evaluates the constraints, negative values are valid.\n",
    "        See problem.apply_individual for problem results\"\"\"\n",
    "        components = np.s_[:] if components is None else components\n",
    "        xy = problem_results[components]\n",
    "        r = np.linalg.norm(xy, axis=-1)\n",
    "        return r - self.radius\n",
    "\n",
    "    def calc_population(self, vars_int, vars_float, problem_results, components=None):\n",
    "        \"\"\"This evaluates the constraints in vectorized manner,\n",
    "        negative values are valid. See problem.apply_population for\n",
    "        problem results\"\"\"\n",
    "        components = np.s_[:] if components is None else components\n",
    "        xy = problem_results[:, components]\n",
    "        r = np.linalg.norm(xy, axis=-1)\n",
    "        return r - self.radius"
   ]
  },
  {
   "cell_type": "markdown",
   "metadata": {},
   "source": [
    "Note that by default, negative constraint values represent validity. This can be changed by overloading the function `get_bounds` of the base class, see API, but is not recommended.\n",
    "\n",
    "Also note that the function `vardeps_float` is only relevant for gradient based solvers that support gradient sparsity (e.g. `pygmo.ipopt`). It is irrelevant for the genetic algorithm that we want to use in this example, but added for the sake of completeness.\n",
    "\n",
    "Now let's add the objective and the constraints and initialize the problem:"
   ]
  },
  {
   "cell_type": "code",
   "execution_count": 5,
   "metadata": {
    "execution": {
     "iopub.execute_input": "2022-10-18T13:18:20.324907Z",
     "iopub.status.busy": "2022-10-18T13:18:20.324263Z",
     "iopub.status.idle": "2022-10-18T13:18:20.599937Z",
     "shell.execute_reply": "2022-10-18T13:18:20.599127Z"
    }
   },
   "outputs": [
    {
     "name": "stdout",
     "output_type": "stream",
     "text": [
      "Problem 'charges_problem' (ChargesProblem): Initializing\n",
      "--------------------------------------------------------\n",
      "  n_vars_int   : 0\n",
      "  n_vars_float : 40\n",
      "--------------------------------------------------------\n",
      "  n_objectives : 1\n",
      "  n_obj_cmptns : 1\n",
      "--------------------------------------------------------\n",
      "  n_constraints: 1\n",
      "  n_con_cmptns : 20\n",
      "--------------------------------------------------------\n"
     ]
    },
    {
     "data": {
      "image/png": "[encoded data removed]",
      "text/plain": [
       "<Figure size 432x432 with 1 Axes>"
      ]
     },
     "metadata": {
      "needs_background": "light"
     },
     "output_type": "display_data"
    }
   ],
   "source": [
    "N = 20\n",
    "R = 5\n",
    "\n",
    "# generate random initial coordinates of the N charges:\n",
    "xy = np.random.uniform(-R / 10.0, R / 10.0, (N, 2))\n",
    "\n",
    "problem = ChargesProblem(xy, R)\n",
    "problem.add_objective(MinPotential(problem))\n",
    "problem.add_constraint(MaxRadius(problem))\n",
    "problem.initialize()\n",
    "\n",
    "fig = problem.get_fig(xy)\n",
    "plt.show()"
   ]
  },
  {
   "cell_type": "markdown",
   "metadata": {},
   "source": [
    "Finally, we can now setup the genetic solver [GA from pymoo](https://pymoo.org/algorithms/soo/ga.html) and solve the problem, here in vectorized form (flag `vectorize=True`):"
   ]
  },
  {
   "cell_type": "code",
   "execution_count": 6,
   "metadata": {
    "execution": {
     "iopub.execute_input": "2022-10-18T13:18:20.603490Z",
     "iopub.status.busy": "2022-10-18T13:18:20.603105Z",
     "iopub.status.idle": "2022-10-18T13:18:24.637661Z",
     "shell.execute_reply": "2022-10-18T13:18:24.636393Z"
    }
   },
   "outputs": [
    {
     "name": "stdout",
     "output_type": "stream",
     "text": [
      "Initializing Optimizer_pymoo\n",
      "Selecting sampling: float_random (FloatRandomSampling)\n",
      "Selecting algorithm: ga (GA)\n",
      "Selecting termination: default (DefaultSingleObjectiveTermination)\n",
      "\n",
      "Problem:\n",
      "--------\n",
      "  vectorize: True\n",
      "\n",
      "Algorithm:\n",
      "----------\n",
      "  type: ga\n",
      "  pop_size: 100\n",
      "\n",
      "Termination:\n",
      "------------\n",
      "  n_max_gen: 300\n",
      "  ftol: 1e-06\n",
      "  xtol: 1e-06\n",
      "\n"
     ]
    },
    {
     "name": "stdout",
     "output_type": "stream",
     "text": [
      "\n",
      "\n",
      "Optimizer_pymoo: Optimization run finished\n",
      "  Success: True\n",
      "  Best potential = 78.82999797179983\n"
     ]
    }
   ],
   "source": [
    "solver = Optimizer_pymoo(\n",
    "    problem,\n",
    "    problem_pars=dict(\n",
    "        vectorize=True,\n",
    "    ),\n",
    "    algo_pars=dict(\n",
    "        type=\"ga\",\n",
    "        pop_size=100,\n",
    "    ),\n",
    "    setup_pars=dict(),\n",
    "    term_pars=dict(\n",
    "        type=\"default\",\n",
    "        n_max_gen=300,\n",
    "        ftol=1e-6,\n",
    "        xtol=1e-6,\n",
    "    ),\n",
    ")\n",
    "solver.initialize()\n",
    "solver.print_info()\n",
    "\n",
    "results = solver.solve(verbosity=0)\n",
    "solver.finalize(results)"
   ]
  },
  {
   "cell_type": "code",
   "execution_count": 7,
   "metadata": {
    "execution": {
     "iopub.execute_input": "2022-10-18T13:18:24.642739Z",
     "iopub.status.busy": "2022-10-18T13:18:24.642220Z",
     "iopub.status.idle": "2022-10-18T13:18:24.838501Z",
     "shell.execute_reply": "2022-10-18T13:18:24.837363Z"
    }
   },
   "outputs": [
    {
     "name": "stdout",
     "output_type": "stream",
     "text": [
      "Results problem 'charges_problem':\n",
      "-----------------------------------\n",
      "  Float variables:\n",
      "    0: x0  = -2.795148e+00\n",
      "    1: y0  = -4.145348e+00\n",
      "    2: x1  = -1.185737e+00\n",
      "    3: y1  = -4.857299e+00\n",
      "    4: x2  = 2.183081e+00\n",
      "    5: y2  = -4.494050e+00\n",
      "    6: x3  = 3.726742e+00\n",
      "    7: y3  = -3.331276e+00\n",
      "    8: x4  = 2.266864e+00\n",
      "    9: y4  = 2.271410e+00\n",
      "    10: x5  = -5.520355e-01\n",
      "    11: y5  = 2.598185e+00\n",
      "    12: x6  = 2.197928e+00\n",
      "    13: y6  = -8.033704e-01\n",
      "    14: x7  = -2.576625e+00\n",
      "    15: y7  = -1.490813e-02\n",
      "    16: x8  = 4.368037e+00\n",
      "    17: y8  = 2.416230e+00\n",
      "    18: x9  = -7.164153e-01\n",
      "    19: y9  = -2.115663e+00\n",
      "    20: x10 = 4.439616e-01\n",
      "    21: y10 = -4.980161e+00\n",
      "    22: x11 = -2.254270e+00\n",
      "    23: y11 = 4.461797e+00\n",
      "    24: x12 = -4.576359e+00\n",
      "    25: y12 = -2.009217e+00\n",
      "    26: x13 = -4.999701e+00\n",
      "    27: y13 = -5.322449e-02\n",
      "    28: x14 = 4.969995e+00\n",
      "    29: y14 = 5.408246e-01\n",
      "    30: x15 = 2.475576e+00\n",
      "    31: y15 = 4.341679e+00\n",
      "    32: x16 = 4.713969e+00\n",
      "    33: y16 = -1.666030e+00\n",
      "    34: x17 = -3.574356e+00\n",
      "    35: y17 = 3.491297e+00\n",
      "    36: x18 = -4.566199e+00\n",
      "    37: y18 = 2.035903e+00\n",
      "    38: x19 = 2.192923e-01\n",
      "    39: y19 = 4.994429e+00\n",
      "-----------------------------------\n",
      "  Objectives:\n",
      "    0: potential = 7.883000e+01\n",
      "-----------------------------------\n",
      "  Constraints:\n",
      "    0: radius_0  = -3.239471e-04\n",
      "    1: radius_1  = -6.732605e-05\n",
      "    2: radius_2  = -3.768935e-03\n",
      "    3: radius_3  = -1.399513e-03\n",
      "    4: radius_4  = -1.790954e+00\n",
      "    5: radius_5  = -2.343817e+00\n",
      "    6: radius_6  = -2.659853e+00\n",
      "    7: radius_7  = -2.423332e+00\n",
      "    8: radius_8  = -8.215054e-03\n",
      "    9: radius_9  = -2.766330e+00\n",
      "    10: radius_10 = -8.992431e-05\n",
      "    11: radius_11 = -1.063100e-03\n",
      "    12: radius_12 = -1.998462e-03\n",
      "    13: radius_13 = -1.607068e-05\n",
      "    14: radius_14 = -6.663523e-04\n",
      "    15: radius_15 = -2.135545e-03\n",
      "    16: radius_16 = -2.841125e-04\n",
      "    17: radius_17 = -3.483571e-03\n",
      "    18: radius_18 = -4.925273e-04\n",
      "    19: radius_19 = -7.591524e-04\n",
      "-----------------------------------\n",
      "  Success: True\n",
      "-----------------------------------\n",
      "\n"
     ]
    },
    {
     "data": {
      "image/png": "[encoded data removed]",
      "text/plain": [
       "<Figure size 432x432 with 1 Axes>"
      ]
     },
     "metadata": {
      "needs_background": "light"
     },
     "output_type": "display_data"
    }
   ],
   "source": [
    "print(results)\n",
    "\n",
    "xy = results.problem_results\n",
    "fig = problem.get_fig(xy)\n",
    "plt.show()"
   ]
  },
  {
   "cell_type": "markdown",
   "metadata": {},
   "source": [
    "Note that this problem has many equivalent solutions, and the displayed result is the best solution that the genetic algorithm was able to find within its convergence criteria. With heuristic methods there is generally no guarantee or proof that a global optimum has been found. However, the objective function has clearly been minimized, and therefore the \"design\" was improved which is often the goal in engineering tasks.\n",
    "\n",
    "For the fun of it, let's also solve the problem using iwopy's `GG` solver (stands for _Greedy Gradient_), now for 50 charges. This solver is a simple steepest decent algorithm which projects out directions that would violate constraints (and reverts those that already do). It supports iwopy's vectorization capabilities and hence can run fast for many variables. Of course it is not as advanced as other gradient based solvers, but for this particular problem it does a good job:"
   ]
  },
  {
   "cell_type": "code",
   "execution_count": 8,
   "metadata": {
    "execution": {
     "iopub.execute_input": "2022-10-18T13:18:24.843732Z",
     "iopub.status.busy": "2022-10-18T13:18:24.843229Z",
     "iopub.status.idle": "2022-10-18T13:18:24.847966Z",
     "shell.execute_reply": "2022-10-18T13:18:24.847101Z"
    }
   },
   "outputs": [],
   "source": [
    "from iwopy import LocalFD\n",
    "from iwopy.optimizers import GG"
   ]
  },
  {
   "cell_type": "code",
   "execution_count": 9,
   "metadata": {
    "execution": {
     "iopub.execute_input": "2022-10-18T13:18:24.851637Z",
     "iopub.status.busy": "2022-10-18T13:18:24.851253Z",
     "iopub.status.idle": "2022-10-18T13:18:27.409228Z",
     "shell.execute_reply": "2022-10-18T13:18:27.408453Z"
    },
    "scrolled": true
   },
   "outputs": [
    {
     "name": "stdout",
     "output_type": "stream",
     "text": [
      "Problem 'charges_problem' (ChargesProblem): Initializing\n",
      "--------------------------------------------------------\n",
      "  n_vars_int   : 0\n",
      "  n_vars_float : 100\n",
      "--------------------------------------------------------\n",
      "  n_objectives : 1\n",
      "  n_obj_cmptns : 1\n",
      "--------------------------------------------------------\n",
      "  n_constraints: 1\n",
      "  n_con_cmptns : 50\n",
      "--------------------------------------------------------\n",
      "Problem 'charges_problem_fd' (LocalFD): Initializing\n",
      "----------------------------------------------------\n",
      "  n_vars_int   : 0\n",
      "  n_vars_float : 100\n",
      "----------------------------------------------------\n",
      "  n_objectives : 1\n",
      "  n_obj_cmptns : 1\n",
      "----------------------------------------------------\n",
      "  n_constraints: 1\n",
      "  n_con_cmptns : 50\n",
      "----------------------------------------------------\n"
     ]
    },
    {
     "name": "stdout",
     "output_type": "stream",
     "text": [
      "GG: Optimization run finished\n",
      "  Success: True\n",
      "  Best potential = 585.6460959827418\n",
      "Results problem 'charges_problem_fd':\n",
      "--------------------------------------\n",
      "  Float variables:\n",
      "    0: x0  = 4.976126e+00\n",
      "    1: y0  = 4.889333e-01\n",
      "    2: x1  = 4.969122e+00\n",
      "    3: y1  = -5.554008e-01\n",
      "    4: x2  = -1.585762e+00\n",
      "    5: y2  = -3.326123e+00\n",
      "    6: x3  = 2.098813e+00\n",
      "    7: y3  = 4.538189e+00\n",
      "    8: x4  = 6.055881e-01\n",
      "    9: y4  = 3.612959e+00\n",
      "    10: x5  = 2.094694e+00\n",
      "    11: y5  = -4.540071e+00\n",
      "    12: x6  = -1.135786e+00\n",
      "    13: y6  = 3.361473e+00\n",
      "    14: x7  = 2.734992e-01\n",
      "    15: y7  = -3.563380e+00\n",
      "    16: x8  = 4.354380e+00\n",
      "    17: y8  = 2.458128e+00\n",
      "    18: x9  = -2.763780e+00\n",
      "    19: y9  = 4.166726e+00\n",
      "    20: x10 = 4.333567e+00\n",
      "    21: y10 = -2.494105e+00\n",
      "    22: x11 = 1.430236e-01\n",
      "    23: y11 = -4.997975e+00\n",
      "    24: x12 = -3.475109e+00\n",
      "    25: y12 = -3.595205e+00\n",
      "    26: x13 = -2.975051e+00\n",
      "    27: y13 = -2.107915e+00\n",
      "    28: x14 = 3.155554e+00\n",
      "    29: y14 = -1.757885e+00\n",
      "    30: x15 = -1.639418e+00\n",
      "    31: y15 = 1.218074e+00\n",
      "    32: x16 = 3.736712e+00\n",
      "    33: y16 = -3.322250e+00\n",
      "    34: x17 = 1.788429e+00\n",
      "    35: y17 = 5.052208e-01\n",
      "    36: x18 = -4.648496e+00\n",
      "    37: y18 = 1.842018e+00\n",
      "    38: x19 = 1.278482e+00\n",
      "    39: y19 = -1.451665e+00\n",
      "    40: x20 = -4.190167e+00\n",
      "    41: y20 = 2.728205e+00\n",
      "    42: x21 = 3.625970e+00\n",
      "    43: y21 = -1.492795e-01\n",
      "    44: x22 = 2.234185e+00\n",
      "    45: y22 = 2.894312e+00\n",
      "    46: x23 = 1.128657e+00\n",
      "    47: y23 = 4.870986e+00\n",
      "    48: x24 = 4.771882e+00\n",
      "    49: y24 = 1.493538e+00\n",
      "    50: x25 = -3.213637e-01\n",
      "    51: y25 = -1.096230e-01\n",
      "    52: x26 = 4.752281e+00\n",
      "    53: y26 = -1.554477e+00\n",
      "    54: x27 = 9.239465e-02\n",
      "    55: y27 = 4.999151e+00\n",
      "    56: x28 = -7.642048e-01\n",
      "    57: y28 = -1.878478e+00\n",
      "    58: x29 = -3.603073e+00\n",
      "    59: y29 = 7.578925e-01\n",
      "    60: x30 = -3.547311e+00\n",
      "    61: y30 = 3.523769e+00\n",
      "    62: x31 = -2.710533e+00\n",
      "    63: y31 = -4.201673e+00\n",
      "    64: x32 = 2.988974e+00\n",
      "    65: y32 = -4.008256e+00\n",
      "    66: x33 = -2.704470e+00\n",
      "    67: y33 = -5.807640e-01\n",
      "    68: x34 = 3.586340e-01\n",
      "    69: y34 = 1.848145e+00\n",
      "    70: x35 = -4.998503e+00\n",
      "    71: y35 = -1.368506e-01\n",
      "    72: x36 = -9.084912e-01\n",
      "    73: y36 = 4.916770e+00\n",
      "    74: x37 = 3.289880e+00\n",
      "    75: y37 = 1.544968e+00\n",
      "    76: x38 = 1.962801e+00\n",
      "    77: y38 = -3.110769e+00\n",
      "    78: x39 = 1.144877e+00\n",
      "    79: y39 = -4.867160e+00\n",
      "    80: x40 = 2.986088e+00\n",
      "    81: y40 = 4.010518e+00\n",
      "    82: x41 = -4.887597e+00\n",
      "    83: y41 = -1.054724e+00\n",
      "    84: x42 = -4.923265e+00\n",
      "    85: y42 = 8.735720e-01\n",
      "    86: x43 = -4.590599e+00\n",
      "    87: y43 = -1.982349e+00\n",
      "    88: x44 = -1.881655e+00\n",
      "    89: y44 = 4.632425e+00\n",
      "    90: x45 = -8.483051e-01\n",
      "    91: y45 = -4.927549e+00\n",
      "    92: x46 = -2.717723e+00\n",
      "    93: y46 = 2.496187e+00\n",
      "    94: x47 = -1.803751e+00\n",
      "    95: y47 = -4.663377e+00\n",
      "    96: x48 = -4.123348e+00\n",
      "    97: y48 = -2.828332e+00\n",
      "    98: x49 = 3.755077e+00\n",
      "    99: y49 = 3.301863e+00\n",
      "--------------------------------------\n",
      "  Objectives:\n",
      "    0: potential = 5.856461e+02\n",
      "--------------------------------------\n",
      "  Constraints:\n",
      "    0: radius_0  = 8.807745e-05\n",
      "    1: radius_1  = 6.442031e-05\n",
      "    2: radius_2  = -1.315202e+00\n",
      "    3: radius_3  = 1.738616e-05\n",
      "    4: radius_4  = -1.336640e+00\n",
      "    5: radius_5  = -1.403175e-06\n",
      "    6: radius_6  = -1.451830e+00\n",
      "    7: radius_7  = -1.426139e+00\n",
      "    8: radius_8  = 3.016905e-04\n",
      "    9: radius_9  = 8.878007e-06\n",
      "    10: radius_10 = 3.662500e-05\n",
      "    11: radius_11 = 2.055137e-05\n",
      "    12: radius_12 = 1.878354e-04\n",
      "    13: radius_13 = -1.353874e+00\n",
      "    14: radius_14 = -1.387843e+00\n",
      "    15: radius_15 = -2.957600e+00\n",
      "    16: radius_16 = 3.640532e-05\n",
      "    17: radius_17 = -3.141579e+00\n",
      "    18: radius_18 = 1.540002e-04\n",
      "    19: radius_19 = -3.065614e+00\n",
      "    20: radius_20 = 5.976415e-05\n",
      "    21: radius_21 = -1.370959e+00\n",
      "    22: radius_22 = -1.343687e+00\n",
      "    23: radius_23 = 3.720958e-05\n",
      "    24: radius_24 = 1.516354e-04\n",
      "    25: radius_25 = -4.660454e+00\n",
      "    26: radius_26 = 5.737332e-05\n",
      "    27: radius_27 = 4.470086e-06\n",
      "    28: radius_28 = -2.972024e+00\n",
      "    29: radius_29 = -1.318080e+00\n",
      "    30: radius_30 = 3.646526e-05\n",
      "    31: radius_31 = 1.048580e-04\n",
      "    32: radius_32 = 8.467576e-06\n",
      "    33: radius_33 = -2.233875e+00\n",
      "    34: radius_34 = -3.117380e+00\n",
      "    35: radius_35 = 3.755846e-04\n",
      "    36: radius_36 = -1.603079e-06\n",
      "    37: radius_37 = -1.365411e+00\n",
      "    38: radius_38 = -1.321757e+00\n",
      "    39: radius_39 = -1.286713e-06\n",
      "    40: radius_40 = 9.733861e-05\n",
      "    41: radius_41 = 1.048668e-04\n",
      "    42: radius_42 = 1.662065e-04\n",
      "    43: radius_43 = 3.309711e-04\n",
      "    44: radius_44 = -1.096405e-06\n",
      "    45: radius_45 = 3.605445e-05\n",
      "    46: radius_46 = -1.309883e+00\n",
      "    47: radius_47 = 6.078340e-05\n",
      "    48: radius_48 = 1.458587e-04\n",
      "    49: radius_49 = 2.901184e-04\n",
      "--------------------------------------\n",
      "  Success: True\n",
      "--------------------------------------\n",
      "\n"
     ]
    }
   ],
   "source": [
    "N = 50\n",
    "R = 5\n",
    "\n",
    "xy = np.random.uniform(-R / 10.0, R / 10.0, (N, 2))\n",
    "\n",
    "problem = ChargesProblem(xy, R)\n",
    "problem.add_objective(MinPotential(problem))\n",
    "problem.add_constraint(MaxRadius(problem))\n",
    "\n",
    "gproblem = LocalFD(problem, deltas=1e-2, fd_order=1)\n",
    "gproblem.initialize()\n",
    "\n",
    "solver = GG(\n",
    "    gproblem,\n",
    "    step_max=0.1,\n",
    "    step_min=1e-4,\n",
    "    vectorized=True,\n",
    ")\n",
    "solver.initialize()\n",
    "\n",
    "results = solver.solve(verbosity=0)\n",
    "solver.finalize(results)\n",
    "print(results)"
   ]
  },
  {
   "cell_type": "code",
   "execution_count": 10,
   "metadata": {
    "execution": {
     "iopub.execute_input": "2022-10-18T13:18:27.412607Z",
     "iopub.status.busy": "2022-10-18T13:18:27.412328Z",
     "iopub.status.idle": "2022-10-18T13:18:27.550962Z",
     "shell.execute_reply": "2022-10-18T13:18:27.550183Z"
    }
   },
   "outputs": [
    {
     "data": {
      "image/png": "[encoded data removed]",
      "text/plain": [
       "<Figure size 432x432 with 1 Axes>"
      ]
     },
     "metadata": {
      "needs_background": "light"
     },
     "output_type": "display_data"
    }
   ],
   "source": [
    "xy = results.problem_results\n",
    "fig = problem.get_fig(xy)\n",
    "plt.show()"
   ]
  }
 ],
 "metadata": {
  "kernelspec": {
   "display_name": "Python 3",
   "language": "python",
   "name": "python3"
  },
  "language_info": {
   "codemirror_mode": {
    "name": "ipython",
    "version": 3
   },
   "file_extension": ".py",
   "mimetype": "text/x-python",
   "name": "python",
   "nbconvert_exporter": "python",
   "pygments_lexer": "ipython3",
   "version": "3.8.10"
  },
  "vscode": {
   "interpreter": {
    "hash": "31f2aee4e71d21fbe5cf8b01ff0e069b9275f58929596ceb00d14d90e3e16cd6"
   }
  }
 },
 "nbformat": 4,
 "nbformat_minor": 2
}
