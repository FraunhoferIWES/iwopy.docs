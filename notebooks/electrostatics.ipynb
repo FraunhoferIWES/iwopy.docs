{
 "cells": [
  {
   "cell_type": "markdown",
   "metadata": {},
   "source": [
    "# Electrostatic potential minimization"
   ]
  },
  {
   "cell_type": "markdown",
   "metadata": {},
   "source": [
    "The main purpose of `iwopy` is to be helpful when attacking more complicated optimization tasks than the minimization of simple analytical functions. As an example, we consider the minimization of an inverse distance type potential for a fully coupled system of $N$ particles in two dimensions. We can imagine such a system to be composed of $N$ individual point charges, each of them carrying the same electric unit charge. The potential that we want to minimize is then represented by\n",
    "$$\n",
    "V = \\sum_{i\\neq j} \\frac 1 {|\\mathrm r_i - \\mathrm r_j|} \\ , \\quad \\text{where} \\quad \\mathrm r_i = \\left( \\begin{array}{c} x_i \\\\ y_i \\end{array} \\right)\n",
    "$$\n",
    "denotes the two dimensional position vector of charge $i$ and the sum is over all unequal index pairs. This potential favours large distances between charges, hence we need to constrain them to a certain area for a meaningful solution. We confine them to a circle of radius $R$ by imposing $N$ constraints,\n",
    "$$\n",
    "|\\mathrm r_i| \\leq R \\ , \\quad \\text{for all} \\quad i = 0 \\ldots N-1 \\ .\n",
    "$$\n",
    "These are the required imports for this example:"
   ]
  },
  {
   "cell_type": "code",
   "execution_count": 1,
   "metadata": {
    "execution": {
     "iopub.execute_input": "2022-10-27T06:46:20.033056Z",
     "iopub.status.busy": "2022-10-27T06:46:20.032240Z",
     "iopub.status.idle": "2022-10-27T06:46:20.798916Z",
     "shell.execute_reply": "2022-10-27T06:46:20.798035Z"
    }
   },
   "outputs": [],
   "source": [
    "import numpy as np\n",
    "import matplotlib.pyplot as plt\n",
    "from iwopy import Problem, Objective, Constraint\n",
    "from iwopy.interfaces.pymoo import Optimizer_pymoo"
   ]
  },
  {
   "cell_type": "markdown",
   "metadata": {},
   "source": [
    "We start by creating a specific class that describes the variables of our problem:"
   ]
  },
  {
   "cell_type": "code",
   "execution_count": 2,
   "metadata": {
    "execution": {
     "iopub.execute_input": "2022-10-27T06:46:20.803828Z",
     "iopub.status.busy": "2022-10-27T06:46:20.803147Z",
     "iopub.status.idle": "2022-10-27T06:46:20.814363Z",
     "shell.execute_reply": "2022-10-27T06:46:20.813740Z"
    }
   },
   "outputs": [],
   "source": [
    "class ChargesProblem(Problem):\n",
    "    def __init__(self, xy_init, radius):\n",
    "        super().__init__(name=\"charges_problem\")\n",
    "        self.xy_init = xy_init\n",
    "        self.n_charges = len(xy_init)\n",
    "        self.radius = radius\n",
    "\n",
    "    def var_names_float(self):\n",
    "        \"\"\"Defines the variable names\"\"\"\n",
    "        vnames = []\n",
    "        for i in range(self.n_charges):\n",
    "            vnames += [f\"x{i}\", f\"y{i}\"]\n",
    "        return vnames\n",
    "\n",
    "    def initial_values_float(self):\n",
    "        \"\"\"Returns inital values, as given to constructor\"\"\"\n",
    "        return self.xy_init.reshape(2 * self.n_charges)\n",
    "\n",
    "    def min_values_float(self):\n",
    "        \"\"\"Minimal values for a square of size 2*radius\"\"\"\n",
    "        return np.full(2 * self.n_charges, -self.radius)\n",
    "\n",
    "    def max_values_float(self):\n",
    "        \"\"\"Maximal values for a square of size 2*radius\"\"\"\n",
    "        return np.full(2 * self.n_charges, self.radius)\n",
    "\n",
    "    def apply_individual(self, vars_int, vars_float):\n",
    "        \"\"\"Returns (x, y) variables for each charge\"\"\"\n",
    "        return vars_float.reshape(self.n_charges, 2)\n",
    "\n",
    "    def apply_population(self, vars_int, vars_float):\n",
    "        \"\"\"Returns (x, y) variables for each charge per individual\"\"\"\n",
    "        n_pop = len(vars_float)\n",
    "        return vars_float.reshape(n_pop, self.n_charges, 2)\n",
    "\n",
    "    def get_fig(self, xy):\n",
    "        \"\"\"Get a figure showing the charges locations\"\"\"\n",
    "        fig, ax = plt.subplots(figsize=(6, 6))\n",
    "        ax.scatter(xy[:, 0], xy[:, 1], color=\"orange\")\n",
    "        ax.add_patch(plt.Circle((0, 0), self.radius, color=\"darkred\", fill=False))\n",
    "        ax.set_aspect(\"equal\", adjustable=\"box\")\n",
    "        ax.set_xlabel(\"x\")\n",
    "        ax.set_ylabel(\"y\")\n",
    "        ax.set_title(f\"N = {self.n_charges}\")\n",
    "        return fig"
   ]
  },
  {
   "cell_type": "markdown",
   "metadata": {},
   "source": [
    "There are $2 N$ variables for this problem, and we order them as $(x_0, y_0, \\ldots, x_{N-1}, y_{N-1})$. This is convenient, since the numpy reshaping operation `vars_float.reshape(n_charges, 2)` then represents an array of $(x_i, y_i)$ type arrays, which is handy for calculations.\n",
    "\n",
    "Notice the two functions `apply_individual` and `apply_population`. They are being called during optimization whenever new variables are being set by the optimizer, and their purpose is to update the data in the problem class accordingly (excluding objectives and constraints, which we will deal with shortly).\n",
    "\n",
    "The difference between the two functions is that `apply_individual` evaluates a single vector of new problem variables, whereas `apply_population` handles a full population of such vectors. The implementation of the latter function is not strictly required (alternatively a loop over individuals of the population will be evaluated), but it provides a chance for a vast speed-up by vectorized evaluation. This is particularly beneficial for genetic algorithms or other easily vectorizable approaches (in fact also the gradient calculation via `iwopy` discretizations makes use of this vectorization). Of course the chosen optimizer must be able to support vectorized evaluation for this to work. Both functions return any kind of evaluation data which will be forwarded to the objective and constraint evaluation.\n",
    "\n",
    "So far we have only defined the problem variables. Objectives and constraints can be added to the problem via the `add_objective` and `add_constraint` functions, respectively. First, we implement the inverse distance potential as our objective:"
   ]
  },
  {
   "cell_type": "code",
   "execution_count": 3,
   "metadata": {
    "execution": {
     "iopub.execute_input": "2022-10-27T06:46:20.816821Z",
     "iopub.status.busy": "2022-10-27T06:46:20.816630Z",
     "iopub.status.idle": "2022-10-27T06:46:20.822854Z",
     "shell.execute_reply": "2022-10-27T06:46:20.822195Z"
    }
   },
   "outputs": [],
   "source": [
    "class MinPotential(Objective):\n",
    "    def __init__(self, problem):\n",
    "        \"\"\"Define the same variable names and ordering as in the problem\"\"\"\n",
    "        super().__init__(problem, \"potential\", vnames_float=problem.var_names_float())\n",
    "        self.n_charges = problem.n_charges\n",
    "\n",
    "    def n_components(self):\n",
    "        \"\"\"The potential is a scalar function, hence one component\"\"\"\n",
    "        return 1\n",
    "\n",
    "    def maximize(self):\n",
    "        \"\"\"Indicates that the single component is to be minimized\"\"\"\n",
    "        return [False]\n",
    "\n",
    "    def calc_individual(self, vars_int, vars_float, problem_results, components=None):\n",
    "        \"\"\"This evaluates the potential. See problem.apply_individual\n",
    "        for problem results\"\"\"\n",
    "        xy = problem_results\n",
    "        value = 0.0\n",
    "        for i in range(1, self.n_charges):\n",
    "            dist = np.maximum(np.linalg.norm(xy[i - 1, None] - xy[i:], axis=-1), 1e-10)\n",
    "            value += 2 * np.sum(1 / dist)\n",
    "        return value\n",
    "\n",
    "    def calc_population(self, vars_int, vars_float, problem_results, components=None):\n",
    "        \"\"\"This evaluates the potential in vectorized manner.\n",
    "        See problem.apply_population for problem results\"\"\"\n",
    "        xy = problem_results\n",
    "        n_pop = len(xy)\n",
    "        value = np.zeros((n_pop, 1))\n",
    "        for i in range(1, self.n_charges):\n",
    "            dist = np.maximum(\n",
    "                np.linalg.norm(xy[:, i - 1, None] - xy[:, i:], axis=-1), 1e-10\n",
    "            )\n",
    "            value[:, 0] += 2 * np.sum(1 / dist, axis=1)\n",
    "        return value"
   ]
  },
  {
   "cell_type": "markdown",
   "metadata": {},
   "source": [
    "Notice that the functions `calc_individual` and its (again optional) vectorized correspondent `calc_population` do not directly make use of the variables vector `vars_float`, which they could (and it would be perfectly fine, even intended), but instead of the `problem_results` provided by the problem functions `apply_individual` and `apply_population`.\n",
    "\n",
    "Next, we implement the $N$ radial constraints:"
   ]
  },
  {
   "cell_type": "code",
   "execution_count": 4,
   "metadata": {
    "execution": {
     "iopub.execute_input": "2022-10-27T06:46:20.845830Z",
     "iopub.status.busy": "2022-10-27T06:46:20.845029Z",
     "iopub.status.idle": "2022-10-27T06:46:20.868313Z",
     "shell.execute_reply": "2022-10-27T06:46:20.865974Z"
    }
   },
   "outputs": [],
   "source": [
    "class MaxRadius(Constraint):\n",
    "    def __init__(self, problem, tol=1e-2):\n",
    "        \"\"\"Define the same variable names and ordering as in the problem\"\"\"\n",
    "        super().__init__(\n",
    "            problem, \"radius\", vnames_float=problem.var_names_float(), tol=tol\n",
    "        )\n",
    "        self.n_charges = problem.n_charges\n",
    "        self.radius = problem.radius\n",
    "\n",
    "    def n_components(self):\n",
    "        \"\"\"One constraint per charge\"\"\"\n",
    "        return self.n_charges\n",
    "\n",
    "    def vardeps_float(self):\n",
    "        \"\"\"Boolean array that defines which component depends\n",
    "        on which variable (optional, default is on all)\"\"\"\n",
    "        deps = np.zeros((self.n_components(), self.n_charges, 2), dtype=bool)\n",
    "        np.fill_diagonal(deps[..., 0], True)\n",
    "        np.fill_diagonal(deps[..., 1], True)\n",
    "        return deps.reshape(self.n_components(), 2 * self.n_charges)\n",
    "\n",
    "    def calc_individual(self, vars_int, vars_float, problem_results, components=None):\n",
    "        \"\"\"This evaluates the constraints, negative values are valid.\n",
    "        See problem.apply_individual for problem results\"\"\"\n",
    "        components = np.s_[:] if components is None else components\n",
    "        xy = problem_results[components]\n",
    "        r = np.linalg.norm(xy, axis=-1)\n",
    "        return r - self.radius\n",
    "\n",
    "    def calc_population(self, vars_int, vars_float, problem_results, components=None):\n",
    "        \"\"\"This evaluates the constraints in vectorized manner,\n",
    "        negative values are valid. See problem.apply_population for\n",
    "        problem results\"\"\"\n",
    "        components = np.s_[:] if components is None else components\n",
    "        xy = problem_results[:, components]\n",
    "        r = np.linalg.norm(xy, axis=-1)\n",
    "        return r - self.radius"
   ]
  },
  {
   "cell_type": "markdown",
   "metadata": {},
   "source": [
    "Note that by default, negative constraint values represent validity. This can be changed by overloading the function `get_bounds` of the base class, see API, but is not recommended.\n",
    "\n",
    "Also note that the function `vardeps_float` is only relevant for gradient based solvers that support gradient sparsity (e.g. `pygmo.ipopt`). It is irrelevant for the genetic algorithm that we want to use in this example, but added for the sake of completeness.\n",
    "\n",
    "Now let's add the objective and the constraints and initialize the problem:"
   ]
  },
  {
   "cell_type": "code",
   "execution_count": 5,
   "metadata": {
    "execution": {
     "iopub.execute_input": "2022-10-27T06:46:20.877707Z",
     "iopub.status.busy": "2022-10-27T06:46:20.876780Z",
     "iopub.status.idle": "2022-10-27T06:46:21.084368Z",
     "shell.execute_reply": "2022-10-27T06:46:21.083726Z"
    }
   },
   "outputs": [
    {
     "name": "stdout",
     "output_type": "stream",
     "text": [
      "Problem 'charges_problem' (ChargesProblem): Initializing\n",
      "--------------------------------------------------------\n",
      "  n_vars_int   : 0\n",
      "  n_vars_float : 40\n",
      "--------------------------------------------------------\n",
      "  n_objectives : 1\n",
      "  n_obj_cmptns : 1\n",
      "--------------------------------------------------------\n",
      "  n_constraints: 1\n",
      "  n_con_cmptns : 20\n",
      "--------------------------------------------------------\n"
     ]
    },
    {
     "data": {
      "image/png": "[encoded data removed]",
      "text/plain": [
       "<Figure size 432x432 with 1 Axes>"
      ]
     },
     "metadata": {
      "needs_background": "light"
     },
     "output_type": "display_data"
    }
   ],
   "source": [
    "N = 20\n",
    "R = 5\n",
    "\n",
    "# generate random initial coordinates of the N charges:\n",
    "xy = np.random.uniform(-R / 10.0, R / 10.0, (N, 2))\n",
    "\n",
    "problem = ChargesProblem(xy, R)\n",
    "problem.add_objective(MinPotential(problem))\n",
    "problem.add_constraint(MaxRadius(problem))\n",
    "problem.initialize()\n",
    "\n",
    "fig = problem.get_fig(xy)\n",
    "plt.show()"
   ]
  },
  {
   "cell_type": "markdown",
   "metadata": {},
   "source": [
    "Finally, we can now setup the genetic algorithm [GA from pymoo](https://pymoo.org/algorithms/soo/ga.html) and solve the problem, here in vectorized form (flag `vectorize=True`):"
   ]
  },
  {
   "cell_type": "code",
   "execution_count": 6,
   "metadata": {
    "execution": {
     "iopub.execute_input": "2022-10-27T06:46:21.114990Z",
     "iopub.status.busy": "2022-10-27T06:46:21.114728Z",
     "iopub.status.idle": "2022-10-27T06:46:23.707552Z",
     "shell.execute_reply": "2022-10-27T06:46:23.706861Z"
    }
   },
   "outputs": [
    {
     "name": "stdout",
     "output_type": "stream",
     "text": [
      "Initializing Optimizer_pymoo\n",
      "Selecting sampling: float_random (FloatRandomSampling)\n",
      "Selecting algorithm: ga (GA)\n",
      "Selecting termination: default (DefaultSingleObjectiveTermination)\n",
      "\n",
      "Problem:\n",
      "--------\n",
      "  vectorize: True\n",
      "\n",
      "Algorithm:\n",
      "----------\n",
      "  type: ga\n",
      "  pop_size: 100\n",
      "\n",
      "Termination:\n",
      "------------\n",
      "  n_max_gen: 300\n",
      "  ftol: 1e-06\n",
      "  xtol: 1e-06\n",
      "\n"
     ]
    },
    {
     "name": "stdout",
     "output_type": "stream",
     "text": [
      "\n",
      "\n",
      "Optimizer_pymoo: Optimization run finished\n",
      "  Success: True\n",
      "  Best potential = 78.05015114283715\n"
     ]
    }
   ],
   "source": [
    "solver = Optimizer_pymoo(\n",
    "    problem,\n",
    "    problem_pars=dict(\n",
    "        vectorize=True,\n",
    "    ),\n",
    "    algo_pars=dict(\n",
    "        type=\"ga\",\n",
    "        pop_size=100,\n",
    "    ),\n",
    "    setup_pars=dict(),\n",
    "    term_pars=dict(\n",
    "        type=\"default\",\n",
    "        n_max_gen=300,\n",
    "        ftol=1e-6,\n",
    "        xtol=1e-6,\n",
    "    ),\n",
    ")\n",
    "solver.initialize()\n",
    "solver.print_info()\n",
    "\n",
    "results = solver.solve(verbosity=0)\n",
    "solver.finalize(results)"
   ]
  },
  {
   "cell_type": "code",
   "execution_count": 7,
   "metadata": {
    "execution": {
     "iopub.execute_input": "2022-10-27T06:46:23.710516Z",
     "iopub.status.busy": "2022-10-27T06:46:23.710126Z",
     "iopub.status.idle": "2022-10-27T06:46:23.799860Z",
     "shell.execute_reply": "2022-10-27T06:46:23.799281Z"
    }
   },
   "outputs": [
    {
     "name": "stdout",
     "output_type": "stream",
     "text": [
      "Results problem 'charges_problem':\n",
      "-----------------------------------\n",
      "  Float variables:\n",
      "    0: x0  = 3.688616e+00\n",
      "    1: y0  = -3.375504e+00\n",
      "    2: x1  = -1.164731e-01\n",
      "    3: y1  = -4.998529e+00\n",
      "    4: x2  = -4.260615e+00\n",
      "    5: y2  = 2.615864e+00\n",
      "    6: x3  = 4.999305e+00\n",
      "    7: y3  = -8.216965e-02\n",
      "    8: x4  = 3.169278e-01\n",
      "    9: y4  = -2.622034e+00\n",
      "    10: x5  = 4.659407e+00\n",
      "    11: y5  = 1.801352e+00\n",
      "    12: x6  = -4.851755e+00\n",
      "    13: y6  = -1.208305e+00\n",
      "    14: x7  = -5.848875e-01\n",
      "    15: y7  = 1.920473e+00\n",
      "    16: x8  = -2.432684e+00\n",
      "    17: y8  = -4.362729e+00\n",
      "    18: x9  = -3.208586e+00\n",
      "    19: y9  = 3.834262e+00\n",
      "    20: x10 = 2.211147e+00\n",
      "    21: y10 = 4.482294e+00\n",
      "    22: x11 = 2.051614e+00\n",
      "    23: y11 = 2.881500e-01\n",
      "    24: x12 = -3.728461e+00\n",
      "    25: y12 = -3.331270e+00\n",
      "    26: x13 = 4.607227e+00\n",
      "    27: y13 = -1.931610e+00\n",
      "    28: x14 = 2.281687e+00\n",
      "    29: y14 = -4.447048e+00\n",
      "    30: x15 = -1.530105e+00\n",
      "    31: y15 = 4.759755e+00\n",
      "    32: x16 = 4.405824e-01\n",
      "    33: y16 = 4.978314e+00\n",
      "    34: x17 = -4.924616e+00\n",
      "    35: y17 = 8.595043e-01\n",
      "    36: x18 = -2.339753e+00\n",
      "    37: y18 = -8.501757e-01\n",
      "    38: x19 = 3.559164e+00\n",
      "    39: y19 = 3.508491e+00\n",
      "-----------------------------------\n",
      "  Objectives:\n",
      "    0: potential = 7.805015e+01\n",
      "-----------------------------------\n",
      "  Constraints:\n",
      "    0: radius_0  = -8.696148e-06\n",
      "    1: radius_1  = -1.142874e-04\n",
      "    2: radius_2  = -4.421008e-04\n",
      "    3: radius_3  = -1.930519e-05\n",
      "    4: radius_4  = -2.358882e+00\n",
      "    5: radius_5  = -4.507643e-03\n",
      "    6: radius_6  = -4.758372e-05\n",
      "    7: radius_7  = -2.992437e+00\n",
      "    8: radius_8  = -4.867102e-03\n",
      "    9: radius_9  = -3.409514e-04\n",
      "    10: radius_10 = -1.987216e-03\n",
      "    11: radius_11 = -2.928249e+00\n",
      "    12: radius_12 = -1.218003e-04\n",
      "    13: radius_13 = -4.236215e-03\n",
      "    14: radius_14 = -1.767227e-03\n",
      "    15: radius_15 = -3.511364e-04\n",
      "    16: radius_16 = -2.228663e-03\n",
      "    17: radius_17 = -9.411770e-04\n",
      "    18: radius_18 = -2.510573e+00\n",
      "    19: radius_19 = -2.284951e-03\n",
      "-----------------------------------\n",
      "  Success: True\n",
      "-----------------------------------\n",
      "\n"
     ]
    },
    {
     "data": {
      "image/png": "[encoded data removed]",
      "text/plain": [
       "<Figure size 432x432 with 1 Axes>"
      ]
     },
     "metadata": {
      "needs_background": "light"
     },
     "output_type": "display_data"
    }
   ],
   "source": [
    "print(results)\n",
    "\n",
    "xy = results.problem_results\n",
    "fig = problem.get_fig(xy)\n",
    "plt.show()"
   ]
  },
  {
   "cell_type": "markdown",
   "metadata": {},
   "source": [
    "Note that this problem has many equivalent solutions, and the displayed result is the best solution that the genetic algorithm was able to find within its convergence criteria. With heuristic methods there is generally no guarantee or proof that a global optimum has been found. However, the objective function has clearly been minimized, and therefore the \"design\" was improved which is often the goal in engineering tasks.\n",
    "\n",
    "For the fun of it, let's also solve the problem using iwopy's `GG` solver (stands for _Greedy Gradient_), now for 50 charges. This solver is a simple steepest decent algorithm which projects out directions that would violate constraints (and reverts those that already do). It supports iwopy's vectorization capabilities and hence can run fast for many variables. Of course it is not as advanced as other gradient based solvers, but for this particular problem it does a good job:"
   ]
  },
  {
   "cell_type": "code",
   "execution_count": 8,
   "metadata": {
    "execution": {
     "iopub.execute_input": "2022-10-27T06:46:23.802418Z",
     "iopub.status.busy": "2022-10-27T06:46:23.802148Z",
     "iopub.status.idle": "2022-10-27T06:46:23.805649Z",
     "shell.execute_reply": "2022-10-27T06:46:23.804898Z"
    }
   },
   "outputs": [],
   "source": [
    "from iwopy import LocalFD\n",
    "from iwopy.optimizers import GG"
   ]
  },
  {
   "cell_type": "code",
   "execution_count": 9,
   "metadata": {
    "execution": {
     "iopub.execute_input": "2022-10-27T06:46:23.809016Z",
     "iopub.status.busy": "2022-10-27T06:46:23.808817Z",
     "iopub.status.idle": "2022-10-27T06:46:26.821953Z",
     "shell.execute_reply": "2022-10-27T06:46:26.821386Z"
    },
    "scrolled": true
   },
   "outputs": [
    {
     "name": "stdout",
     "output_type": "stream",
     "text": [
      "Problem 'charges_problem' (ChargesProblem): Initializing\n",
      "--------------------------------------------------------\n",
      "  n_vars_int   : 0\n",
      "  n_vars_float : 100\n",
      "--------------------------------------------------------\n",
      "  n_objectives : 1\n",
      "  n_obj_cmptns : 1\n",
      "--------------------------------------------------------\n",
      "  n_constraints: 1\n",
      "  n_con_cmptns : 50\n",
      "--------------------------------------------------------\n",
      "Problem 'charges_problem_fd' (LocalFD): Initializing\n",
      "----------------------------------------------------\n",
      "  n_vars_int   : 0\n",
      "  n_vars_float : 100\n",
      "----------------------------------------------------\n",
      "  n_objectives : 1\n",
      "  n_obj_cmptns : 1\n",
      "----------------------------------------------------\n",
      "  n_constraints: 1\n",
      "  n_con_cmptns : 50\n",
      "----------------------------------------------------\n"
     ]
    },
    {
     "name": "stdout",
     "output_type": "stream",
     "text": [
      "GG: Optimization run finished\n",
      "  Success: True\n",
      "  Best potential = 586.5711551627347\n",
      "Results problem 'charges_problem_fd':\n",
      "--------------------------------------\n",
      "  Float variables:\n",
      "    0: x0  = 2.700666e+00\n",
      "    1: y0  = -4.207899e+00\n",
      "    2: x1  = -1.825383e+00\n",
      "    3: y1  = 3.281946e+00\n",
      "    4: x2  = -3.840225e+00\n",
      "    5: y2  = -3.201979e+00\n",
      "    6: x3  = 4.179596e+00\n",
      "    7: y3  = -2.744267e+00\n",
      "    8: x4  = 9.434423e-03\n",
      "    9: y4  = 5.712761e-02\n",
      "    10: x5  = 2.119986e+00\n",
      "    11: y5  = 4.528317e+00\n",
      "    12: x6  = 3.044035e+00\n",
      "    13: y6  = 2.119689e+00\n",
      "    14: x7  = -2.792223e-01\n",
      "    15: y7  = -4.992198e+00\n",
      "    16: x8  = -4.730175e+00\n",
      "    17: y8  = 1.620335e+00\n",
      "    18: x9  = -7.989171e-01\n",
      "    19: y9  = 1.926004e+00\n",
      "    20: x10 = 3.490017e+00\n",
      "    21: y10 = -1.232034e+00\n",
      "    22: x11 = -4.399711e+00\n",
      "    23: y11 = -2.375414e+00\n",
      "    24: x12 = -3.727734e+00\n",
      "    25: y12 = 2.857634e-01\n",
      "    26: x13 = 2.034047e+00\n",
      "    27: y13 = -1.576185e-01\n",
      "    28: x14 = 3.818825e+00\n",
      "    29: y14 = 3.227473e+00\n",
      "    30: x15 = 4.659981e+00\n",
      "    31: y15 = -1.812348e+00\n",
      "    32: x16 = -3.103879e+00\n",
      "    33: y16 = -3.919942e+00\n",
      "    34: x17 = -2.905664e+00\n",
      "    35: y17 = 4.069046e+00\n",
      "    36: x18 = -9.804893e-01\n",
      "    37: y18 = 4.902923e+00\n",
      "    38: x19 = 4.993257e+00\n",
      "    39: y19 = 2.596412e-01\n",
      "    40: x20 = -3.677717e+00\n",
      "    41: y20 = 3.387391e+00\n",
      "    42: x21 = -2.240284e+00\n",
      "    43: y21 = -4.470025e+00\n",
      "    44: x22 = -1.295360e+00\n",
      "    45: y22 = -4.829289e+00\n",
      "    46: x23 = -1.196592e+00\n",
      "    47: y23 = -1.570340e+00\n",
      "    48: x24 = -3.044724e+00\n",
      "    49: y24 = 1.988018e+00\n",
      "    50: x25 = 1.040804e+00\n",
      "    51: y25 = -3.582969e+00\n",
      "    52: x26 = 8.350560e-01\n",
      "    53: y26 = -1.817599e+00\n",
      "    54: x27 = -4.962019e+00\n",
      "    55: y27 = 6.151484e-01\n",
      "    56: x28 = 1.721021e+00\n",
      "    57: y28 = 3.348478e+00\n",
      "    58: x29 = 1.775635e+00\n",
      "    59: y29 = -4.674091e+00\n",
      "    60: x30 = 6.584203e-02\n",
      "    61: y30 = 4.999566e+00\n",
      "    62: x31 = -2.019327e+00\n",
      "    63: y31 = 3.056791e-01\n",
      "    64: x32 = 2.541612e+00\n",
      "    65: y32 = -2.632913e+00\n",
      "    66: x33 = -4.299569e+00\n",
      "    67: y33 = 2.552201e+00\n",
      "    68: x34 = 1.111204e+00\n",
      "    69: y34 = 4.874959e+00\n",
      "    70: x35 = 4.428449e+00\n",
      "    71: y35 = 2.321391e+00\n",
      "    72: x36 = 3.053479e+00\n",
      "    73: y36 = 3.959326e+00\n",
      "    74: x37 = -3.295563e+00\n",
      "    75: y37 = -1.430251e+00\n",
      "    76: x38 = 7.437366e-01\n",
      "    77: y38 = -4.944376e+00\n",
      "    78: x39 = 1.218800e+00\n",
      "    79: y39 = 1.697093e+00\n",
      "    80: x40 = 3.693074e+00\n",
      "    81: y40 = 5.514053e-01\n",
      "    82: x41 = -7.363605e-03\n",
      "    83: y41 = 3.662104e+00\n",
      "    84: x42 = 4.818050e+00\n",
      "    85: y42 = 1.336569e+00\n",
      "    86: x43 = -1.966976e+00\n",
      "    87: y43 = 4.596849e+00\n",
      "    88: x44 = -2.308294e+00\n",
      "    89: y44 = -2.901572e+00\n",
      "    90: x45 = 4.937951e+00\n",
      "    91: y45 = -7.852777e-01\n",
      "    92: x46 = -6.634800e-01\n",
      "    93: y46 = -3.540690e+00\n",
      "    94: x47 = -4.791311e+00\n",
      "    95: y47 = -1.429459e+00\n",
      "    96: x48 = -4.980616e+00\n",
      "    97: y48 = -4.399127e-01\n",
      "    98: x49 = 3.517649e+00\n",
      "    99: y49 = -3.553332e+00\n",
      "--------------------------------------\n",
      "  Objectives:\n",
      "    0: potential = 5.865712e+02\n",
      "--------------------------------------\n",
      "  Constraints:\n",
      "    0: radius_0  = 1.345767e-06\n",
      "    1: radius_1  = -1.244578e+00\n",
      "    2: radius_2  = 1.066714e-07\n",
      "    3: radius_3  = 2.385275e-06\n",
      "    4: radius_4  = -4.942099e+00\n",
      "    5: radius_5  = -8.356761e-07\n",
      "    6: radius_6  = -1.290656e+00\n",
      "    7: radius_7  = 2.418989e-07\n",
      "    8: radius_8  = 3.985293e-06\n",
      "    9: radius_9  = -2.914871e+00\n",
      "    10: radius_10 = -1.298902e+00\n",
      "    11: radius_11 = 5.081198e-06\n",
      "    12: radius_12 = -1.261329e+00\n",
      "    13: radius_13 = -2.959855e+00\n",
      "    14: radius_14 = 4.021756e-07\n",
      "    15: radius_15 = 3.214437e-06\n",
      "    16: radius_16 = 8.871679e-07\n",
      "    17: radius_17 = 1.652929e-06\n",
      "    18: radius_18 = 8.306810e-07\n",
      "    19: radius_19 = 3.162305e-06\n",
      "    20: radius_20 = 2.408127e-06\n",
      "    21: radius_21 = -8.267112e-08\n",
      "    22: radius_22 = -1.323800e-06\n",
      "    23: radius_23 = -3.025715e+00\n",
      "    24: radius_24 = -1.363716e+00\n",
      "    25: radius_25 = -1.268923e+00\n",
      "    26: radius_26 = -2.999754e+00\n",
      "    27: radius_27 = 4.402048e-06\n",
      "    28: radius_28 = -1.235133e+00\n",
      "    29: radius_29 = 9.155800e-07\n",
      "    30: radius_30 = -1.790621e-07\n",
      "    31: radius_31 = -2.957667e+00\n",
      "    32: radius_32 = -1.340489e+00\n",
      "    33: radius_33 = 2.633983e-06\n",
      "    34: radius_34 = -4.747107e-07\n",
      "    35: radius_35 = 1.584141e-06\n",
      "    36: radius_36 = -1.572018e-07\n",
      "    37: radius_37 = -1.407459e+00\n",
      "    38: radius_38 = -9.452827e-08\n",
      "    39: radius_39 = -2.910598e+00\n",
      "    40: radius_40 = -1.265988e+00\n",
      "    41: radius_41 = -1.337889e+00\n",
      "    42: radius_42 = 2.504260e-06\n",
      "    43: radius_43 = 1.480597e-06\n",
      "    44: radius_44 = -1.292259e+00\n",
      "    45: radius_45 = 2.531449e-06\n",
      "    46: radius_46 = -1.397683e+00\n",
      "    47: radius_47 = 1.261666e-06\n",
      "    48: radius_48 = 5.871063e-06\n",
      "    49: radius_49 = 2.129734e-06\n",
      "--------------------------------------\n",
      "  Success: True\n",
      "--------------------------------------\n",
      "\n"
     ]
    }
   ],
   "source": [
    "N = 50\n",
    "R = 5\n",
    "\n",
    "xy = np.random.uniform(-R / 10.0, R / 10.0, (N, 2))\n",
    "\n",
    "problem = ChargesProblem(xy, R)\n",
    "problem.add_objective(MinPotential(problem))\n",
    "problem.add_constraint(MaxRadius(problem))\n",
    "\n",
    "gproblem = LocalFD(problem, deltas=1e-2, fd_order=1)\n",
    "gproblem.initialize()\n",
    "\n",
    "solver = GG(\n",
    "    gproblem,\n",
    "    step_max=0.1,\n",
    "    step_min=1e-4,\n",
    "    vectorized=True,\n",
    ")\n",
    "solver.initialize()\n",
    "\n",
    "results = solver.solve(verbosity=0)\n",
    "solver.finalize(results)\n",
    "print(results)"
   ]
  },
  {
   "cell_type": "code",
   "execution_count": 10,
   "metadata": {
    "execution": {
     "iopub.execute_input": "2022-10-27T06:46:26.824162Z",
     "iopub.status.busy": "2022-10-27T06:46:26.823964Z",
     "iopub.status.idle": "2022-10-27T06:46:26.911317Z",
     "shell.execute_reply": "2022-10-27T06:46:26.910749Z"
    }
   },
   "outputs": [
    {
     "data": {
      "image/png": "[encoded data removed]",
      "text/plain": [
       "<Figure size 432x432 with 1 Axes>"
      ]
     },
     "metadata": {
      "needs_background": "light"
     },
     "output_type": "display_data"
    }
   ],
   "source": [
    "xy = results.problem_results\n",
    "fig = problem.get_fig(xy)\n",
    "plt.show()"
   ]
  }
 ],
 "metadata": {
  "kernelspec": {
   "display_name": "Python 3",
   "language": "python",
   "name": "python3"
  },
  "language_info": {
   "codemirror_mode": {
    "name": "ipython",
    "version": 3
   },
   "file_extension": ".py",
   "mimetype": "text/x-python",
   "name": "python",
   "nbconvert_exporter": "python",
   "pygments_lexer": "ipython3",
   "version": "3.8.10"
  },
  "vscode": {
   "interpreter": {
    "hash": "31f2aee4e71d21fbe5cf8b01ff0e069b9275f58929596ceb00d14d90e3e16cd6"
   }
  }
 },
 "nbformat": 4,
 "nbformat_minor": 2
}
