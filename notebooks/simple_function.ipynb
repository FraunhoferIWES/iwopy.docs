{
 "cells": [
  {
   "cell_type": "markdown",
   "metadata": {},
   "source": [
    "# Simple function minimization"
   ]
  },
  {
   "cell_type": "markdown",
   "metadata": {},
   "source": [
    "Let's minimize the following simple function:\n",
    "\n",
    "$$\n",
    "f(x, y) = (x - 3.6)^2 + 2 (y+1.1)^2\n",
    "$$\n",
    "\n",
    "The global minimum is obvious: $f=0$ for $x=3.6, y=-1.1$. We now want to find this minimum using `iwopy`, in a setup as follows:\n",
    "\n",
    "- Parameter bounds: $x, y \\in [-5,5]$\n",
    "- Unconstrained minimization\n",
    "- Gradient based optimizer [IPOPT](https://esa.github.io/pagmo2/docs/cpp/algorithms/ipopt.html) from [pygmo](https://esa.github.io/pygmo2/)\n",
    "- Analytical gradients\n",
    "\n",
    "The usage of finite difference gradients will be demonstrated directly after. We start by importing the required classes from the `iwopy` package:"
   ]
  },
  {
   "cell_type": "code",
   "execution_count": 1,
   "metadata": {
    "execution": {
     "iopub.execute_input": "2023-02-02T10:28:18.194871Z",
     "iopub.status.busy": "2023-02-02T10:28:18.193275Z",
     "iopub.status.idle": "2023-02-02T10:28:18.561687Z",
     "shell.execute_reply": "2023-02-02T10:28:18.560877Z"
    }
   },
   "outputs": [],
   "source": [
    "from iwopy import SimpleProblem, SimpleObjective\n",
    "from iwopy.interfaces.pygmo import Optimizer_pygmo"
   ]
  },
  {
   "cell_type": "markdown",
   "metadata": {},
   "source": [
    "The `SimpleProblem` will be instantiated with two float type variables `x` and `y` which will be passed on to all linked objectives and constraints. The `SimpleObjective` (and also the `SimpleConstraint` classes assume the same variables as the problem, in the same order. We can therefore implement the above function $f(x, y)$ and the derivative \n",
    "$$\n",
    "g(v, x, y) = \\left\\{ \n",
    "\\begin{array}{ll}\n",
    "\\mathrm df / \\mathrm dx \\ ,& \\text{if} \\ v = 0 \\\\\n",
    "\\mathrm df / \\mathrm dy \\ ,& \\text{if} \\ v = 1\n",
    "\\end{array}\n",
    "\\right.\n",
    "$$ \n",
    "in a straight forward manner:"
   ]
  },
  {
   "cell_type": "code",
   "execution_count": 2,
   "metadata": {
    "execution": {
     "iopub.execute_input": "2023-02-02T10:28:18.564039Z",
     "iopub.status.busy": "2023-02-02T10:28:18.563841Z",
     "iopub.status.idle": "2023-02-02T10:28:18.567241Z",
     "shell.execute_reply": "2023-02-02T10:28:18.566628Z"
    }
   },
   "outputs": [],
   "source": [
    "class MinFunc(SimpleObjective):\n",
    "    def f(self, x, y):\n",
    "        return (x - 3.6) ** 2 + 2 * (y + 1.1) ** 2\n",
    "\n",
    "    def g(self, v, x, y, components):\n",
    "        return 2 * (x - 3.6) if v == 0 else 4 * (y + 1.1)"
   ]
  },
  {
   "cell_type": "markdown",
   "metadata": {},
   "source": [
    "Notice that the `components` argument of the function `g` is not used here since `f` is a single-component function.\n",
    "\n",
    "In the case of multi-component functions the parameter `n_components` has to be passed to the `__init__` function of `SimpleObjective`, and `f` has to return a list of scalars. In that case also `g` has to return a list of results, with same length as the requested `components`. The same rules apply to classes derived from `SimpleConstraint`.\n",
    "\n",
    "We can now proceed and setup the problem:"
   ]
  },
  {
   "cell_type": "code",
   "execution_count": 3,
   "metadata": {
    "execution": {
     "iopub.execute_input": "2023-02-02T10:28:18.569148Z",
     "iopub.status.busy": "2023-02-02T10:28:18.568981Z",
     "iopub.status.idle": "2023-02-02T10:28:18.572601Z",
     "shell.execute_reply": "2023-02-02T10:28:18.572144Z"
    },
    "scrolled": true
   },
   "outputs": [
    {
     "name": "stdout",
     "output_type": "stream",
     "text": [
      "Problem 'minf' (SimpleProblem): Initializing\n",
      "--------------------------------------------\n",
      "  n_vars_int   : 0\n",
      "  n_vars_float : 2\n",
      "--------------------------------------------\n",
      "  n_objectives : 1\n",
      "  n_obj_cmptns : 1\n",
      "--------------------------------------------\n",
      "  n_constraints: 0\n",
      "  n_con_cmptns : 0\n",
      "--------------------------------------------\n"
     ]
    }
   ],
   "source": [
    "problem = SimpleProblem(\n",
    "    name=\"minf\",\n",
    "    float_vars=[\"x\", \"y\"],\n",
    "    init_values_float=[0.0, 0.0],\n",
    "    min_values_float=[-5.0, -5.0],\n",
    "    max_values_float=[5.0, 5.0],\n",
    ")\n",
    "problem.add_objective(MinFunc(problem))\n",
    "problem.initialize()"
   ]
  },
  {
   "cell_type": "markdown",
   "metadata": {},
   "source": [
    "Note that in a similar way you can easily add constraints to the problem, by defining them in a class that is derived from `iwopy.Constraint` or `iwopy.SimpleConstraint` and then adding them via `problem.add_constraint(...)`. \n",
    "\n",
    "Adding additional objectives works in the same way, simply repeat `problem.add_objective(...)` as often as you want. However, be aware that not all optimizers can handle multiple objective cases.\n",
    "\n",
    "Next, we create and initialize the solver:"
   ]
  },
  {
   "cell_type": "code",
   "execution_count": 4,
   "metadata": {
    "execution": {
     "iopub.execute_input": "2023-02-02T10:28:18.574554Z",
     "iopub.status.busy": "2023-02-02T10:28:18.574396Z",
     "iopub.status.idle": "2023-02-02T10:28:18.578808Z",
     "shell.execute_reply": "2023-02-02T10:28:18.578342Z"
    }
   },
   "outputs": [
    {
     "name": "stdout",
     "output_type": "stream",
     "text": [
      "\n",
      "Algorithm name: Ipopt: Interior Point Optimization [deterministic]\n",
      "\tC++ class name: pagmo::ipopt\n",
      "\n",
      "\tThread safety: none\n",
      "\n",
      "Extra info:\n",
      "\tLast optimisation return code: Solve_Succeeded (value = 0)\n",
      "\tVerbosity: 1\n",
      "\tIndividual selection policy: best\n",
      "\tIndividual replacement policy: best\n",
      "\tNumeric options: {tol : 0.0001}\n",
      "\n"
     ]
    }
   ],
   "source": [
    "solver = Optimizer_pygmo(\n",
    "    problem,\n",
    "    problem_pars=dict(),\n",
    "    algo_pars=dict(type=\"ipopt\", tol=1e-4),\n",
    ")\n",
    "solver.initialize()\n",
    "solver.print_info()"
   ]
  },
  {
   "cell_type": "markdown",
   "metadata": {},
   "source": [
    "Here `tol` is an `IPOPT` parameter that defines the convergence tolerance. Now we are finally ready - let's solve the problem!"
   ]
  },
  {
   "cell_type": "code",
   "execution_count": 5,
   "metadata": {
    "execution": {
     "iopub.execute_input": "2023-02-02T10:28:18.580940Z",
     "iopub.status.busy": "2023-02-02T10:28:18.580413Z",
     "iopub.status.idle": "2023-02-02T10:28:18.591915Z",
     "shell.execute_reply": "2023-02-02T10:28:18.591192Z"
    },
    "scrolled": true
   },
   "outputs": [
    {
     "name": "stdout",
     "output_type": "stream",
     "text": [
      "\n",
      "******************************************************************************\n",
      "This program contains Ipopt, a library for large-scale nonlinear optimization.\n",
      " Ipopt is released as open source code under the Eclipse Public License (EPL).\n",
      "         For more information visit https://github.com/coin-or/Ipopt\n",
      "******************************************************************************\n",
      "\n",
      "\n",
      " objevals:        objval:      violated:    viol. norm:\n",
      "         1          15.38              0              0\n",
      "         2        9.23375              0              0\n",
      "         3        9.23375              0              0\n",
      "         4        9.23375              0              0\n",
      "         5        9.23375              0              0\n",
      "         6        9.23375              0              0\n",
      "         7        1.60594              0              0\n",
      "\n",
      "Problem name: minf\n",
      "\tC++ class name: pybind11::object\n",
      "\n",
      "\tGlobal dimension:\t\t\t2\n",
      "\tInteger dimension:\t\t\t0\n",
      "\tFitness dimension:\t\t\t1\n",
      "\tNumber of objectives:\t\t\t1\n",
      "\tEquality constraints dimension:\t\t0\n",
      "\tInequality constraints dimension:\t0\n",
      "\tLower bounds: [-5, -5]\n",
      "\tUpper bounds: [5, 5]\n",
      "\tHas batch fitness evaluation: false\n",
      "\n",
      "\tHas gradient: true\n",
      "\tUser implemented gradient sparsity: true\n",
      "\tExpected gradients: 2\n",
      "\tHas hessians: false\n",
      "\tUser implemented hessians sparsity: false\n",
      "\n",
      "\tFitness evaluations: 14\n",
      "\tGradient evaluations: 7\n",
      "\n",
      "\tThread safety: none\n",
      "\n",
      "Population size: 1\n",
      "\n",
      "List of individuals: \n",
      "#0:\n",
      "\tID:\t\t\t12438814850537371647\n",
      "\tDecision vector:\t[3.6, -1.1]\n",
      "\tFitness vector:\t\t[1.28522e-12]\n",
      "\n",
      "Champion decision vector: [3.6, -1.1]\n",
      "Champion fitness: [1.28522e-12]\n",
      "\n",
      "\n",
      "\n",
      "Optimizer_pygmo: Optimization run finished\n",
      "  Success: True\n",
      "  Best f = 1.2852212531163044e-12\n"
     ]
    },
    {
     "name": "stdout",
     "output_type": "stream",
     "text": [
      "         8      0.0440281              0              0\n",
      "         9     0.00157443              0              0\n",
      "        10    1.35988e-06              0              0\n",
      "        11    1.28522e-12              0              0\n"
     ]
    }
   ],
   "source": [
    "results = solver.solve()\n",
    "solver.finalize(results)"
   ]
  },
  {
   "cell_type": "code",
   "execution_count": 6,
   "metadata": {
    "execution": {
     "iopub.execute_input": "2023-02-02T10:28:18.593875Z",
     "iopub.status.busy": "2023-02-02T10:28:18.593575Z",
     "iopub.status.idle": "2023-02-02T10:28:18.596432Z",
     "shell.execute_reply": "2023-02-02T10:28:18.595857Z"
    }
   },
   "outputs": [
    {
     "name": "stdout",
     "output_type": "stream",
     "text": [
      "Results problem 'minf':\n",
      "------------------------\n",
      "  Float variables:\n",
      "    0: x = 3.599999e+00\n",
      "    1: y = -1.100000e+00\n",
      "------------------------\n",
      "  Objectives:\n",
      "    0: f = 1.285221e-12\n",
      "------------------------\n",
      "  Success: True\n",
      "------------------------\n",
      "\n"
     ]
    }
   ],
   "source": [
    "print(results)"
   ]
  },
  {
   "cell_type": "markdown",
   "metadata": {},
   "source": [
    "The `results` object is an instance of the class `OptResults`, cf. API. it carries attributes\n",
    "\n",
    "- `vars_int`: The integer variables of the solution\n",
    "- `vars_float`: The float variables of the solution\n",
    "- `objs`: The objective function values of the solution\n",
    "- `cons`: The constraint function values of the solution\n",
    "- `problem_results`: The object returned by the problem when applying the solution\n",
    "- `success` : Boolean flag indicating a successful solution\n",
    "- `vnames_int`: The names of the integer variables\n",
    "- `vnames_float`: The names of the float variables\n",
    "- `onames`: The names of the objectives (all components)\n",
    "- `cnames`: The names of the constraints (all components)\n",
    "\n",
    "Next, we want to explore finite difference gradient calculations for the same example. We can either remove the function `g(v, x, y, components)` from the `MinFunc` class, or create it invoking the parameter `has_ana_derivs=False`. This will then ignore the analytical gradient definition in the class.\n",
    "\n",
    "Additionally, we need to wrap the problem into a wrapper that provides numerical derivatives. There are two choices:\n",
    "\n",
    "- `DiscretizeRegGrid`: A wrapper that evaluates the problem on a regular grid and calculates derivatives based on fixed grid point locations. Interpolation in between is optional (and increases the number of required function evaluations). The grid also offers a memory such that re-calculations of grid point results are minimized.\n",
    "- `LocalFD`: A wrapper that evaluates local finite difference rules for derivative calculations. Hence the problem evaluation points are defined based on the current variables and hence not memorized since those usually differ with every call.\n",
    "\n",
    "The `LocalFD` is usually the faster choice, unless you are expecting a lot of benefits from the memory capabilities of the regular grid. Here is an example how to use it for solving our problem:"
   ]
  },
  {
   "cell_type": "code",
   "execution_count": 7,
   "metadata": {
    "execution": {
     "iopub.execute_input": "2023-02-02T10:28:18.598232Z",
     "iopub.status.busy": "2023-02-02T10:28:18.598079Z",
     "iopub.status.idle": "2023-02-02T10:28:18.601452Z",
     "shell.execute_reply": "2023-02-02T10:28:18.600483Z"
    }
   },
   "outputs": [],
   "source": [
    "from iwopy import LocalFD"
   ]
  },
  {
   "cell_type": "code",
   "execution_count": 8,
   "metadata": {
    "execution": {
     "iopub.execute_input": "2023-02-02T10:28:18.604164Z",
     "iopub.status.busy": "2023-02-02T10:28:18.603976Z",
     "iopub.status.idle": "2023-02-02T10:28:18.606961Z",
     "shell.execute_reply": "2023-02-02T10:28:18.606518Z"
    }
   },
   "outputs": [],
   "source": [
    "problem = SimpleProblem(\n",
    "    name=\"minf\",\n",
    "    float_vars=[\"x\", \"y\"],\n",
    "    init_values_float=[0.0, 0.0],\n",
    "    min_values_float=[-5.0, -5.0],\n",
    "    max_values_float=[5.0, 5.0],\n",
    ")\n",
    "problem.add_objective(MinFunc(problem, has_ana_derivs=False))"
   ]
  },
  {
   "cell_type": "code",
   "execution_count": 9,
   "metadata": {
    "execution": {
     "iopub.execute_input": "2023-02-02T10:28:18.608665Z",
     "iopub.status.busy": "2023-02-02T10:28:18.608488Z",
     "iopub.status.idle": "2023-02-02T10:28:18.611865Z",
     "shell.execute_reply": "2023-02-02T10:28:18.611359Z"
    },
    "scrolled": true
   },
   "outputs": [
    {
     "name": "stdout",
     "output_type": "stream",
     "text": [
      "Problem 'minf' (SimpleProblem): Initializing\n",
      "--------------------------------------------\n",
      "  n_vars_int   : 0\n",
      "  n_vars_float : 2\n",
      "--------------------------------------------\n",
      "  n_objectives : 1\n",
      "  n_obj_cmptns : 1\n",
      "--------------------------------------------\n",
      "  n_constraints: 0\n",
      "  n_con_cmptns : 0\n",
      "--------------------------------------------\n",
      "Problem 'minf_fd' (LocalFD): Initializing\n",
      "-----------------------------------------\n",
      "  n_vars_int   : 0\n",
      "  n_vars_float : 2\n",
      "-----------------------------------------\n",
      "  n_objectives : 1\n",
      "  n_obj_cmptns : 1\n",
      "-----------------------------------------\n",
      "  n_constraints: 0\n",
      "  n_con_cmptns : 0\n",
      "-----------------------------------------\n"
     ]
    }
   ],
   "source": [
    "gproblem = LocalFD(problem, deltas=1e-4, fd_order=2)\n",
    "gproblem.initialize()"
   ]
  },
  {
   "cell_type": "markdown",
   "metadata": {},
   "source": [
    "The `gproblem` object now corresponds to original `problem` with finite difference gradients of order 2. We can use the same gradient based solver as above for solving this problem:"
   ]
  },
  {
   "cell_type": "code",
   "execution_count": 10,
   "metadata": {
    "execution": {
     "iopub.execute_input": "2023-02-02T10:28:18.614626Z",
     "iopub.status.busy": "2023-02-02T10:28:18.614135Z",
     "iopub.status.idle": "2023-02-02T10:28:18.630741Z",
     "shell.execute_reply": "2023-02-02T10:28:18.630216Z"
    }
   },
   "outputs": [
    {
     "name": "stdout",
     "output_type": "stream",
     "text": [
      "\n",
      "Optimisation return status: Solve_Succeeded (value = 0)\n",
      "\n",
      " objevals:        objval:      violated:    viol. norm:\n",
      "         1          15.38              0              0\n",
      "         2        9.23375              0              0\n",
      "         3        9.23375              0              0\n",
      "         4        9.23375              0              0\n",
      "         5        9.23375              0              0\n",
      "         6        9.23375              0              0\n",
      "         7        1.60594              0              0\n",
      "         8      0.0440281              0              0\n",
      "         9     0.00157443              0              0\n",
      "        10    1.35988e-06              0              0\n",
      "\n",
      "Problem name: minf_fd\n",
      "\tC++ class name: pybind11::object\n",
      "\n",
      "\tGlobal dimension:\t\t\t2\n",
      "\tInteger dimension:\t\t\t0\n",
      "\tFitness dimension:\t\t\t1\n",
      "\tNumber of objectives:\t\t\t1\n",
      "\tEquality constraints dimension:\t\t0\n",
      "\tInequality constraints dimension:\t0\n",
      "\tLower bounds: [-5, -5]\n",
      "\tUpper bounds: [5, 5]\n",
      "\tHas batch fitness evaluation: false\n",
      "\n",
      "\tHas gradient: true\n",
      "\tUser implemented gradient sparsity: true\n",
      "\tExpected gradients: 2\n",
      "\tHas hessians: false\n",
      "\tUser implemented hessians sparsity: false\n",
      "\n",
      "\tFitness evaluations: 14\n",
      "\tGradient evaluations: 7\n",
      "\n",
      "\tThread safety: none\n",
      "\n",
      "Population size: 1\n",
      "\n",
      "List of individuals: \n",
      "#0:\n",
      "\tID:\t\t\t10466017124361567679\n",
      "\tDecision vector:\t[3.6, -1.1]\n",
      "\tFitness vector:\t\t[1.28522e-12]\n",
      "\n",
      "Champion decision vector: [3.6, -1.1]\n",
      "Champion fitness: [1.28522e-12]\n",
      "\n",
      "\n",
      "\n",
      "Optimizer_pygmo: Optimization run finished\n",
      "  Success: True\n",
      "  Best f = 1.285221254342924e-12\n",
      "        11    1.28522e-12              0              0\n"
     ]
    }
   ],
   "source": [
    "solver = Optimizer_pygmo(\n",
    "    gproblem,\n",
    "    problem_pars=dict(),\n",
    "    algo_pars=dict(type=\"ipopt\", tol=1e-4),\n",
    ")\n",
    "solver.initialize()\n",
    "\n",
    "results = solver.solve()\n",
    "solver.finalize(results)"
   ]
  },
  {
   "cell_type": "code",
   "execution_count": 11,
   "metadata": {
    "execution": {
     "iopub.execute_input": "2023-02-02T10:28:18.633137Z",
     "iopub.status.busy": "2023-02-02T10:28:18.632708Z",
     "iopub.status.idle": "2023-02-02T10:28:18.635679Z",
     "shell.execute_reply": "2023-02-02T10:28:18.635209Z"
    }
   },
   "outputs": [
    {
     "name": "stdout",
     "output_type": "stream",
     "text": [
      "Results problem 'minf_fd':\n",
      "---------------------------\n",
      "  Float variables:\n",
      "    0: x = 3.599999e+00\n",
      "    1: y = -1.100000e+00\n",
      "---------------------------\n",
      "  Objectives:\n",
      "    0: f = 1.285221e-12\n",
      "---------------------------\n",
      "  Success: True\n",
      "---------------------------\n",
      "\n"
     ]
    }
   ],
   "source": [
    "print(results)"
   ]
  }
 ],
 "metadata": {
  "kernelspec": {
   "display_name": "Python 3",
   "language": "python",
   "name": "python3"
  },
  "language_info": {
   "codemirror_mode": {
    "name": "ipython",
    "version": 3
   },
   "file_extension": ".py",
   "mimetype": "text/x-python",
   "name": "python",
   "nbconvert_exporter": "python",
   "pygments_lexer": "ipython3",
   "version": "3.8.15"
  },
  "vscode": {
   "interpreter": {
    "hash": "31f2aee4e71d21fbe5cf8b01ff0e069b9275f58929596ceb00d14d90e3e16cd6"
   }
  }
 },
 "nbformat": 4,
 "nbformat_minor": 2
}
