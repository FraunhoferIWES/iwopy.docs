{
 "cells": [
  {
   "cell_type": "markdown",
   "metadata": {},
   "source": [
    "# Examples"
   ]
  },
  {
   "cell_type": "markdown",
   "metadata": {},
   "source": [
    "## Simple function minimization"
   ]
  },
  {
   "cell_type": "markdown",
   "metadata": {},
   "source": [
    "Let's minimize the following simple function:\n",
    "\n",
    "$$\n",
    "f(x, y) = (x - 3.6)^2 - 2 (y+1.1)^2\n",
    "$$\n",
    "\n",
    "The global minimum is obvious: $f=0$ for $x=3.6, y=-1.1$. We now want to find this minimum using `iwopy`, in a setup as follows:\n",
    "\n",
    "- Parameter bounds: $x, y \\in [-5,5]$\n",
    "- Unconstrained minimization\n",
    "- Gradient based optimizer [IPOPT](https://esa.github.io/pagmo2/docs/cpp/algorithms/ipopt.html) from [pygmo](https://esa.github.io/pygmo2/)\n",
    "- Analytical gradients\n",
    "\n",
    "The usage of finite difference gradients will be demonstrated directly after. We start by importing the required classes from the `iwopy` package:"
   ]
  },
  {
   "cell_type": "code",
   "execution_count": 1,
   "metadata": {
    "execution": {
     "iopub.execute_input": "2022-08-10T06:19:11.074375Z",
     "iopub.status.busy": "2022-08-10T06:19:11.073960Z",
     "iopub.status.idle": "2022-08-10T06:19:11.764648Z",
     "shell.execute_reply": "2022-08-10T06:19:11.764071Z"
    }
   },
   "outputs": [],
   "source": [
    "from iwopy import SimpleProblem, SimpleObjective\n",
    "from iwopy.interfaces.pygmo import Optimizer_pygmo"
   ]
  },
  {
   "cell_type": "markdown",
   "metadata": {},
   "source": [
    "The `SimpleProblem` will be instantiated with two float type variables `x` and `y` which will be passed on to all linked objectives and constraints. The `SimpleObjective` (and also the `SimpleConstraint` classes assume the same variables as the problem, in the same order. We can therefore implement the above function $f(x, y)$ and the derivative \n",
    "$$\n",
    "g(v, x, y) = \\left\\{ \n",
    "\\begin{array}{ll}\n",
    "\\mathrm df / \\mathrm dx \\ ,& \\text{if} \\ v = 0 \\\\\n",
    "\\mathrm df / \\mathrm dy \\ ,& \\text{if} \\ v = 1\n",
    "\\end{array}\n",
    "\\right.\n",
    "$$ \n",
    "in a straight forward manner:"
   ]
  },
  {
   "cell_type": "code",
   "execution_count": 2,
   "metadata": {
    "execution": {
     "iopub.execute_input": "2022-08-10T06:19:11.767577Z",
     "iopub.status.busy": "2022-08-10T06:19:11.767210Z",
     "iopub.status.idle": "2022-08-10T06:19:11.770941Z",
     "shell.execute_reply": "2022-08-10T06:19:11.770417Z"
    }
   },
   "outputs": [],
   "source": [
    "class MinFunc(SimpleObjective):\n",
    "    def f(self, x, y):\n",
    "        return (x - 3.6) ** 2 + 2 * (y + 1.1) ** 2\n",
    "\n",
    "    def g(self, v, x, y, components):\n",
    "        return 2 * (x - 3.6) if v == 0 else 4 * (y + 1.1)"
   ]
  },
  {
   "cell_type": "markdown",
   "metadata": {},
   "source": [
    "Notice that the `components` argument of the function `g` is not used here since `f` is a single-component function.\n",
    "\n",
    "Otherwise, the parameter `n_components` has to be passed to the `__init__` function of `SimpleObjective`, and `f` has to return a list of scalars. In that case also `g` has to return a list of results, with same length as the requested `components`. The same rules apply to classes derived from `SimpleConstraint`.\n",
    "\n",
    "We can now proceed and setup the problem:"
   ]
  },
  {
   "cell_type": "code",
   "execution_count": 3,
   "metadata": {
    "execution": {
     "iopub.execute_input": "2022-08-10T06:19:11.773314Z",
     "iopub.status.busy": "2022-08-10T06:19:11.773094Z",
     "iopub.status.idle": "2022-08-10T06:19:11.777117Z",
     "shell.execute_reply": "2022-08-10T06:19:11.776558Z"
    },
    "scrolled": true
   },
   "outputs": [
    {
     "name": "stdout",
     "output_type": "stream",
     "text": [
      "Problem 'minf' (SimpleProblem): Initializing\n",
      "--------------------------------------------\n",
      "  n_vars_int   : 0\n",
      "  n_vars_float : 2\n",
      "--------------------------------------------\n",
      "  n_objectives : 1\n",
      "  n_obj_cmptns : 1\n",
      "--------------------------------------------\n",
      "  n_constraints: 0\n",
      "  n_con_cmptns : 0\n",
      "--------------------------------------------\n"
     ]
    }
   ],
   "source": [
    "problem = SimpleProblem(\n",
    "    name=\"minf\",\n",
    "    float_vars=[\"x\", \"y\"],\n",
    "    init_values_float=[0.0, 0.0],\n",
    "    min_values_float=[-5.0, -5.0],\n",
    "    max_values_float=[5.0, 5.0],\n",
    ")\n",
    "problem.add_objective(MinFunc(problem))\n",
    "problem.initialize()"
   ]
  },
  {
   "cell_type": "markdown",
   "metadata": {},
   "source": [
    "Note that in a similar way you can easily add constraints to the problem, by defining them in a class that is derived from `iwopy.Constraint` or `iwopy.SimpleConstraint` and then adding them via `problem.add_constraint(...)`. \n",
    "\n",
    "Adding additional objectives works in the same way, simply repeat `problem.add_objective(...)` as often as you want. However, be aware that not all optimizers can handle multiple objective cases.\n",
    "\n",
    "Next, we create and initialize the solver:"
   ]
  },
  {
   "cell_type": "code",
   "execution_count": 4,
   "metadata": {
    "execution": {
     "iopub.execute_input": "2022-08-10T06:19:11.810317Z",
     "iopub.status.busy": "2022-08-10T06:19:11.810098Z",
     "iopub.status.idle": "2022-08-10T06:19:11.815128Z",
     "shell.execute_reply": "2022-08-10T06:19:11.814579Z"
    }
   },
   "outputs": [
    {
     "name": "stdout",
     "output_type": "stream",
     "text": [
      "\n",
      "Algorithm name: Ipopt: Interior Point Optimization [deterministic]\n",
      "\tC++ class name: pagmo::ipopt\n",
      "\n",
      "\tThread safety: none\n",
      "\n",
      "Extra info:\n",
      "\tLast optimisation return code: Solve_Succeeded (value = 0)\n",
      "\tVerbosity: 1\n",
      "\tIndividual selection policy: best\n",
      "\tIndividual replacement policy: best\n",
      "\tNumeric options: {tol : 0.0001}\n",
      "\n"
     ]
    }
   ],
   "source": [
    "solver = Optimizer_pygmo(\n",
    "    problem,\n",
    "    problem_pars=dict(c_tol=1e-3),\n",
    "    algo_pars=dict(type=\"ipopt\", tol=1e-4),\n",
    ")\n",
    "solver.initialize()\n",
    "solver.print_info()"
   ]
  },
  {
   "cell_type": "markdown",
   "metadata": {},
   "source": [
    "Ok, we are now ready - let's solve the problem!"
   ]
  },
  {
   "cell_type": "code",
   "execution_count": 5,
   "metadata": {
    "execution": {
     "iopub.execute_input": "2022-08-10T06:19:11.817528Z",
     "iopub.status.busy": "2022-08-10T06:19:11.817308Z",
     "iopub.status.idle": "2022-08-10T06:19:11.836712Z",
     "shell.execute_reply": "2022-08-10T06:19:11.835973Z"
    },
    "scrolled": true
   },
   "outputs": [
    {
     "name": "stdout",
     "output_type": "stream",
     "text": [
      "\n",
      "******************************************************************************\n",
      "This program contains Ipopt, a library for large-scale nonlinear optimization.\n",
      " Ipopt is released as open source code under the Eclipse Public License (EPL).\n",
      "         For more information visit http://projects.coin-or.org/Ipopt\n",
      "******************************************************************************\n",
      "\n",
      "\n",
      " objevals:        objval:      violated:    viol. norm:\n",
      "         1          15.38              0              0\n",
      "         2        9.23375              0              0\n",
      "         3        9.23375              0              0\n",
      "         4        9.23375              0              0\n",
      "         5        9.23375              0              0\n",
      "         6        9.23375              0              0\n",
      "         7        1.60594              0              0\n",
      "         8      0.0440281              0              0\n",
      "         9     0.00157443              0              0\n",
      "        10    1.35988e-06              0              0\n",
      "\n",
      "Problem name: minf\n",
      "\tC++ class name: pybind11::object\n",
      "\n",
      "\tGlobal dimension:\t\t\t2\n",
      "\tInteger dimension:\t\t\t0\n",
      "\tFitness dimension:\t\t\t1\n",
      "\tNumber of objectives:\t\t\t1\n",
      "\tEquality constraints dimension:\t\t0\n",
      "\tInequality constraints dimension:\t0\n",
      "\tLower bounds: [-5, -5]\n",
      "\tUpper bounds: [5, 5]\n",
      "\tHas batch fitness evaluation: false\n",
      "\n",
      "\tHas gradient: true\n",
      "\tUser implemented gradient sparsity: true\n",
      "\tExpected gradients: 2\n",
      "\tHas hessians: false\n",
      "\tUser implemented hessians sparsity: false\n",
      "\n",
      "\tFitness evaluations: 14\n",
      "\tGradient evaluations: 7\n",
      "\n",
      "\tThread safety: none\n",
      "\n",
      "Population size: 1\n",
      "\n",
      "List of individuals: \n",
      "#0:\n",
      "\tID:\t\t\t949011208212063072\n",
      "\tDecision vector:\t[3.6, -1.1]\n",
      "\tFitness vector:\t\t[1.28522e-12]\n",
      "\n",
      "Champion decision vector: [3.6, -1.1]\n",
      "Champion fitness: [1.28522e-12]\n",
      "\n",
      "\n",
      "\n",
      "Optimizer_pygmo: Optimization run finished\n",
      "  Success: True\n",
      "  Best f = 1.2852212531163044e-12\n",
      "        11    1.28522e-12              0              0\n"
     ]
    }
   ],
   "source": [
    "results = solver.solve()\n",
    "solver.finalize(results)"
   ]
  },
  {
   "cell_type": "code",
   "execution_count": 6,
   "metadata": {
    "execution": {
     "iopub.execute_input": "2022-08-10T06:19:11.839614Z",
     "iopub.status.busy": "2022-08-10T06:19:11.839384Z",
     "iopub.status.idle": "2022-08-10T06:19:11.842931Z",
     "shell.execute_reply": "2022-08-10T06:19:11.842341Z"
    }
   },
   "outputs": [
    {
     "name": "stdout",
     "output_type": "stream",
     "text": [
      "Results problem 'minf':\n",
      "------------------------\n",
      "  Float variables:\n",
      "    0: x = 3.599999e+00\n",
      "    1: y = -1.100000e+00\n",
      "------------------------\n",
      "  Objectives:\n",
      "    0: f = 1.285221e-12\n",
      "------------------------\n",
      "  Success: True\n",
      "------------------------\n",
      "\n"
     ]
    }
   ],
   "source": [
    "print(results)"
   ]
  },
  {
   "cell_type": "markdown",
   "metadata": {},
   "source": [
    "The `results` object is an instance of the class `OptResults`, cf. API. it carries attributes\n",
    "\n",
    "- `vars_int`: The integer variables of the solution\n",
    "- `vars_float`: The float variables of the solution\n",
    "- `objs`: The objective function values of the solution\n",
    "- `cons`: The constraint function values of the solution\n",
    "- `problem_results`: The object returned by the problem when applying the solution\n",
    "- `success` : Boolean flag indicating a successful solution\n",
    "- `vnames_int`: The names of the integer variables\n",
    "- `vnames_float`: The names of the float variables\n",
    "- `onames`: The names of the objectives (all components)\n",
    "- `cnames`: The names of the constraints (all components)\n",
    "\n",
    "Next, we want to explore finite difference gradient calculations for the same example. We can either remove the function `g(v, x, y, components)` from the `MinFunc` class, or create it invoking the parameter `has_ana_derivs=False`. This will then ignore the analytical gradient definition in the class.\n",
    "\n",
    "Additionally, we need to wrap the problem into the `DiscretizeRegGrid` problem wrapper and set the grid step size and the order of finite difference derivative calculations. This is the code for doing so:"
   ]
  },
  {
   "cell_type": "code",
   "execution_count": 7,
   "metadata": {
    "execution": {
     "iopub.execute_input": "2022-08-10T06:19:11.846260Z",
     "iopub.status.busy": "2022-08-10T06:19:11.845845Z",
     "iopub.status.idle": "2022-08-10T06:19:11.849196Z",
     "shell.execute_reply": "2022-08-10T06:19:11.848655Z"
    }
   },
   "outputs": [],
   "source": [
    "from iwopy import DiscretizeRegGrid"
   ]
  },
  {
   "cell_type": "code",
   "execution_count": 8,
   "metadata": {
    "execution": {
     "iopub.execute_input": "2022-08-10T06:19:11.851628Z",
     "iopub.status.busy": "2022-08-10T06:19:11.851365Z",
     "iopub.status.idle": "2022-08-10T06:19:11.856211Z",
     "shell.execute_reply": "2022-08-10T06:19:11.855546Z"
    }
   },
   "outputs": [],
   "source": [
    "problem = SimpleProblem(\n",
    "    name=\"minf\",\n",
    "    float_vars=[\"x\", \"y\"],\n",
    "    init_values_float=[0.0, 0.0],\n",
    "    min_values_float=[-5.0, -5.0],\n",
    "    max_values_float=[5.0, 5.0],\n",
    ")\n",
    "problem.add_objective(MinFunc(problem, has_ana_derivs=False))"
   ]
  },
  {
   "cell_type": "code",
   "execution_count": 9,
   "metadata": {
    "execution": {
     "iopub.execute_input": "2022-08-10T06:19:11.859268Z",
     "iopub.status.busy": "2022-08-10T06:19:11.859021Z",
     "iopub.status.idle": "2022-08-10T06:19:11.863089Z",
     "shell.execute_reply": "2022-08-10T06:19:11.862383Z"
    },
    "scrolled": true
   },
   "outputs": [],
   "source": [
    "gproblem = DiscretizeRegGrid(problem, deltas={\"x\": 0.01, \"y\": 0.01}, fd_order=2)\n",
    "gproblem.initialize()"
   ]
  },
  {
   "cell_type": "markdown",
   "metadata": {},
   "source": [
    "The `gproblem` object is now the `problem` on a grid, defined by the variable bounds and the specified `deltas`. We can use the same gradient based solver as above for solving this problem:"
   ]
  },
  {
   "cell_type": "code",
   "execution_count": 10,
   "metadata": {
    "execution": {
     "iopub.execute_input": "2022-08-10T06:19:11.894603Z",
     "iopub.status.busy": "2022-08-10T06:19:11.894333Z",
     "iopub.status.idle": "2022-08-10T06:19:11.961197Z",
     "shell.execute_reply": "2022-08-10T06:19:11.960556Z"
    }
   },
   "outputs": [
    {
     "name": "stdout",
     "output_type": "stream",
     "text": [
      "\n",
      "Optimisation return status: Solve_Succeeded (value = 0)\n",
      "\n",
      " objevals:        objval:      violated:    viol. norm:\n",
      "         1          15.38              0              0\n",
      "         2         9.2338              0              0\n",
      "         3         9.2338              0              0\n",
      "         4         9.2338              0              0\n",
      "         5         9.2338              0              0\n",
      "         6         9.2338              0              0\n",
      "         7          1.606              0              0\n",
      "         8      0.0440738              0              0\n",
      "         9     0.00159727              0              0\n",
      "        10    1.27606e-05              0              0\n",
      "        11    1.77386e-08              0              0\n",
      "\n",
      "Problem name: minf_grid\n",
      "\tC++ class name: pybind11::object\n",
      "\n",
      "\tGlobal dimension:\t\t\t2\n",
      "\tInteger dimension:\t\t\t0\n",
      "\tFitness dimension:\t\t\t1\n",
      "\tNumber of objectives:\t\t\t1\n",
      "\tEquality constraints dimension:\t\t0\n",
      "\tInequality constraints dimension:\t0\n",
      "\tLower bounds: [-5, -5]\n",
      "\tUpper bounds: [5, 5]\n",
      "\tHas batch fitness evaluation: false\n",
      "\n",
      "\tHas gradient: true\n",
      "\tUser implemented gradient sparsity: true\n",
      "\tExpected gradients: 2\n",
      "\tHas hessians: false\n",
      "\tUser implemented hessians sparsity: false\n",
      "\n",
      "\tFitness evaluations: 14\n",
      "\tGradient evaluations: 7\n",
      "\n",
      "\tThread safety: none\n",
      "\n",
      "Population size: 1\n",
      "\n",
      "List of individuals: \n",
      "#0:\n",
      "\tID:\t\t\t6432344705237765695\n",
      "\tDecision vector:\t[3.6, -1.1]\n",
      "\tFitness vector:\t\t[1.77386e-08]\n",
      "\n",
      "Champion decision vector: [3.6, -1.1]\n",
      "Champion fitness: [1.77386e-08]\n",
      "\n",
      "\n",
      "\n",
      "Optimizer_pygmo: Optimization run finished\n",
      "  Success: True\n",
      "  Best f = 1.2852212529252677e-12\n"
     ]
    }
   ],
   "source": [
    "solver = Optimizer_pygmo(\n",
    "    gproblem,\n",
    "    problem_pars=dict(c_tol=1e-3),\n",
    "    algo_pars=dict(type=\"ipopt\", tol=1e-4),\n",
    ")\n",
    "solver.initialize()\n",
    "\n",
    "results = solver.solve()\n",
    "solver.finalize(results)"
   ]
  },
  {
   "cell_type": "code",
   "execution_count": 11,
   "metadata": {
    "execution": {
     "iopub.execute_input": "2022-08-10T06:19:11.963966Z",
     "iopub.status.busy": "2022-08-10T06:19:11.963739Z",
     "iopub.status.idle": "2022-08-10T06:19:11.966845Z",
     "shell.execute_reply": "2022-08-10T06:19:11.966354Z"
    }
   },
   "outputs": [
    {
     "name": "stdout",
     "output_type": "stream",
     "text": [
      "Results problem 'minf_grid':\n",
      "-----------------------------\n",
      "  Float variables:\n",
      "    0: x = 3.599999e+00\n",
      "    1: y = -1.100000e+00\n",
      "-----------------------------\n",
      "  Objectives:\n",
      "    0: f = 1.285221e-12\n",
      "-----------------------------\n",
      "  Success: True\n",
      "-----------------------------\n",
      "\n"
     ]
    }
   ],
   "source": [
    "print(results)"
   ]
  },
  {
   "cell_type": "markdown",
   "metadata": {},
   "source": [
    "## Electrostatic potential minimization"
   ]
  },
  {
   "cell_type": "markdown",
   "metadata": {},
   "source": [
    "The main purpose of `iwopy` is to be helpful when attacking more complicated optimization tasks than the minimization of simple analytical functions as above. As an example, we consider the minimization of an inverse distance type potential for a fully coupled system of $N$ particles in two dimensions. We can imagine such a system to be composed of $N$ individual point charges, each of them carrying the same electric unit charge. The potential that we want to minimize is then represented by\n",
    "$$\n",
    "V = \\sum_{i\\neq j} \\frac 1 {|\\mathrm r_i - \\mathrm r_j|} \\ , \\quad \\text{where} \\quad \\mathrm r_i = \\left( \\begin{array}{c} x_i \\\\ y_i \\end{array} \\right)\n",
    "$$\n",
    "denotes the two dimensional position vector of charge $i$ and the sum is over all unequal index pairs. This potential favours large distances between charges, hence we need to constrain them to a certain area for a meaningful solution. We confine them to a circle of radius $R$ by imposing $N$ constraints,\n",
    "$$\n",
    "|\\mathrm r_i| \\leq R \\ , \\quad \\text{for all} \\quad i = 0 \\ldots N-1 \\ .\n",
    "$$\n",
    "These are the required imports for this example:"
   ]
  },
  {
   "cell_type": "code",
   "execution_count": 12,
   "metadata": {
    "execution": {
     "iopub.execute_input": "2022-08-10T06:19:11.969301Z",
     "iopub.status.busy": "2022-08-10T06:19:11.969107Z",
     "iopub.status.idle": "2022-08-10T06:19:11.972340Z",
     "shell.execute_reply": "2022-08-10T06:19:11.971693Z"
    }
   },
   "outputs": [],
   "source": [
    "import numpy as np\n",
    "import matplotlib.pyplot as plt\n",
    "from iwopy import Problem, Objective, Constraint\n",
    "from iwopy.interfaces.pymoo import Optimizer_pymoo"
   ]
  },
  {
   "cell_type": "markdown",
   "metadata": {},
   "source": [
    "We start by creating a specific class that describes the variables of our problem:"
   ]
  },
  {
   "cell_type": "code",
   "execution_count": 13,
   "metadata": {
    "execution": {
     "iopub.execute_input": "2022-08-10T06:19:11.975137Z",
     "iopub.status.busy": "2022-08-10T06:19:11.974898Z",
     "iopub.status.idle": "2022-08-10T06:19:11.984585Z",
     "shell.execute_reply": "2022-08-10T06:19:11.983824Z"
    }
   },
   "outputs": [],
   "source": [
    "class ChargesProblem(Problem):\n",
    "    def __init__(self, xy_init, radius):\n",
    "        super().__init__(name=\"charges_problem\")\n",
    "        self.xy_init = xy_init\n",
    "        self.n_charges = len(xy_init)\n",
    "        self.radius = radius\n",
    "\n",
    "    def var_names_float(self):\n",
    "        \"\"\"Defines the variable names\"\"\"\n",
    "        vnames = []\n",
    "        for i in range(self.n_charges):\n",
    "            vnames += [f\"x{i}\", f\"y{i}\"]\n",
    "        return vnames\n",
    "\n",
    "    def initial_values_float(self):\n",
    "        \"\"\"Returns inital values, as given to constructor\"\"\"\n",
    "        return self.xy_init.reshape(2 * self.n_charges)\n",
    "\n",
    "    def min_values_float(self):\n",
    "        \"\"\"Minimal values for a square of size 2*radius\"\"\"\n",
    "        return np.full(2 * self.n_charges, -self.radius)\n",
    "\n",
    "    def max_values_float(self):\n",
    "        \"\"\"Maximal values for a square of size 2*radius\"\"\"\n",
    "        return np.full(2 * self.n_charges, self.radius)\n",
    "\n",
    "    def apply_individual(self, vars_int, vars_float):\n",
    "        \"\"\"Returns (x, y) variables for each charge\"\"\"\n",
    "        return vars_float.reshape(self.n_charges, 2)\n",
    "\n",
    "    def apply_population(self, vars_int, vars_float):\n",
    "        \"\"\"Returns (x, y) variables for each charge per individual\"\"\"\n",
    "        n_pop = len(vars_float)\n",
    "        return vars_float.reshape(n_pop, self.n_charges, 2)\n",
    "\n",
    "    def get_fig(self, xy):\n",
    "        \"\"\"Get a figure showing the charges locations\"\"\"\n",
    "        fig, ax = plt.subplots(figsize=(6, 6))\n",
    "        ax.scatter(xy[:, 0], xy[:, 1], color=\"orange\")\n",
    "        ax.add_patch(plt.Circle((0, 0), self.radius, color=\"darkred\", fill=False))\n",
    "        ax.set_aspect(\"equal\", adjustable=\"box\")\n",
    "        ax.set_xlabel(\"x\")\n",
    "        ax.set_ylabel(\"y\")\n",
    "        ax.set_title(f\"N = {self.n_charges}\")\n",
    "        return fig"
   ]
  },
  {
   "cell_type": "markdown",
   "metadata": {},
   "source": [
    "There are $2 N$ variables for this problem, and we order them as $(x_0, y_0, \\ldots, x_{N-1}, y_{N-1})$. This is convenient, since the numpy reshaping operation `vars_float.reshape(n_charges, 2)` then represents an array of $(x_i, y_i)$ type arrays, which is handy for calculations.\n",
    "\n",
    "Notice the two functions `apply_individual` and `apply_population`. They are being called during optimization whenever new variables are being set by the optimizer, and their purpose is to update the data in the problem class accordingly (excluding objectives and constraints, which we will deal with shortly).\n",
    "\n",
    "The difference between the two functions is that `apply_individual` evaluates a single vector of new problem variables, whereas `apply_population` handles a full population of such vectors. The implementation of the latter function is not strictly required (alternatively a loop over individuals of the population will be evaluated), but it provides a chance for a vast speed-up by vectorized evaluation. This is particularly beneficial for genetic algorithms or other easily vectorizable approaches (in fact also the gradient calculation via `iwopy` discretizations makes use of this vectorization). Of course the chosen optimizer must be able to support vectorized evaluation for this to work. Both functions return any kind of evaluation data which will be forwarded to the objective and constraint evaluation.\n",
    "\n",
    "So far we have only defined the problem variables. Objectives and constraints can be added to the problem via the `add_objective` and `add_constraint` functions, respectively. First, we implement the inverse distance potential as our objective:"
   ]
  },
  {
   "cell_type": "code",
   "execution_count": 14,
   "metadata": {
    "execution": {
     "iopub.execute_input": "2022-08-10T06:19:11.987143Z",
     "iopub.status.busy": "2022-08-10T06:19:11.986933Z",
     "iopub.status.idle": "2022-08-10T06:19:11.993364Z",
     "shell.execute_reply": "2022-08-10T06:19:11.992802Z"
    }
   },
   "outputs": [],
   "source": [
    "class MinPotential(Objective):\n",
    "    def __init__(self, problem):\n",
    "        \"\"\"Define the same variable names and ordering as in the problem\"\"\"\n",
    "        super().__init__(problem, \"potential\", vnames_float=problem.var_names_float())\n",
    "        self.n_charges = problem.n_charges\n",
    "\n",
    "    def n_components(self):\n",
    "        \"\"\"The potential is a scalar function, hence one component\"\"\"\n",
    "        return 1\n",
    "\n",
    "    def maximize(self):\n",
    "        \"\"\"Indicates that the single component is to be minimized\"\"\"\n",
    "        return [False]\n",
    "\n",
    "    def calc_individual(self, vars_int, vars_float, problem_results):\n",
    "        \"\"\"This evaluates the potential. See problem.apply_individual\n",
    "        for problem results\"\"\"\n",
    "        xy = problem_results\n",
    "        value = 0.0\n",
    "        for i in range(1, self.n_charges):\n",
    "            value += 2 * np.sum(1 / np.linalg.norm(xy[i - 1, None] - xy[i:], axis=-1))\n",
    "        return value\n",
    "\n",
    "    def calc_population(self, vars_int, vars_float, problem_results):\n",
    "        \"\"\"This evaluates the potential in vectorized manner.\n",
    "        See problem.apply_population for problem results\"\"\"\n",
    "        xy = problem_results\n",
    "        n_pop = len(xy)\n",
    "        value = np.zeros((n_pop, 1))\n",
    "        for i in range(1, self.n_charges):\n",
    "            value[:, 0] += 2 * np.sum(\n",
    "                1 / np.linalg.norm(xy[:, i - 1, None] - xy[:, i:], axis=-1), axis=1\n",
    "            )\n",
    "        return value"
   ]
  },
  {
   "cell_type": "markdown",
   "metadata": {},
   "source": [
    "Notice that the functions `calc_individual` and its (again optional) vectorized correspondent `calc_population` do not directly make use of the variables vector `vars_float`, which they could (and it would be perfectly fine, even intended), but instead of the `problem_results` provided by the problem functions `apply_individual` and `apply_population`.\n",
    "\n",
    "Next, we implement the $N$ radial constraints:"
   ]
  },
  {
   "cell_type": "code",
   "execution_count": 15,
   "metadata": {
    "execution": {
     "iopub.execute_input": "2022-08-10T06:19:11.995890Z",
     "iopub.status.busy": "2022-08-10T06:19:11.995681Z",
     "iopub.status.idle": "2022-08-10T06:19:12.001931Z",
     "shell.execute_reply": "2022-08-10T06:19:12.001285Z"
    }
   },
   "outputs": [],
   "source": [
    "class MaxRadius(Constraint):\n",
    "    def __init__(self, problem, tol=1e-4):\n",
    "        \"\"\"Define the same variable names and ordering as in the problem\"\"\"\n",
    "        super().__init__(\n",
    "            problem, \"radius\", vnames_float=problem.var_names_float(), tol=tol\n",
    "        )\n",
    "        self.n_charges = problem.n_charges\n",
    "        self.radius = problem.radius\n",
    "\n",
    "    def n_components(self):\n",
    "        \"\"\"One constraint per charge\"\"\"\n",
    "        return self.n_charges\n",
    "\n",
    "    def vardeps_float(self):\n",
    "        \"\"\"Boolean array that defines which component depends\n",
    "        on which variable (optional, default is on all)\"\"\"\n",
    "        deps = np.zeros((self.n_components(), self.n_charges, 2), dtype=bool)\n",
    "        np.fill_diagonal(deps[..., 0], True)\n",
    "        np.fill_diagonal(deps[..., 1], True)\n",
    "        return deps.reshape(self.n_components(), 2 * self.n_charges)\n",
    "\n",
    "    def calc_individual(self, vars_int, vars_float, problem_results):\n",
    "        \"\"\"This evaluates the constraints, negative values are valid.\n",
    "        See problem.apply_individual for problem results\"\"\"\n",
    "        xy = problem_results\n",
    "        r = np.linalg.norm(xy, axis=-1)\n",
    "        return r - self.radius\n",
    "\n",
    "    def calc_population(self, vars_int, vars_float, problem_results):\n",
    "        \"\"\"This evaluates the constraints in vectorized manner,\n",
    "        negative values are valid. See problem.apply_population for\n",
    "        problem results\"\"\"\n",
    "        xy = problem_results\n",
    "        r = np.linalg.norm(xy, axis=-1)\n",
    "        return r - self.radius"
   ]
  },
  {
   "cell_type": "markdown",
   "metadata": {},
   "source": [
    "Note that by default, negative constraint values represent validity. This can be changed by overloading the function `get_bounds` of the base class, see API, but is not recommended.\n",
    "\n",
    "Also note that the function `vardeps_float` is only relevant for gradient based solvers that support gradient sparsity (e.g. `pygmo.ipopt`). It is irrelevant for the genetic algorithm that we want to use in this example, but added for the sake of completeness.\n",
    "\n",
    "Now let's add the objective and the constraints and initialize the problem:"
   ]
  },
  {
   "cell_type": "code",
   "execution_count": 16,
   "metadata": {
    "execution": {
     "iopub.execute_input": "2022-08-10T06:19:12.004355Z",
     "iopub.status.busy": "2022-08-10T06:19:12.004166Z",
     "iopub.status.idle": "2022-08-10T06:19:12.129626Z",
     "shell.execute_reply": "2022-08-10T06:19:12.128932Z"
    }
   },
   "outputs": [
    {
     "name": "stdout",
     "output_type": "stream",
     "text": [
      "Problem 'charges_problem' (ChargesProblem): Initializing\n",
      "--------------------------------------------------------\n",
      "  n_vars_int   : 0\n",
      "  n_vars_float : 40\n",
      "--------------------------------------------------------\n",
      "  n_objectives : 1\n",
      "  n_obj_cmptns : 1\n",
      "--------------------------------------------------------\n",
      "  n_constraints: 1\n",
      "  n_con_cmptns : 20\n",
      "--------------------------------------------------------\n"
     ]
    },
    {
     "data": {
      "image/png": "[encoded data removed]",
      "text/plain": [
       "<Figure size 432x432 with 1 Axes>"
      ]
     },
     "metadata": {
      "needs_background": "light"
     },
     "output_type": "display_data"
    }
   ],
   "source": [
    "N = 20\n",
    "R = 5\n",
    "\n",
    "# generate random initial coordinates of the N charges:\n",
    "xy = np.random.uniform(-R / 10.0, R / 10.0, (N, 2))\n",
    "\n",
    "problem = ChargesProblem(xy, R)\n",
    "problem.add_objective(MinPotential(problem))\n",
    "problem.add_constraint(MaxRadius(problem))\n",
    "problem.initialize()\n",
    "\n",
    "fig = problem.get_fig(xy)\n",
    "plt.show()"
   ]
  },
  {
   "cell_type": "markdown",
   "metadata": {},
   "source": [
    "Finally, we can now setup the genetic solver [GA from pymoo](https://pymoo.org/algorithms/soo/ga.html) and solve the problem, here in vectorized form (flag `vectorize=True`):"
   ]
  },
  {
   "cell_type": "code",
   "execution_count": 17,
   "metadata": {
    "execution": {
     "iopub.execute_input": "2022-08-10T06:19:12.132233Z",
     "iopub.status.busy": "2022-08-10T06:19:12.132040Z",
     "iopub.status.idle": "2022-08-10T06:19:14.855045Z",
     "shell.execute_reply": "2022-08-10T06:19:14.854350Z"
    }
   },
   "outputs": [
    {
     "name": "stdout",
     "output_type": "stream",
     "text": [
      "Initializing Optimizer_pymoo\n",
      "Selecting sampling: float_random (FloatRandomSampling)\n",
      "Selecting algorithm: ga (GA)\n",
      "Selecting termination: default (DefaultSingleObjectiveTermination)\n",
      "\n",
      "Problem:\n",
      "--------\n",
      "  vectorize: True\n",
      "\n",
      "Algorithm:\n",
      "----------\n",
      "  type: ga\n",
      "  pop_size: 100\n",
      "\n",
      "Termination:\n",
      "------------\n",
      "  n_max_gen: 300\n",
      "  ftol: 1e-06\n",
      "  xtol: 1e-06\n",
      "\n"
     ]
    },
    {
     "name": "stdout",
     "output_type": "stream",
     "text": [
      "\n",
      "\n",
      "Optimizer_pymoo: Optimization run finished\n",
      "  Success: True\n",
      "  Best potential = 78.29799257008322\n"
     ]
    }
   ],
   "source": [
    "solver = Optimizer_pymoo(\n",
    "    problem,\n",
    "    problem_pars=dict(\n",
    "        vectorize=True,\n",
    "    ),\n",
    "    algo_pars=dict(\n",
    "        type=\"ga\",\n",
    "        pop_size=100,\n",
    "    ),\n",
    "    setup_pars=dict(),\n",
    "    term_pars=dict(\n",
    "        type=\"default\",\n",
    "        n_max_gen=300,\n",
    "        ftol=1e-6,\n",
    "        xtol=1e-6,\n",
    "    ),\n",
    ")\n",
    "solver.initialize()\n",
    "solver.print_info()\n",
    "\n",
    "results = solver.solve(verbosity=0)\n",
    "solver.finalize(results)"
   ]
  },
  {
   "cell_type": "code",
   "execution_count": 18,
   "metadata": {
    "execution": {
     "iopub.execute_input": "2022-08-10T06:19:14.857583Z",
     "iopub.status.busy": "2022-08-10T06:19:14.857319Z",
     "iopub.status.idle": "2022-08-10T06:19:14.946729Z",
     "shell.execute_reply": "2022-08-10T06:19:14.946061Z"
    }
   },
   "outputs": [
    {
     "name": "stdout",
     "output_type": "stream",
     "text": [
      "Results problem 'charges_problem':\n",
      "-----------------------------------\n",
      "  Float variables:\n",
      "    0: x0  = 1.502514e+00\n",
      "    1: y0  = 1.430548e+00\n",
      "    2: x1  = 3.723330e+00\n",
      "    3: y1  = 3.331876e+00\n",
      "    4: x2  = -1.603314e+00\n",
      "    5: y2  = -1.732950e+00\n",
      "    6: x3  = 3.603589e+00\n",
      "    7: y3  = -3.459268e+00\n",
      "    8: x4  = -3.849584e+00\n",
      "    9: y4  = -3.190077e+00\n",
      "    10: x5  = -3.397933e+00\n",
      "    11: y5  = 3.667873e+00\n",
      "    12: x6  = -1.420636e+00\n",
      "    13: y6  = 4.788753e+00\n",
      "    14: x7  = 4.827644e+00\n",
      "    15: y7  = 1.300627e+00\n",
      "    16: x8  = -1.590491e+00\n",
      "    17: y8  = 1.780512e+00\n",
      "    18: x9  = 4.994535e+00\n",
      "    19: y9  = -2.232788e-01\n",
      "    20: x10 = 4.639299e+00\n",
      "    21: y10 = -1.862989e+00\n",
      "    22: x11 = -4.673445e+00\n",
      "    23: y11 = 1.777047e+00\n",
      "    24: x12 = 2.377304e+00\n",
      "    25: y12 = 4.396919e+00\n",
      "    26: x13 = 1.383577e+00\n",
      "    27: y13 = -1.982483e+00\n",
      "    28: x14 = -4.872608e+00\n",
      "    29: y14 = -1.119751e+00\n",
      "    30: x15 = 1.996599e+00\n",
      "    31: y15 = -4.584008e+00\n",
      "    32: x16 = -2.348116e+00\n",
      "    33: y16 = -4.404328e+00\n",
      "    34: x17 = 5.490359e-01\n",
      "    35: y17 = 4.968054e+00\n",
      "    36: x18 = -2.470317e-01\n",
      "    37: y18 = -4.993398e+00\n",
      "    38: x19 = -4.996549e+00\n",
      "    39: y19 = 1.818344e-01\n",
      "-----------------------------------\n",
      "  Objectives:\n",
      "    0: potential = 7.829799e+01\n",
      "-----------------------------------\n",
      "  Constraints:\n",
      "    0: radius_0  = -2.925388e+00\n",
      "    1: radius_1  = -3.542735e-03\n",
      "    2: radius_2  = -2.639125e+00\n",
      "    3: radius_3  = -4.763078e-03\n",
      "    4: radius_4  = -4.112374e-04\n",
      "    5: radius_5  = -7.620634e-05\n",
      "    6: radius_6  = -4.966639e-03\n",
      "    7: radius_7  = -2.217505e-04\n",
      "    8: radius_8  = -2.612557e+00\n",
      "    9: radius_9  = -4.765994e-04\n",
      "    10: radius_10 = -6.172870e-04\n",
      "    11: radius_11 = -1.018005e-04\n",
      "    12: radius_12 = -1.553127e-03\n",
      "    13: radius_13 = -2.582455e+00\n",
      "    14: radius_14 = -3.852251e-04\n",
      "    15: radius_15 = -4.647410e-05\n",
      "    16: radius_16 = -8.832209e-03\n",
      "    17: radius_17 = -1.700625e-03\n",
      "    18: radius_18 = -4.948365e-04\n",
      "    19: radius_19 = -1.435409e-04\n",
      "-----------------------------------\n",
      "  Success: True\n",
      "-----------------------------------\n",
      "\n"
     ]
    },
    {
     "data": {
      "image/png": "[encoded data removed]",
      "text/plain": [
       "<Figure size 432x432 with 1 Axes>"
      ]
     },
     "metadata": {
      "needs_background": "light"
     },
     "output_type": "display_data"
    }
   ],
   "source": [
    "print(results)\n",
    "\n",
    "xy = results.problem_results\n",
    "fig = problem.get_fig(xy)\n",
    "plt.show()"
   ]
  }
 ],
 "metadata": {
  "kernelspec": {
   "display_name": "Python 3",
   "language": "python",
   "name": "python3"
  },
  "language_info": {
   "codemirror_mode": {
    "name": "ipython",
    "version": 3
   },
   "file_extension": ".py",
   "mimetype": "text/x-python",
   "name": "python",
   "nbconvert_exporter": "python",
   "pygments_lexer": "ipython3",
   "version": "3.8.10"
  },
  "vscode": {
   "interpreter": {
    "hash": "31f2aee4e71d21fbe5cf8b01ff0e069b9275f58929596ceb00d14d90e3e16cd6"
   }
  }
 },
 "nbformat": 4,
 "nbformat_minor": 2
}
