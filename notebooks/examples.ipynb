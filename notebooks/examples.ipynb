{
 "cells": [
  {
   "cell_type": "markdown",
   "metadata": {},
   "source": [
    "# Examples"
   ]
  },
  {
   "cell_type": "markdown",
   "metadata": {},
   "source": [
    "## Simple function minimization"
   ]
  },
  {
   "cell_type": "markdown",
   "metadata": {},
   "source": [
    "Let's minimize the following simple function:\n",
    "\n",
    "$$\n",
    "f(x, y) = (x - 3.6)^2 + 2 (y+1.1)^2\n",
    "$$\n",
    "\n",
    "The global minimum is obvious: $f=0$ for $x=3.6, y=-1.1$. We now want to find this minimum using `iwopy`, in a setup as follows:\n",
    "\n",
    "- Parameter bounds: $x, y \\in [-5,5]$\n",
    "- Unconstrained minimization\n",
    "- Gradient based optimizer [IPOPT](https://esa.github.io/pagmo2/docs/cpp/algorithms/ipopt.html) from [pygmo](https://esa.github.io/pygmo2/)\n",
    "- Analytical gradients\n",
    "\n",
    "The usage of finite difference gradients will be demonstrated directly after. We start by importing the required classes from the `iwopy` package:"
   ]
  },
  {
   "cell_type": "code",
   "execution_count": 1,
   "metadata": {
    "execution": {
     "iopub.execute_input": "2022-10-18T12:16:55.036091Z",
     "iopub.status.busy": "2022-10-18T12:16:55.034883Z",
     "iopub.status.idle": "2022-10-18T12:16:55.806536Z",
     "shell.execute_reply": "2022-10-18T12:16:55.805922Z"
    }
   },
   "outputs": [],
   "source": [
    "from iwopy import SimpleProblem, SimpleObjective\n",
    "from iwopy.interfaces.pygmo import Optimizer_pygmo"
   ]
  },
  {
   "cell_type": "markdown",
   "metadata": {},
   "source": [
    "The `SimpleProblem` will be instantiated with two float type variables `x` and `y` which will be passed on to all linked objectives and constraints. The `SimpleObjective` (and also the `SimpleConstraint` classes assume the same variables as the problem, in the same order. We can therefore implement the above function $f(x, y)$ and the derivative \n",
    "$$\n",
    "g(v, x, y) = \\left\\{ \n",
    "\\begin{array}{ll}\n",
    "\\mathrm df / \\mathrm dx \\ ,& \\text{if} \\ v = 0 \\\\\n",
    "\\mathrm df / \\mathrm dy \\ ,& \\text{if} \\ v = 1\n",
    "\\end{array}\n",
    "\\right.\n",
    "$$ \n",
    "in a straight forward manner:"
   ]
  },
  {
   "cell_type": "code",
   "execution_count": 2,
   "metadata": {
    "execution": {
     "iopub.execute_input": "2022-10-18T12:16:55.809286Z",
     "iopub.status.busy": "2022-10-18T12:16:55.809031Z",
     "iopub.status.idle": "2022-10-18T12:16:55.812757Z",
     "shell.execute_reply": "2022-10-18T12:16:55.812270Z"
    }
   },
   "outputs": [],
   "source": [
    "class MinFunc(SimpleObjective):\n",
    "    def f(self, x, y):\n",
    "        return (x - 3.6) ** 2 + 2 * (y + 1.1) ** 2\n",
    "\n",
    "    def g(self, v, x, y, components):\n",
    "        return 2 * (x - 3.6) if v == 0 else 4 * (y + 1.1)"
   ]
  },
  {
   "cell_type": "markdown",
   "metadata": {},
   "source": [
    "Notice that the `components` argument of the function `g` is not used here since `f` is a single-component function.\n",
    "\n",
    "In the case of multi-component functions the parameter `n_components` has to be passed to the `__init__` function of `SimpleObjective`, and `f` has to return a list of scalars. In that case also `g` has to return a list of results, with same length as the requested `components`. The same rules apply to classes derived from `SimpleConstraint`.\n",
    "\n",
    "We can now proceed and setup the problem:"
   ]
  },
  {
   "cell_type": "code",
   "execution_count": 3,
   "metadata": {
    "execution": {
     "iopub.execute_input": "2022-10-18T12:16:55.815037Z",
     "iopub.status.busy": "2022-10-18T12:16:55.814851Z",
     "iopub.status.idle": "2022-10-18T12:16:55.818695Z",
     "shell.execute_reply": "2022-10-18T12:16:55.818227Z"
    },
    "scrolled": true
   },
   "outputs": [
    {
     "name": "stdout",
     "output_type": "stream",
     "text": [
      "Problem 'minf' (SimpleProblem): Initializing\n",
      "--------------------------------------------\n",
      "  n_vars_int   : 0\n",
      "  n_vars_float : 2\n",
      "--------------------------------------------\n",
      "  n_objectives : 1\n",
      "  n_obj_cmptns : 1\n",
      "--------------------------------------------\n",
      "  n_constraints: 0\n",
      "  n_con_cmptns : 0\n",
      "--------------------------------------------\n"
     ]
    }
   ],
   "source": [
    "problem = SimpleProblem(\n",
    "    name=\"minf\",\n",
    "    float_vars=[\"x\", \"y\"],\n",
    "    init_values_float=[0.0, 0.0],\n",
    "    min_values_float=[-5.0, -5.0],\n",
    "    max_values_float=[5.0, 5.0],\n",
    ")\n",
    "problem.add_objective(MinFunc(problem))\n",
    "problem.initialize()"
   ]
  },
  {
   "cell_type": "markdown",
   "metadata": {},
   "source": [
    "Note that in a similar way you can easily add constraints to the problem, by defining them in a class that is derived from `iwopy.Constraint` or `iwopy.SimpleConstraint` and then adding them via `problem.add_constraint(...)`. \n",
    "\n",
    "Adding additional objectives works in the same way, simply repeat `problem.add_objective(...)` as often as you want. However, be aware that not all optimizers can handle multiple objective cases.\n",
    "\n",
    "Next, we create and initialize the solver:"
   ]
  },
  {
   "cell_type": "code",
   "execution_count": 4,
   "metadata": {
    "execution": {
     "iopub.execute_input": "2022-10-18T12:16:55.850621Z",
     "iopub.status.busy": "2022-10-18T12:16:55.850411Z",
     "iopub.status.idle": "2022-10-18T12:16:55.855573Z",
     "shell.execute_reply": "2022-10-18T12:16:55.854939Z"
    }
   },
   "outputs": [
    {
     "name": "stdout",
     "output_type": "stream",
     "text": [
      "\n",
      "Algorithm name: Ipopt: Interior Point Optimization [deterministic]\n",
      "\tC++ class name: pagmo::ipopt\n",
      "\n",
      "\tThread safety: none\n",
      "\n",
      "Extra info:\n",
      "\tLast optimisation return code: Solve_Succeeded (value = 0)\n",
      "\tVerbosity: 1\n",
      "\tIndividual selection policy: best\n",
      "\tIndividual replacement policy: best\n",
      "\tNumeric options: {tol : 0.0001}\n",
      "\n"
     ]
    }
   ],
   "source": [
    "solver = Optimizer_pygmo(\n",
    "    problem,\n",
    "    problem_pars=dict(),\n",
    "    algo_pars=dict(type=\"ipopt\", tol=1e-4),\n",
    ")\n",
    "solver.initialize()\n",
    "solver.print_info()"
   ]
  },
  {
   "cell_type": "markdown",
   "metadata": {},
   "source": [
    "Here `tol` is an `IPOPT` parameter that defines the convergence tolerance. Now we are finally ready - let's solve the problem!"
   ]
  },
  {
   "cell_type": "code",
   "execution_count": 5,
   "metadata": {
    "execution": {
     "iopub.execute_input": "2022-10-18T12:16:55.857865Z",
     "iopub.status.busy": "2022-10-18T12:16:55.857677Z",
     "iopub.status.idle": "2022-10-18T12:16:55.877811Z",
     "shell.execute_reply": "2022-10-18T12:16:55.877163Z"
    },
    "scrolled": true
   },
   "outputs": [
    {
     "name": "stdout",
     "output_type": "stream",
     "text": [
      "\n",
      "******************************************************************************\n",
      "This program contains Ipopt, a library for large-scale nonlinear optimization.\n",
      " Ipopt is released as open source code under the Eclipse Public License (EPL).\n",
      "         For more information visit http://projects.coin-or.org/Ipopt\n",
      "******************************************************************************\n",
      "\n",
      "\n",
      " objevals:        objval:      violated:    viol. norm:\n",
      "         1          15.38              0              0\n",
      "         2        9.23375              0              0\n",
      "         3        9.23375              0              0\n",
      "         4        9.23375              0              0\n",
      "         5        9.23375              0              0\n",
      "         6        9.23375              0              0\n",
      "         7        1.60594              0              0\n",
      "         8      0.0440281              0              0\n",
      "         9     0.00157443              0              0\n",
      "        10    1.35988e-06              0              0\n",
      "\n",
      "Problem name: minf\n",
      "\tC++ class name: pybind11::object\n",
      "\n",
      "\tGlobal dimension:\t\t\t2\n",
      "\tInteger dimension:\t\t\t0\n",
      "\tFitness dimension:\t\t\t1\n",
      "\tNumber of objectives:\t\t\t1\n",
      "\tEquality constraints dimension:\t\t0\n",
      "\tInequality constraints dimension:\t0\n",
      "\tLower bounds: [-5, -5]\n",
      "\tUpper bounds: [5, 5]\n",
      "\tHas batch fitness evaluation: false\n",
      "\n",
      "\tHas gradient: true\n",
      "\tUser implemented gradient sparsity: true\n",
      "\tExpected gradients: 2\n",
      "\tHas hessians: false\n",
      "\tUser implemented hessians sparsity: false\n",
      "\n",
      "\tFitness evaluations: 14\n",
      "\tGradient evaluations: 7\n",
      "\n",
      "\tThread safety: none\n",
      "\n",
      "Population size: 1\n",
      "\n",
      "List of individuals: \n",
      "#0:\n",
      "\tID:\t\t\t2860610128850480351\n",
      "\tDecision vector:\t[3.6, -1.1]\n",
      "\tFitness vector:\t\t[1.28522e-12]\n",
      "\n",
      "Champion decision vector: [3.6, -1.1]\n",
      "Champion fitness: [1.28522e-12]\n",
      "\n",
      "\n",
      "\n",
      "Optimizer_pygmo: Optimization run finished\n",
      "  Success: True\n",
      "  Best f = 1.2852212531163044e-12\n",
      "        11    1.28522e-12              0              0\n"
     ]
    }
   ],
   "source": [
    "results = solver.solve()\n",
    "solver.finalize(results)"
   ]
  },
  {
   "cell_type": "code",
   "execution_count": 6,
   "metadata": {
    "execution": {
     "iopub.execute_input": "2022-10-18T12:16:55.880407Z",
     "iopub.status.busy": "2022-10-18T12:16:55.880184Z",
     "iopub.status.idle": "2022-10-18T12:16:55.884022Z",
     "shell.execute_reply": "2022-10-18T12:16:55.883345Z"
    }
   },
   "outputs": [
    {
     "name": "stdout",
     "output_type": "stream",
     "text": [
      "Results problem 'minf':\n",
      "------------------------\n",
      "  Float variables:\n",
      "    0: x = 3.599999e+00\n",
      "    1: y = -1.100000e+00\n",
      "------------------------\n",
      "  Objectives:\n",
      "    0: f = 1.285221e-12\n",
      "------------------------\n",
      "  Success: True\n",
      "------------------------\n",
      "\n"
     ]
    }
   ],
   "source": [
    "print(results)"
   ]
  },
  {
   "cell_type": "markdown",
   "metadata": {},
   "source": [
    "The `results` object is an instance of the class `OptResults`, cf. API. it carries attributes\n",
    "\n",
    "- `vars_int`: The integer variables of the solution\n",
    "- `vars_float`: The float variables of the solution\n",
    "- `objs`: The objective function values of the solution\n",
    "- `cons`: The constraint function values of the solution\n",
    "- `problem_results`: The object returned by the problem when applying the solution\n",
    "- `success` : Boolean flag indicating a successful solution\n",
    "- `vnames_int`: The names of the integer variables\n",
    "- `vnames_float`: The names of the float variables\n",
    "- `onames`: The names of the objectives (all components)\n",
    "- `cnames`: The names of the constraints (all components)\n",
    "\n",
    "Next, we want to explore finite difference gradient calculations for the same example. We can either remove the function `g(v, x, y, components)` from the `MinFunc` class, or create it invoking the parameter `has_ana_derivs=False`. This will then ignore the analytical gradient definition in the class.\n",
    "\n",
    "Additionally, we need to wrap the problem into a wrapper that provides numerical derivatives. There are two choices:\n",
    "\n",
    "- `DiscretizeRegGrid`: A wrapper that evaluates the problem on a regular grid and calculates derivatives based on fixed grid point locations. Interpolation in between is optional (and increases the number of required function evaluations). The grid also offers a memory such that re-calculations of grid point results are minimized.\n",
    "- `LocalFD`: A wrapper that evaluates local finite difference rules for derivative calculations. Hence the problem evaluation points are defined based on the current variables and hence not memorized since those usually differ with every call.\n",
    "\n",
    "The `LocalFD` is usually the faster choice, unless you are expecting a lot of benefits from the memory capabilities of the regular grid. Here is an example how to use it for solving our problem:"
   ]
  },
  {
   "cell_type": "code",
   "execution_count": 7,
   "metadata": {
    "execution": {
     "iopub.execute_input": "2022-10-18T12:16:55.886536Z",
     "iopub.status.busy": "2022-10-18T12:16:55.886334Z",
     "iopub.status.idle": "2022-10-18T12:16:55.889258Z",
     "shell.execute_reply": "2022-10-18T12:16:55.888672Z"
    }
   },
   "outputs": [],
   "source": [
    "from iwopy import LocalFD"
   ]
  },
  {
   "cell_type": "code",
   "execution_count": 8,
   "metadata": {
    "execution": {
     "iopub.execute_input": "2022-10-18T12:16:55.891986Z",
     "iopub.status.busy": "2022-10-18T12:16:55.891749Z",
     "iopub.status.idle": "2022-10-18T12:16:55.895745Z",
     "shell.execute_reply": "2022-10-18T12:16:55.895139Z"
    }
   },
   "outputs": [],
   "source": [
    "problem = SimpleProblem(\n",
    "    name=\"minf\",\n",
    "    float_vars=[\"x\", \"y\"],\n",
    "    init_values_float=[0.0, 0.0],\n",
    "    min_values_float=[-5.0, -5.0],\n",
    "    max_values_float=[5.0, 5.0],\n",
    ")\n",
    "problem.add_objective(MinFunc(problem, has_ana_derivs=False))"
   ]
  },
  {
   "cell_type": "code",
   "execution_count": 9,
   "metadata": {
    "execution": {
     "iopub.execute_input": "2022-10-18T12:16:55.898425Z",
     "iopub.status.busy": "2022-10-18T12:16:55.898124Z",
     "iopub.status.idle": "2022-10-18T12:16:55.902297Z",
     "shell.execute_reply": "2022-10-18T12:16:55.901635Z"
    },
    "scrolled": true
   },
   "outputs": [
    {
     "name": "stdout",
     "output_type": "stream",
     "text": [
      "Problem 'minf' (SimpleProblem): Initializing\n",
      "--------------------------------------------\n",
      "  n_vars_int   : 0\n",
      "  n_vars_float : 2\n",
      "--------------------------------------------\n",
      "  n_objectives : 1\n",
      "  n_obj_cmptns : 1\n",
      "--------------------------------------------\n",
      "  n_constraints: 0\n",
      "  n_con_cmptns : 0\n",
      "--------------------------------------------\n",
      "Problem 'minf_fd' (LocalFD): Initializing\n",
      "-----------------------------------------\n",
      "  n_vars_int   : 0\n",
      "  n_vars_float : 2\n",
      "-----------------------------------------\n",
      "  n_objectives : 1\n",
      "  n_obj_cmptns : 1\n",
      "-----------------------------------------\n",
      "  n_constraints: 0\n",
      "  n_con_cmptns : 0\n",
      "-----------------------------------------\n"
     ]
    }
   ],
   "source": [
    "gproblem = LocalFD(problem, deltas=1e-4, fd_order=2)\n",
    "gproblem.initialize()"
   ]
  },
  {
   "cell_type": "markdown",
   "metadata": {},
   "source": [
    "The `gproblem` object now corresponds to original `problem` with finite difference gradients of order 2. We can use the same gradient based solver as above for solving this problem:"
   ]
  },
  {
   "cell_type": "code",
   "execution_count": 10,
   "metadata": {
    "execution": {
     "iopub.execute_input": "2022-10-18T12:16:55.923190Z",
     "iopub.status.busy": "2022-10-18T12:16:55.922904Z",
     "iopub.status.idle": "2022-10-18T12:16:55.954573Z",
     "shell.execute_reply": "2022-10-18T12:16:55.953905Z"
    }
   },
   "outputs": [
    {
     "name": "stdout",
     "output_type": "stream",
     "text": [
      "\n",
      "Optimisation return status: Solve_Succeeded (value = 0)\n",
      "\n",
      " objevals:        objval:      violated:    viol. norm:\n",
      "         1          15.38              0              0\n",
      "         2        9.23375              0              0\n",
      "         3        9.23375              0              0\n",
      "         4        9.23375              0              0\n",
      "         5        9.23375              0              0\n",
      "         6        9.23375              0              0\n",
      "         7        1.60594              0              0\n",
      "         8      0.0440281              0              0\n",
      "         9     0.00157443              0              0\n",
      "        10    1.35988e-06              0              0\n",
      "        11    1.28522e-12              0              0\n",
      "\n",
      "Problem name: minf_fd\n",
      "\tC++ class name: pybind11::object\n",
      "\n",
      "\tGlobal dimension:\t\t\t2\n",
      "\tInteger dimension:\t\t\t0\n",
      "\tFitness dimension:\t\t\t1\n",
      "\tNumber of objectives:\t\t\t1\n",
      "\tEquality constraints dimension:\t\t0\n",
      "\tInequality constraints dimension:\t0\n",
      "\tLower bounds: [-5, -5]\n",
      "\tUpper bounds: [5, 5]\n",
      "\tHas batch fitness evaluation: false\n",
      "\n",
      "\tHas gradient: true\n",
      "\tUser implemented gradient sparsity: true\n",
      "\tExpected gradients: 2\n",
      "\tHas hessians: false\n",
      "\tUser implemented hessians sparsity: false\n",
      "\n",
      "\tFitness evaluations: 14\n",
      "\tGradient evaluations: 7\n",
      "\n",
      "\tThread safety: none\n",
      "\n",
      "Population size: 1\n",
      "\n",
      "List of individuals: \n",
      "#0:\n",
      "\tID:\t\t\t8859142894084493550\n",
      "\tDecision vector:\t[3.6, -1.1]\n",
      "\tFitness vector:\t\t[1.28522e-12]\n",
      "\n",
      "Champion decision vector: [3.6, -1.1]\n",
      "Champion fitness: [1.28522e-12]\n",
      "\n",
      "\n",
      "\n",
      "Optimizer_pygmo: Optimization run finished\n",
      "  Success: True\n",
      "  Best f = 1.285221254342924e-12\n"
     ]
    }
   ],
   "source": [
    "solver = Optimizer_pygmo(\n",
    "    gproblem,\n",
    "    problem_pars=dict(),\n",
    "    algo_pars=dict(type=\"ipopt\", tol=1e-4),\n",
    ")\n",
    "solver.initialize()\n",
    "\n",
    "results = solver.solve()\n",
    "solver.finalize(results)"
   ]
  },
  {
   "cell_type": "code",
   "execution_count": 11,
   "metadata": {
    "execution": {
     "iopub.execute_input": "2022-10-18T12:16:55.957470Z",
     "iopub.status.busy": "2022-10-18T12:16:55.957189Z",
     "iopub.status.idle": "2022-10-18T12:16:55.960534Z",
     "shell.execute_reply": "2022-10-18T12:16:55.960035Z"
    }
   },
   "outputs": [
    {
     "name": "stdout",
     "output_type": "stream",
     "text": [
      "Results problem 'minf_fd':\n",
      "---------------------------\n",
      "  Float variables:\n",
      "    0: x = 3.599999e+00\n",
      "    1: y = -1.100000e+00\n",
      "---------------------------\n",
      "  Objectives:\n",
      "    0: f = 1.285221e-12\n",
      "---------------------------\n",
      "  Success: True\n",
      "---------------------------\n",
      "\n"
     ]
    }
   ],
   "source": [
    "print(results)"
   ]
  },
  {
   "cell_type": "markdown",
   "metadata": {},
   "source": [
    "## Electrostatic potential minimization"
   ]
  },
  {
   "cell_type": "markdown",
   "metadata": {},
   "source": [
    "The main purpose of `iwopy` is to be helpful when attacking more complicated optimization tasks than the minimization of simple analytical functions as above. As an example, we consider the minimization of an inverse distance type potential for a fully coupled system of $N$ particles in two dimensions. We can imagine such a system to be composed of $N$ individual point charges, each of them carrying the same electric unit charge. The potential that we want to minimize is then represented by\n",
    "$$\n",
    "V = \\sum_{i\\neq j} \\frac 1 {|\\mathrm r_i - \\mathrm r_j|} \\ , \\quad \\text{where} \\quad \\mathrm r_i = \\left( \\begin{array}{c} x_i \\\\ y_i \\end{array} \\right)\n",
    "$$\n",
    "denotes the two dimensional position vector of charge $i$ and the sum is over all unequal index pairs. This potential favours large distances between charges, hence we need to constrain them to a certain area for a meaningful solution. We confine them to a circle of radius $R$ by imposing $N$ constraints,\n",
    "$$\n",
    "|\\mathrm r_i| \\leq R \\ , \\quad \\text{for all} \\quad i = 0 \\ldots N-1 \\ .\n",
    "$$\n",
    "These are the required imports for this example:"
   ]
  },
  {
   "cell_type": "code",
   "execution_count": 12,
   "metadata": {
    "execution": {
     "iopub.execute_input": "2022-10-18T12:16:55.963969Z",
     "iopub.status.busy": "2022-10-18T12:16:55.963501Z",
     "iopub.status.idle": "2022-10-18T12:16:55.967165Z",
     "shell.execute_reply": "2022-10-18T12:16:55.966446Z"
    }
   },
   "outputs": [],
   "source": [
    "import numpy as np\n",
    "import matplotlib.pyplot as plt\n",
    "from iwopy import Problem, Objective, Constraint\n",
    "from iwopy.interfaces.pymoo import Optimizer_pymoo"
   ]
  },
  {
   "cell_type": "markdown",
   "metadata": {},
   "source": [
    "We start by creating a specific class that describes the variables of our problem:"
   ]
  },
  {
   "cell_type": "code",
   "execution_count": 13,
   "metadata": {
    "execution": {
     "iopub.execute_input": "2022-10-18T12:16:55.970212Z",
     "iopub.status.busy": "2022-10-18T12:16:55.969935Z",
     "iopub.status.idle": "2022-10-18T12:16:55.978733Z",
     "shell.execute_reply": "2022-10-18T12:16:55.978126Z"
    }
   },
   "outputs": [],
   "source": [
    "class ChargesProblem(Problem):\n",
    "    def __init__(self, xy_init, radius):\n",
    "        super().__init__(name=\"charges_problem\")\n",
    "        self.xy_init = xy_init\n",
    "        self.n_charges = len(xy_init)\n",
    "        self.radius = radius\n",
    "\n",
    "    def var_names_float(self):\n",
    "        \"\"\"Defines the variable names\"\"\"\n",
    "        vnames = []\n",
    "        for i in range(self.n_charges):\n",
    "            vnames += [f\"x{i}\", f\"y{i}\"]\n",
    "        return vnames\n",
    "\n",
    "    def initial_values_float(self):\n",
    "        \"\"\"Returns inital values, as given to constructor\"\"\"\n",
    "        return self.xy_init.reshape(2 * self.n_charges)\n",
    "\n",
    "    def min_values_float(self):\n",
    "        \"\"\"Minimal values for a square of size 2*radius\"\"\"\n",
    "        return np.full(2 * self.n_charges, -self.radius)\n",
    "\n",
    "    def max_values_float(self):\n",
    "        \"\"\"Maximal values for a square of size 2*radius\"\"\"\n",
    "        return np.full(2 * self.n_charges, self.radius)\n",
    "\n",
    "    def apply_individual(self, vars_int, vars_float):\n",
    "        \"\"\"Returns (x, y) variables for each charge\"\"\"\n",
    "        return vars_float.reshape(self.n_charges, 2)\n",
    "\n",
    "    def apply_population(self, vars_int, vars_float):\n",
    "        \"\"\"Returns (x, y) variables for each charge per individual\"\"\"\n",
    "        n_pop = len(vars_float)\n",
    "        return vars_float.reshape(n_pop, self.n_charges, 2)\n",
    "\n",
    "    def get_fig(self, xy):\n",
    "        \"\"\"Get a figure showing the charges locations\"\"\"\n",
    "        fig, ax = plt.subplots(figsize=(6, 6))\n",
    "        ax.scatter(xy[:, 0], xy[:, 1], color=\"orange\")\n",
    "        ax.add_patch(plt.Circle((0, 0), self.radius, color=\"darkred\", fill=False))\n",
    "        ax.set_aspect(\"equal\", adjustable=\"box\")\n",
    "        ax.set_xlabel(\"x\")\n",
    "        ax.set_ylabel(\"y\")\n",
    "        ax.set_title(f\"N = {self.n_charges}\")\n",
    "        return fig"
   ]
  },
  {
   "cell_type": "markdown",
   "metadata": {},
   "source": [
    "There are $2 N$ variables for this problem, and we order them as $(x_0, y_0, \\ldots, x_{N-1}, y_{N-1})$. This is convenient, since the numpy reshaping operation `vars_float.reshape(n_charges, 2)` then represents an array of $(x_i, y_i)$ type arrays, which is handy for calculations.\n",
    "\n",
    "Notice the two functions `apply_individual` and `apply_population`. They are being called during optimization whenever new variables are being set by the optimizer, and their purpose is to update the data in the problem class accordingly (excluding objectives and constraints, which we will deal with shortly).\n",
    "\n",
    "The difference between the two functions is that `apply_individual` evaluates a single vector of new problem variables, whereas `apply_population` handles a full population of such vectors. The implementation of the latter function is not strictly required (alternatively a loop over individuals of the population will be evaluated), but it provides a chance for a vast speed-up by vectorized evaluation. This is particularly beneficial for genetic algorithms or other easily vectorizable approaches (in fact also the gradient calculation via `iwopy` discretizations makes use of this vectorization). Of course the chosen optimizer must be able to support vectorized evaluation for this to work. Both functions return any kind of evaluation data which will be forwarded to the objective and constraint evaluation.\n",
    "\n",
    "So far we have only defined the problem variables. Objectives and constraints can be added to the problem via the `add_objective` and `add_constraint` functions, respectively. First, we implement the inverse distance potential as our objective:"
   ]
  },
  {
   "cell_type": "code",
   "execution_count": 14,
   "metadata": {
    "execution": {
     "iopub.execute_input": "2022-10-18T12:16:55.981286Z",
     "iopub.status.busy": "2022-10-18T12:16:55.981030Z",
     "iopub.status.idle": "2022-10-18T12:16:55.987651Z",
     "shell.execute_reply": "2022-10-18T12:16:55.987082Z"
    }
   },
   "outputs": [],
   "source": [
    "class MinPotential(Objective):\n",
    "    def __init__(self, problem):\n",
    "        \"\"\"Define the same variable names and ordering as in the problem\"\"\"\n",
    "        super().__init__(problem, \"potential\", vnames_float=problem.var_names_float())\n",
    "        self.n_charges = problem.n_charges\n",
    "\n",
    "    def n_components(self):\n",
    "        \"\"\"The potential is a scalar function, hence one component\"\"\"\n",
    "        return 1\n",
    "\n",
    "    def maximize(self):\n",
    "        \"\"\"Indicates that the single component is to be minimized\"\"\"\n",
    "        return [False]\n",
    "\n",
    "    def calc_individual(self, vars_int, vars_float, problem_results, components=None):\n",
    "        \"\"\"This evaluates the potential. See problem.apply_individual\n",
    "        for problem results\"\"\"\n",
    "        xy = problem_results\n",
    "        value = 0.0\n",
    "        for i in range(1, self.n_charges):\n",
    "            dist = np.maximum(np.linalg.norm(xy[i - 1, None] - xy[i:], axis=-1), 1e-10)\n",
    "            value += 2 * np.sum(1 / dist)\n",
    "        return value\n",
    "\n",
    "    def calc_population(self, vars_int, vars_float, problem_results, components=None):\n",
    "        \"\"\"This evaluates the potential in vectorized manner.\n",
    "        See problem.apply_population for problem results\"\"\"\n",
    "        xy = problem_results\n",
    "        n_pop = len(xy)\n",
    "        value = np.zeros((n_pop, 1))\n",
    "        for i in range(1, self.n_charges):\n",
    "            dist = np.maximum(np.linalg.norm(xy[:, i - 1, None] - xy[:, i:], axis=-1), 1e-10)\n",
    "            value[:, 0] += 2 * np.sum(1 / dist, axis=1)\n",
    "        return value"
   ]
  },
  {
   "cell_type": "markdown",
   "metadata": {},
   "source": [
    "Notice that the functions `calc_individual` and its (again optional) vectorized correspondent `calc_population` do not directly make use of the variables vector `vars_float`, which they could (and it would be perfectly fine, even intended), but instead of the `problem_results` provided by the problem functions `apply_individual` and `apply_population`.\n",
    "\n",
    "Next, we implement the $N$ radial constraints:"
   ]
  },
  {
   "cell_type": "code",
   "execution_count": 15,
   "metadata": {
    "execution": {
     "iopub.execute_input": "2022-10-18T12:16:55.990329Z",
     "iopub.status.busy": "2022-10-18T12:16:55.989936Z",
     "iopub.status.idle": "2022-10-18T12:16:55.996717Z",
     "shell.execute_reply": "2022-10-18T12:16:55.996057Z"
    }
   },
   "outputs": [],
   "source": [
    "class MaxRadius(Constraint):\n",
    "    def __init__(self, problem, tol=1e-2):\n",
    "        \"\"\"Define the same variable names and ordering as in the problem\"\"\"\n",
    "        super().__init__(\n",
    "            problem, \"radius\", vnames_float=problem.var_names_float(), tol=tol\n",
    "        )\n",
    "        self.n_charges = problem.n_charges\n",
    "        self.radius = problem.radius\n",
    "\n",
    "    def n_components(self):\n",
    "        \"\"\"One constraint per charge\"\"\"\n",
    "        return self.n_charges\n",
    "\n",
    "    def vardeps_float(self):\n",
    "        \"\"\"Boolean array that defines which component depends\n",
    "        on which variable (optional, default is on all)\"\"\"\n",
    "        deps = np.zeros((self.n_components(), self.n_charges, 2), dtype=bool)\n",
    "        np.fill_diagonal(deps[..., 0], True)\n",
    "        np.fill_diagonal(deps[..., 1], True)\n",
    "        return deps.reshape(self.n_components(), 2 * self.n_charges)\n",
    "\n",
    "    def calc_individual(self, vars_int, vars_float, problem_results, components=None):\n",
    "        \"\"\"This evaluates the constraints, negative values are valid.\n",
    "        See problem.apply_individual for problem results\"\"\"\n",
    "        components = np.s_[:] if components is None else components\n",
    "        xy = problem_results[components]\n",
    "        r = np.linalg.norm(xy, axis=-1)\n",
    "        return r - self.radius\n",
    "\n",
    "    def calc_population(self, vars_int, vars_float, problem_results, components=None):\n",
    "        \"\"\"This evaluates the constraints in vectorized manner,\n",
    "        negative values are valid. See problem.apply_population for\n",
    "        problem results\"\"\"\n",
    "        components = np.s_[:] if components is None else components\n",
    "        xy = problem_results[:, components]\n",
    "        r = np.linalg.norm(xy, axis=-1)\n",
    "        return r - self.radius"
   ]
  },
  {
   "cell_type": "markdown",
   "metadata": {},
   "source": [
    "Note that by default, negative constraint values represent validity. This can be changed by overloading the function `get_bounds` of the base class, see API, but is not recommended.\n",
    "\n",
    "Also note that the function `vardeps_float` is only relevant for gradient based solvers that support gradient sparsity (e.g. `pygmo.ipopt`). It is irrelevant for the genetic algorithm that we want to use in this example, but added for the sake of completeness.\n",
    "\n",
    "Now let's add the objective and the constraints and initialize the problem:"
   ]
  },
  {
   "cell_type": "code",
   "execution_count": 16,
   "metadata": {
    "execution": {
     "iopub.execute_input": "2022-10-18T12:16:55.999393Z",
     "iopub.status.busy": "2022-10-18T12:16:55.999003Z",
     "iopub.status.idle": "2022-10-18T12:16:56.169503Z",
     "shell.execute_reply": "2022-10-18T12:16:56.168848Z"
    }
   },
   "outputs": [
    {
     "name": "stdout",
     "output_type": "stream",
     "text": [
      "Problem 'charges_problem' (ChargesProblem): Initializing\n",
      "--------------------------------------------------------\n",
      "  n_vars_int   : 0\n",
      "  n_vars_float : 40\n",
      "--------------------------------------------------------\n",
      "  n_objectives : 1\n",
      "  n_obj_cmptns : 1\n",
      "--------------------------------------------------------\n",
      "  n_constraints: 1\n",
      "  n_con_cmptns : 20\n",
      "--------------------------------------------------------\n"
     ]
    },
    {
     "data": {
      "image/png": "[encoded data removed]",
      "text/plain": [
       "<Figure size 432x432 with 1 Axes>"
      ]
     },
     "metadata": {
      "needs_background": "light"
     },
     "output_type": "display_data"
    }
   ],
   "source": [
    "N = 20\n",
    "R = 5\n",
    "\n",
    "# generate random initial coordinates of the N charges:\n",
    "xy = np.random.uniform(-R / 10.0, R / 10.0, (N, 2))\n",
    "\n",
    "problem = ChargesProblem(xy, R)\n",
    "problem.add_objective(MinPotential(problem))\n",
    "problem.add_constraint(MaxRadius(problem))\n",
    "problem.initialize()\n",
    "\n",
    "fig = problem.get_fig(xy)\n",
    "plt.show()"
   ]
  },
  {
   "cell_type": "markdown",
   "metadata": {},
   "source": [
    "Finally, we can now setup the genetic solver [GA from pymoo](https://pymoo.org/algorithms/soo/ga.html) and solve the problem, here in vectorized form (flag `vectorize=True`):"
   ]
  },
  {
   "cell_type": "code",
   "execution_count": 17,
   "metadata": {
    "execution": {
     "iopub.execute_input": "2022-10-18T12:16:56.171929Z",
     "iopub.status.busy": "2022-10-18T12:16:56.171734Z",
     "iopub.status.idle": "2022-10-18T12:16:58.752096Z",
     "shell.execute_reply": "2022-10-18T12:16:58.751484Z"
    }
   },
   "outputs": [
    {
     "name": "stdout",
     "output_type": "stream",
     "text": [
      "Initializing Optimizer_pymoo\n",
      "Selecting sampling: float_random (FloatRandomSampling)\n",
      "Selecting algorithm: ga (GA)\n",
      "Selecting termination: default (DefaultSingleObjectiveTermination)\n",
      "\n",
      "Problem:\n",
      "--------\n",
      "  vectorize: True\n",
      "\n",
      "Algorithm:\n",
      "----------\n",
      "  type: ga\n",
      "  pop_size: 100\n",
      "\n",
      "Termination:\n",
      "------------\n",
      "  n_max_gen: 300\n",
      "  ftol: 1e-06\n",
      "  xtol: 1e-06\n",
      "\n"
     ]
    },
    {
     "name": "stdout",
     "output_type": "stream",
     "text": [
      "\n",
      "\n",
      "Optimizer_pymoo: Optimization run finished\n",
      "  Success: True\n",
      "  Best potential = 78.18857190516454\n"
     ]
    }
   ],
   "source": [
    "solver = Optimizer_pymoo(\n",
    "    problem,\n",
    "    problem_pars=dict( \n",
    "        vectorize=True,\n",
    "    ), \n",
    "    algo_pars=dict(\n",
    "        type=\"ga\",\n",
    "        pop_size=100,\n",
    "    ),\n",
    "    setup_pars=dict(),\n",
    "    term_pars=dict(\n",
    "        type=\"default\",\n",
    "        n_max_gen=300,\n",
    "        ftol=1e-6,\n",
    "        xtol=1e-6,\n",
    "    ),\n",
    ")\n",
    "solver.initialize()\n",
    "solver.print_info()\n",
    "\n",
    "results = solver.solve(verbosity=0)\n",
    "solver.finalize(results)"
   ]
  },
  {
   "cell_type": "code",
   "execution_count": 18,
   "metadata": {
    "execution": {
     "iopub.execute_input": "2022-10-18T12:16:58.754372Z",
     "iopub.status.busy": "2022-10-18T12:16:58.754177Z",
     "iopub.status.idle": "2022-10-18T12:16:58.844081Z",
     "shell.execute_reply": "2022-10-18T12:16:58.843316Z"
    }
   },
   "outputs": [
    {
     "name": "stdout",
     "output_type": "stream",
     "text": [
      "Results problem 'charges_problem':\n",
      "-----------------------------------\n",
      "  Float variables:\n",
      "    0: x0  = -3.925133e-01\n",
      "    1: y0  = 4.984564e+00\n",
      "    2: x1  = 2.009662e+00\n",
      "    3: y1  = -1.038737e-01\n",
      "    4: x2  = 4.998999e+00\n",
      "    5: y2  = 9.778929e-02\n",
      "    6: x3  = -4.118869e+00\n",
      "    7: y3  = 2.830489e+00\n",
      "    8: x4  = -4.833042e+00\n",
      "    9: y4  = 1.280245e+00\n",
      "    10: x5  = -2.121311e+00\n",
      "    11: y5  = -4.526235e+00\n",
      "    12: x6  = 4.712112e+00\n",
      "    13: y6  = -1.668366e+00\n",
      "    14: x7  = -4.581949e+00\n",
      "    15: y7  = -1.999117e+00\n",
      "    16: x8  = 2.969553e-01\n",
      "    17: y8  = -4.990680e+00\n",
      "    18: x9  = -2.411494e+00\n",
      "    19: y9  = 4.378015e+00\n",
      "    20: x10 = 2.229446e-01\n",
      "    21: y10 = 2.613455e+00\n",
      "    22: x11 = -1.853519e+00\n",
      "    23: y11 = 3.172475e-01\n",
      "    24: x12 = -1.617366e-01\n",
      "    25: y12 = -2.637144e+00\n",
      "    26: x13 = 3.843683e+00\n",
      "    27: y13 = -3.191130e+00\n",
      "    28: x14 = -4.984760e+00\n",
      "    29: y14 = -3.824262e-01\n",
      "    30: x15 = 2.512846e+00\n",
      "    31: y15 = -4.320552e+00\n",
      "    32: x16 = 3.377094e+00\n",
      "    33: y16 = 3.686986e+00\n",
      "    34: x17 = 4.649424e+00\n",
      "    35: y17 = 1.838915e+00\n",
      "    36: x18 = 1.897129e+00\n",
      "    37: y18 = 4.626067e+00\n",
      "    38: x19 = -3.721012e+00\n",
      "    39: y19 = -3.338556e+00\n",
      "-----------------------------------\n",
      "  Objectives:\n",
      "    0: potential = 7.818857e+01\n",
      "-----------------------------------\n",
      "  Constraints:\n",
      "    0: radius_0  = -5.273076e-06\n",
      "    1: radius_1  = -2.987656e+00\n",
      "    2: radius_2  = -4.452101e-05\n",
      "    3: radius_3  = -2.325494e-03\n",
      "    4: radius_4  = -2.683414e-04\n",
      "    5: radius_5  = -1.323643e-03\n",
      "    6: radius_6  = -1.255340e-03\n",
      "    7: radius_7  = -9.274631e-04\n",
      "    8: radius_8  = -4.928508e-04\n",
      "    9: radius_9  = -1.768378e-03\n",
      "    10: radius_10 = -2.377052e+00\n",
      "    11: radius_11 = -3.119527e+00\n",
      "    12: radius_12 = -2.357901e+00\n",
      "    13: radius_13 = -4.280803e-03\n",
      "    14: radius_14 = -5.918043e-04\n",
      "    15: radius_15 = -1.844332e-03\n",
      "    16: radius_16 = -1.365413e-04\n",
      "    17: radius_17 = -1.249597e-04\n",
      "    18: radius_18 = -4.008799e-05\n",
      "    19: radius_19 = -8.114325e-04\n",
      "-----------------------------------\n",
      "  Success: True\n",
      "-----------------------------------\n",
      "\n"
     ]
    },
    {
     "data": {
      "image/png": "[encoded data removed]",
      "text/plain": [
       "<Figure size 432x432 with 1 Axes>"
      ]
     },
     "metadata": {
      "needs_background": "light"
     },
     "output_type": "display_data"
    }
   ],
   "source": [
    "print(results)\n",
    "\n",
    "xy = results.problem_results\n",
    "fig = problem.get_fig(xy)\n",
    "plt.show()"
   ]
  },
  {
   "cell_type": "markdown",
   "metadata": {},
   "source": [
    "Note that this problem has many equivalent solutions, and the displayed result is the best solution that the genetic algorithm was able to find within its convergence criteria. With heuristic methods there is generally no guarantee or proof that a global optimum has been found. However, the objective function has clearly been minimized, and therefore the \"design\" was improved which is often the goal in engineering tasks.\n",
    "\n",
    "For the fun of it, let's also solve the problem using iwopy's `GG` solver (stands for _Greedy Gradient_), now for 50 charges. This solver is a simple steepest decent algorithm which projects out directions that would violate constraints (and reverts those that already do). It supports iwopy's vectorization capabilities and hence can run fast for many variables. Of course it is not as advanced as other gradient based solvers, but for this particular problem it does a good job:"
   ]
  },
  {
   "cell_type": "code",
   "execution_count": 19,
   "metadata": {
    "execution": {
     "iopub.execute_input": "2022-10-18T12:16:58.847179Z",
     "iopub.status.busy": "2022-10-18T12:16:58.846807Z",
     "iopub.status.idle": "2022-10-18T12:16:58.850606Z",
     "shell.execute_reply": "2022-10-18T12:16:58.849895Z"
    }
   },
   "outputs": [],
   "source": [
    "from iwopy.optimizers import GG"
   ]
  },
  {
   "cell_type": "code",
   "execution_count": 20,
   "metadata": {
    "execution": {
     "iopub.execute_input": "2022-10-18T12:16:58.853323Z",
     "iopub.status.busy": "2022-10-18T12:16:58.853002Z",
     "iopub.status.idle": "2022-10-18T12:17:03.130903Z",
     "shell.execute_reply": "2022-10-18T12:17:03.130275Z"
    },
    "scrolled": true
   },
   "outputs": [
    {
     "name": "stdout",
     "output_type": "stream",
     "text": [
      "Problem 'charges_problem' (ChargesProblem): Initializing\n",
      "--------------------------------------------------------\n",
      "  n_vars_int   : 0\n",
      "  n_vars_float : 100\n",
      "--------------------------------------------------------\n",
      "  n_objectives : 1\n",
      "  n_obj_cmptns : 1\n",
      "--------------------------------------------------------\n",
      "  n_constraints: 1\n",
      "  n_con_cmptns : 50\n",
      "--------------------------------------------------------\n",
      "Problem 'charges_problem_fd' (LocalFD): Initializing\n",
      "----------------------------------------------------\n",
      "  n_vars_int   : 0\n",
      "  n_vars_float : 100\n",
      "----------------------------------------------------\n",
      "  n_objectives : 1\n",
      "  n_obj_cmptns : 1\n",
      "----------------------------------------------------\n",
      "  n_constraints: 1\n",
      "  n_con_cmptns : 50\n",
      "----------------------------------------------------\n"
     ]
    },
    {
     "name": "stdout",
     "output_type": "stream",
     "text": [
      "GG: Optimization run finished\n",
      "  Success: True\n",
      "  Best potential = 587.9654163422571\n",
      "Results problem 'charges_problem_fd':\n",
      "--------------------------------------\n",
      "  Float variables:\n",
      "    0: x0  = -1.236208e+00\n",
      "    1: y0  = -1.708999e+00\n",
      "    2: x1  = 2.013002e+00\n",
      "    3: y1  = -7.886082e-01\n",
      "    4: x2  = 4.314693e+00\n",
      "    5: y2  = 2.526550e+00\n",
      "    6: x3  = -4.015066e+00\n",
      "    7: y3  = 2.979854e+00\n",
      "    8: x4  = 3.499176e+00\n",
      "    9: y4  = 1.678460e+00\n",
      "    10: x5  = -1.362974e+00\n",
      "    11: y5  = 4.810645e+00\n",
      "    12: x6  = -3.607953e+00\n",
      "    13: y6  = 1.023309e+00\n",
      "    14: x7  = -2.483641e+00\n",
      "    15: y7  = -4.339552e+00\n",
      "    16: x8  = 4.673964e+00\n",
      "    17: y8  = -1.775998e+00\n",
      "    18: x9  = 1.630472e+00\n",
      "    19: y9  = -4.726692e+00\n",
      "    20: x10 = -3.654452e+00\n",
      "    21: y10 = -8.957545e-01\n",
      "    22: x11 = 2.247764e+00\n",
      "    23: y11 = 3.022091e+00\n",
      "    24: x12 = -4.889755e+00\n",
      "    25: y12 = -1.044440e+00\n",
      "    26: x13 = -4.900226e-01\n",
      "    27: y13 = -4.975941e+00\n",
      "    28: x14 = 3.663091e+00\n",
      "    29: y14 = 3.403210e+00\n",
      "    30: x15 = 2.818225e+00\n",
      "    31: y15 = 4.130087e+00\n",
      "    32: x16 = 4.150963e+00\n",
      "    33: y16 = -2.787393e+00\n",
      "    34: x17 = -4.560103e+00\n",
      "    35: y17 = -2.050762e+00\n",
      "    36: x18 = -2.374185e+00\n",
      "    37: y18 = 4.400368e+00\n",
      "    38: x19 = 4.945479e+00\n",
      "    39: y19 = -7.364235e-01\n",
      "    40: x20 = -1.415240e+00\n",
      "    41: y20 = 1.641640e+00\n",
      "    42: x21 = -4.036053e+00\n",
      "    43: y21 = -2.951396e+00\n",
      "    44: x22 = -4.551125e+00\n",
      "    45: y22 = 2.070613e+00\n",
      "    46: x23 = 1.858505e+00\n",
      "    47: y23 = 4.641763e+00\n",
      "    48: x24 = 4.783005e+00\n",
      "    49: y24 = 1.457018e+00\n",
      "    50: x25 = 3.391337e+00\n",
      "    51: y25 = -1.803648e+00\n",
      "    52: x26 = -3.088196e-01\n",
      "    53: y26 = 4.990453e+00\n",
      "    54: x27 = 5.727371e-01\n",
      "    55: y27 = -4.967097e+00\n",
      "    56: x28 = -1.255281e+00\n",
      "    57: y28 = -3.510220e+00\n",
      "    58: x29 = -3.246922e+00\n",
      "    59: y29 = 3.802313e+00\n",
      "    60: x30 = 4.985018e+00\n",
      "    61: y30 = 3.868391e-01\n",
      "    62: x31 = 2.181194e+00\n",
      "    63: y31 = -3.056698e+00\n",
      "    64: x32 = -2.798771e+00\n",
      "    65: y32 = 2.617715e+00\n",
      "    66: x33 = 5.839424e-01\n",
      "    67: y33 = 3.781091e+00\n",
      "    68: x34 = 3.776890e+00\n",
      "    69: y34 = -5.245396e-02\n",
      "    70: x35 = 7.953584e-01\n",
      "    71: y35 = 4.936334e+00\n",
      "    72: x36 = 1.936926e+00\n",
      "    73: y36 = 1.085468e+00\n",
      "    74: x37 = -3.324688e+00\n",
      "    75: y37 = -3.734501e+00\n",
      "    76: x38 = -5.000000e+00\n",
      "    77: y38 = 3.700560e-03\n",
      "    78: x39 = -2.157369e+00\n",
      "    79: y39 = -7.152338e-02\n",
      "    80: x40 = 4.948472e-01\n",
      "    81: y40 = -3.750252e+00\n",
      "    82: x41 = 6.153006e-01\n",
      "    83: y41 = -2.035853e+00\n",
      "    84: x42 = 2.268677e-02\n",
      "    85: y42 = 3.690313e-02\n",
      "    86: x43 = 3.978828e-01\n",
      "    87: y43 = 2.136130e+00\n",
      "    88: x44 = -1.523031e+00\n",
      "    89: y44 = -4.762399e+00\n",
      "    90: x45 = 2.588252e+00\n",
      "    91: y45 = -4.277966e+00\n",
      "    92: x46 = -2.816180e+00\n",
      "    93: y46 = -2.473878e+00\n",
      "    94: x47 = 3.461650e+00\n",
      "    95: y47 = -3.607915e+00\n",
      "    96: x48 = -1.206654e+00\n",
      "    97: y48 = 3.542324e+00\n",
      "    98: x49 = -4.891478e+00\n",
      "    99: y49 = 1.036359e+00\n",
      "--------------------------------------\n",
      "  Objectives:\n",
      "    0: potential = 5.879654e+02\n",
      "--------------------------------------\n",
      "  Constraints:\n",
      "    0: radius_0  = -2.890761e+00\n",
      "    1: radius_1  = -2.838038e+00\n",
      "    2: radius_2  = 3.491675e-06\n",
      "    3: radius_3  = 2.794606e-05\n",
      "    4: radius_4  = -1.119091e+00\n",
      "    5: radius_5  = 6.028581e-07\n",
      "    6: radius_6  = -1.249735e+00\n",
      "    7: radius_7  = 1.837549e-05\n",
      "    8: radius_8  = 1.050980e-05\n",
      "    9: radius_9  = 5.701033e-06\n",
      "    10: radius_10 = -1.237368e+00\n",
      "    11: radius_11 = -1.233638e+00\n",
      "    12: radius_12 = 5.596730e-05\n",
      "    13: radius_13 = 1.078150e-05\n",
      "    14: radius_14 = 7.145725e-06\n",
      "    15: radius_15 = 7.171671e-07\n",
      "    16: radius_16 = 5.429440e-06\n",
      "    17: radius_17 = 1.651152e-05\n",
      "    18: radius_18 = -5.045368e-07\n",
      "    19: radius_19 = 7.923529e-06\n",
      "    20: radius_20 = -2.832539e+00\n",
      "    21: radius_21 = 4.630492e-05\n",
      "    22: radius_22 = 1.812114e-05\n",
      "    23: radius_23 = 5.300602e-07\n",
      "    24: radius_24 = 4.062323e-06\n",
      "    25: radius_25 = -1.158866e+00\n",
      "    26: radius_26 = -1.239135e-06\n",
      "    27: radius_27 = 7.767202e-06\n",
      "    28: radius_28 = -1.272082e+00\n",
      "    29: radius_29 = 8.179690e-06\n",
      "    30: radius_30 = 4.949858e-06\n",
      "    31: radius_31 = -1.244869e+00\n",
      "    32: radius_32 = -1.167827e+00\n",
      "    33: radius_33 = -1.174083e+00\n",
      "    34: radius_34 = -1.222746e+00\n",
      "    35: radius_35 = -1.631635e-06\n",
      "    36: radius_36 = -2.779657e+00\n",
      "    37: radius_37 = 4.848075e-06\n",
      "    38: radius_38 = 1.369414e-06\n",
      "    39: radius_39 = -2.841445e+00\n",
      "    40: radius_40 = -1.217241e+00\n",
      "    41: radius_41 = -2.873197e+00\n",
      "    42: radius_42 = -4.956681e+00\n",
      "    43: radius_43 = -2.827130e+00\n",
      "    44: radius_44 = 6.913378e-06\n",
      "    45: radius_45 = 4.616045e-06\n",
      "    46: radius_46 = -1.251541e+00\n",
      "    47: radius_47 = 6.784496e-06\n",
      "    48: radius_48 = -1.257798e+00\n",
      "    49: radius_49 = 5.933672e-05\n",
      "--------------------------------------\n",
      "  Success: True\n",
      "--------------------------------------\n",
      "\n"
     ]
    }
   ],
   "source": [
    "N = 50\n",
    "R = 5\n",
    "\n",
    "xy = np.random.uniform(-R / 10.0, R / 10.0, (N, 2))\n",
    "\n",
    "problem = ChargesProblem(xy, R)\n",
    "problem.add_objective(MinPotential(problem))\n",
    "problem.add_constraint(MaxRadius(problem))\n",
    "\n",
    "gproblem = LocalFD(problem, deltas=1e-2, fd_order=1)\n",
    "gproblem.initialize()\n",
    "\n",
    "solver = GG(\n",
    "    gproblem,\n",
    "    step_max=0.1,\n",
    "    step_min=1e-4,\n",
    "    vectorized=True,\n",
    ")\n",
    "solver.initialize()\n",
    "\n",
    "results = solver.solve(verbosity=0)\n",
    "solver.finalize(results)\n",
    "print(results)"
   ]
  },
  {
   "cell_type": "code",
   "execution_count": 21,
   "metadata": {
    "execution": {
     "iopub.execute_input": "2022-10-18T12:17:03.133321Z",
     "iopub.status.busy": "2022-10-18T12:17:03.133085Z",
     "iopub.status.idle": "2022-10-18T12:17:03.221117Z",
     "shell.execute_reply": "2022-10-18T12:17:03.220341Z"
    }
   },
   "outputs": [
    {
     "data": {
      "image/png": "[encoded data removed]",
      "text/plain": [
       "<Figure size 432x432 with 1 Axes>"
      ]
     },
     "metadata": {
      "needs_background": "light"
     },
     "output_type": "display_data"
    }
   ],
   "source": [
    "xy = results.problem_results\n",
    "fig = problem.get_fig(xy)\n",
    "plt.show()"
   ]
  }
 ],
 "metadata": {
  "kernelspec": {
   "display_name": "Python 3",
   "language": "python",
   "name": "python3"
  },
  "language_info": {
   "codemirror_mode": {
    "name": "ipython",
    "version": 3
   },
   "file_extension": ".py",
   "mimetype": "text/x-python",
   "name": "python",
   "nbconvert_exporter": "python",
   "pygments_lexer": "ipython3",
   "version": "3.8.10"
  },
  "vscode": {
   "interpreter": {
    "hash": "31f2aee4e71d21fbe5cf8b01ff0e069b9275f58929596ceb00d14d90e3e16cd6"
   }
  }
 },
 "nbformat": 4,
 "nbformat_minor": 2
}
